{
  "nbformat": 4,
  "nbformat_minor": 0,
  "metadata": {
    "colab": {
      "name": "021-030_exercises.ipynb",
      "provenance": [],
      "collapsed_sections": []
    },
    "kernelspec": {
      "name": "python3",
      "display_name": "Python 3"
    }
  },
  "cells": [
    {
      "cell_type": "markdown",
      "metadata": {
        "id": "WLEgCW5F1hho"
      },
      "source": [
        "## Numpy\n",
        "\n",
        "### Spis treści:\n",
        "* [Import biblioteki](#0)\n",
        "* [Ćwiczenie 21](#1)\n",
        "* [Ćwiczenie 22](#2)\n",
        "* [Ćwiczenie 23](#3)\n",
        "* [Ćwiczenie 24](#4)\n",
        "* [Ćwiczenie 25](#5)\n",
        "* [Ćwiczenie 26](#6)\n",
        "* [Ćwiczenie 27](#7)\n",
        "* [Ćwiczenie 28](#8)\n",
        "* [Ćwiczenie 29](#9)\n",
        "* [Ćwiczenie 30](#10)"
      ]
    },
    {
      "cell_type": "markdown",
      "metadata": {
        "id": "zeLOLmTj1kBM"
      },
      "source": [
        "### <a name='0'></a>Import biblioteki"
      ]
    },
    {
      "cell_type": "code",
      "metadata": {
        "id": "HXMB7SMe1Wnz",
        "colab": {
          "base_uri": "https://localhost:8080/",
          "height": 35
        },
        "outputId": "6ec1972d-82f9-43f9-a099-75a8de0f121f"
      },
      "source": [
        "import numpy as np\n",
        "\n",
        "np.__version__"
      ],
      "execution_count": null,
      "outputs": [
        {
          "output_type": "execute_result",
          "data": {
            "application/vnd.google.colaboratory.intrinsic+json": {
              "type": "string"
            },
            "text/plain": [
              "'1.19.5'"
            ]
          },
          "metadata": {
            "tags": []
          },
          "execution_count": 1
        }
      ]
    },
    {
      "cell_type": "markdown",
      "metadata": {
        "id": "cyc70pMe1oCg"
      },
      "source": [
        "### <a name='1'></a> Ćwiczenie 21\n",
        "Wygeneruj poniższą tablicę numpy. Zapisz tablicę do pliku bianarnego o nazwie _'array.npy'_ i następnie wczytaj z powrotem ten plik do innej zmiennej.\n",
        "\n",
        "\n",
        "```\n",
        "array([[ 0,  1,  2,  3],\n",
        "       [ 4,  5,  6,  7],\n",
        "       [ 8,  9, 10, 11]])\n",
        "```\n",
        "\n",
        "\n",
        "__Wskazówka:__ Użyj funkcji _np.save()_ oraz _np.load()_."
      ]
    },
    {
      "cell_type": "code",
      "metadata": {
        "id": "MhvZKgtPKAOF",
        "colab": {
          "base_uri": "https://localhost:8080/"
        },
        "outputId": "1b409696-838e-41a8-d1c1-f3f47416d3a1"
      },
      "source": [
        "A = np.arange(0,12).reshape(3,4)\n",
        "np.save('array.npy',A)\n",
        "B = np.load('array.npy')\n",
        "B"
      ],
      "execution_count": null,
      "outputs": [
        {
          "output_type": "execute_result",
          "data": {
            "text/plain": [
              "array([[ 0,  1,  2,  3],\n",
              "       [ 4,  5,  6,  7],\n",
              "       [ 8,  9, 10, 11]])"
            ]
          },
          "metadata": {
            "tags": []
          },
          "execution_count": 22
        }
      ]
    },
    {
      "cell_type": "markdown",
      "metadata": {
        "id": "J9pY1rtr1sC0"
      },
      "source": [
        "### <a name='2'></a> Ćwiczenie 22\n",
        "Wygeneruj ponizszą tablicę numpy:\n",
        "\n",
        "\n",
        "```\n",
        "array([[ 0,  1,  2,  3],\n",
        "       [ 4,  5,  6,  7],\n",
        "       [ 8,  9, 10, 11]])\n",
        "```\n",
        "\n",
        "\n",
        "Zapisz tablicę do pliku tekstowego o nazwie _'array.txt'_ z dokładnością do drugiego miejsca po przecinku i następnie wczytaj z powrotem ten plik do innej zmiennej.\n",
        "\n",
        "__Wskazówka:__ Użyj funkcji _np.savetxt()_ oraz _np.loadtxt()_.\n"
      ]
    },
    {
      "cell_type": "code",
      "metadata": {
        "id": "Ac7M7bDhLAlf",
        "colab": {
          "base_uri": "https://localhost:8080/"
        },
        "outputId": "3bdd46d2-2215-4fe1-a7d0-7597c3d04913"
      },
      "source": [
        "A = np.arange(0,12).reshape(3,4)\n",
        "np.savetxt(fname='array.npy',X=A,fmt='%0.2f')\n",
        "B = np.loadtxt(fname='array.npy')\n",
        "B"
      ],
      "execution_count": null,
      "outputs": [
        {
          "output_type": "execute_result",
          "data": {
            "text/plain": [
              "array([[ 0.,  1.,  2.,  3.],\n",
              "       [ 4.,  5.,  6.,  7.],\n",
              "       [ 8.,  9., 10., 11.]])"
            ]
          },
          "metadata": {
            "tags": []
          },
          "execution_count": 19
        }
      ]
    },
    {
      "cell_type": "markdown",
      "metadata": {
        "id": "XQLYT2m11wVG"
      },
      "source": [
        "### <a name='3'></a> Ćwiczenie 23\n",
        "Wygeneruj i przekształć poniższą tablicę numpy na listę.\n",
        "\n",
        "\n",
        "```\n",
        "array([[ 0,  1,  2,  3],\n",
        "       [ 4,  5,  6,  7],\n",
        "       [ 8,  9, 10, 11]])\n",
        "```\n",
        "\n",
        "\n",
        "\n",
        "__Wskazówka:__ Użyj metody _np.array.tolist()_."
      ]
    },
    {
      "cell_type": "code",
      "metadata": {
        "id": "Dtu-EJViT1Os",
        "colab": {
          "base_uri": "https://localhost:8080/"
        },
        "outputId": "e355106c-5697-41e8-d36a-9cc356e7dbb3"
      },
      "source": [
        "A = np.arange(0,12).reshape(3,4)\n",
        "A.tolist()"
      ],
      "execution_count": null,
      "outputs": [
        {
          "output_type": "execute_result",
          "data": {
            "text/plain": [
              "[[0, 1, 2, 3], [4, 5, 6, 7], [8, 9, 10, 11]]"
            ]
          },
          "metadata": {
            "tags": []
          },
          "execution_count": 25
        }
      ]
    },
    {
      "cell_type": "markdown",
      "metadata": {
        "id": "4xTKSUzg10MK"
      },
      "source": [
        "### <a name='4'></a> Ćwiczenie 24\n",
        "Podana jest poniższa tablica numpy:\n",
        "\n",
        "```\n",
        "array([[ 0,  1,  2,  3],\n",
        "       [ 4,  5,  6,  7],\n",
        "       [ 8,  9, 10, 11]])\n",
        "```\n",
        "Używając operatora wycinania przekształć tablicę w poniższe:\n",
        "\n",
        "* zamiana wierszy (pierwszy z ostatnim)\n",
        "\n",
        "```\n",
        "array([[ 8,  9, 10, 11],\n",
        "       [ 4,  5,  6,  7],\n",
        "       [ 0,  1,  2,  3]])\n",
        "```\n",
        "\n",
        "\n",
        "\n",
        "\n",
        "\n"
      ]
    },
    {
      "cell_type": "code",
      "metadata": {
        "id": "1iqUDmG3V7sM",
        "colab": {
          "base_uri": "https://localhost:8080/"
        },
        "outputId": "23d4f855-a72c-4fe3-975c-095482722a7f"
      },
      "source": [
        "A = np.arange(0,12).reshape(-1,4)\n",
        "A[::-1]"
      ],
      "execution_count": null,
      "outputs": [
        {
          "output_type": "execute_result",
          "data": {
            "text/plain": [
              "array([[ 8,  9, 10, 11],\n",
              "       [ 4,  5,  6,  7],\n",
              "       [ 0,  1,  2,  3]])"
            ]
          },
          "metadata": {
            "tags": []
          },
          "execution_count": 29
        }
      ]
    },
    {
      "cell_type": "markdown",
      "metadata": {
        "id": "QwFXH2dIEhMp"
      },
      "source": [
        "* zamiana kolumn (odwrócona kolejność)\n",
        "\n",
        "\n",
        "```\n",
        "array([[ 3,  2,  1,  0],\n",
        "       [ 7,  6,  5,  4],\n",
        "       [11, 10,  9,  8]])\n",
        "```\n"
      ]
    },
    {
      "cell_type": "code",
      "metadata": {
        "id": "dux6cn8YV-q_",
        "colab": {
          "base_uri": "https://localhost:8080/"
        },
        "outputId": "8937cb4f-58b1-4a12-e3a5-e6915cff12bd"
      },
      "source": [
        "A[:,::-1]"
      ],
      "execution_count": null,
      "outputs": [
        {
          "output_type": "execute_result",
          "data": {
            "text/plain": [
              "array([[ 3,  2,  1,  0],\n",
              "       [ 7,  6,  5,  4],\n",
              "       [11, 10,  9,  8]])"
            ]
          },
          "metadata": {
            "tags": []
          },
          "execution_count": 30
        }
      ]
    },
    {
      "cell_type": "markdown",
      "metadata": {
        "id": "i5mm0dexEoDe"
      },
      "source": [
        "* zamiana wierszy i kolumn (odwrócone kolejności)\n",
        "\n",
        "\n",
        "```\n",
        "array([[11, 10,  9,  8],\n",
        "       [ 7,  6,  5,  4],\n",
        "       [ 3,  2,  1,  0]])\n",
        "```       "
      ]
    },
    {
      "cell_type": "code",
      "metadata": {
        "id": "ZqkvfYoKWHLp",
        "colab": {
          "base_uri": "https://localhost:8080/"
        },
        "outputId": "85958c99-ea38-4214-a79a-468d8e5f23b6"
      },
      "source": [
        "A[::-1,::-1]"
      ],
      "execution_count": null,
      "outputs": [
        {
          "output_type": "execute_result",
          "data": {
            "text/plain": [
              "array([[11, 10,  9,  8],\n",
              "       [ 7,  6,  5,  4],\n",
              "       [ 3,  2,  1,  0]])"
            ]
          },
          "metadata": {
            "tags": []
          },
          "execution_count": 33
        }
      ]
    },
    {
      "cell_type": "markdown",
      "metadata": {
        "id": "o3HKIKlP15Ro"
      },
      "source": [
        "### <a name='5'></a> Ćwiczenie 25\n",
        "Podaną poniżej tablicę numpy:\n",
        "\n",
        "```\n",
        "array([[1., 1., 1., 1.],\n",
        "       [1., 1., 1., 1.],\n",
        "       [1., 1., 1., 1.],\n",
        "       [1., 1., 1., 1.]])\n",
        "```\n",
        "Przekształć na tablicę:\n",
        "\n",
        "\n",
        "```\n",
        "array([[0., 0., 0., 0., 0., 0.],\n",
        "       [0., 1., 1., 1., 1., 0.],\n",
        "       [0., 1., 1., 1., 1., 0.],\n",
        "       [0., 1., 1., 1., 1., 0.],\n",
        "       [0., 1., 1., 1., 1., 0.],\n",
        "       [0., 0., 0., 0., 0., 0.]])\n",
        "```\n",
        "__Wskazówka:__ Użyj funkcji _np.pad()_.\n",
        "\n",
        "\n",
        "\n"
      ]
    },
    {
      "cell_type": "code",
      "metadata": {
        "id": "enLY_Qz4qGdJ",
        "colab": {
          "base_uri": "https://localhost:8080/"
        },
        "outputId": "93728635-775d-47a4-b49e-22ebade57283"
      },
      "source": [
        "a = np.ones([4,4])\n",
        "np.pad(a,pad_width=1)"
      ],
      "execution_count": null,
      "outputs": [
        {
          "output_type": "execute_result",
          "data": {
            "text/plain": [
              "array([[0., 0., 0., 0., 0., 0.],\n",
              "       [0., 1., 1., 1., 1., 0.],\n",
              "       [0., 1., 1., 1., 1., 0.],\n",
              "       [0., 1., 1., 1., 1., 0.],\n",
              "       [0., 1., 1., 1., 1., 0.],\n",
              "       [0., 0., 0., 0., 0., 0.]])"
            ]
          },
          "metadata": {
            "tags": []
          },
          "execution_count": 40
        }
      ]
    },
    {
      "cell_type": "markdown",
      "metadata": {
        "id": "PunXd_Ey16so"
      },
      "source": [
        "### <a name='6'></a> Ćwiczenie 26\n",
        "Podaną poniżej tablicę numpy:\n",
        "\n",
        "```\n",
        "array([[0, 0, 0, 0, 0, 0],\n",
        "       [0, 0, 0, 0, 0, 0],\n",
        "       [0, 0, 0, 0, 0, 0],\n",
        "       [0, 0, 0, 0, 0, 0],\n",
        "       [0, 0, 0, 0, 0, 0],\n",
        "       [0, 0, 0, 0, 0, 0]])\n",
        "```\n",
        "Przekształć na tablicę:\n",
        "\n",
        "\n",
        "```\n",
        "array([[10,  0, 10,  0, 10,  0],\n",
        "       [ 5,  0,  5,  0,  5,  0],\n",
        "       [10,  0, 10,  0, 10,  0],\n",
        "       [ 5,  0,  5,  0,  5,  0],\n",
        "       [10,  0, 10,  0, 10,  0],\n",
        "       [ 5,  0,  5,  0,  5,  0]])\n",
        "```\n",
        "__Wskazówka:__ Użyj operatora wycinania oraz przypisz odpowiednie wartości.\n",
        "\n",
        "\n",
        "\n"
      ]
    },
    {
      "cell_type": "code",
      "metadata": {
        "id": "xOVKpjvMr7bX",
        "colab": {
          "base_uri": "https://localhost:8080/"
        },
        "outputId": "d5a229a7-b82e-4d33-f432-15c03caf9e2d"
      },
      "source": [
        "A = np.zeros([6,6],dtype=int)\n",
        "A[::2,::2] = 10\n",
        "A[1::2,::2] = 5\n",
        "A"
      ],
      "execution_count": null,
      "outputs": [
        {
          "output_type": "execute_result",
          "data": {
            "text/plain": [
              "array([[10,  0, 10,  0, 10,  0],\n",
              "       [ 5,  0,  5,  0,  5,  0],\n",
              "       [10,  0, 10,  0, 10,  0],\n",
              "       [ 5,  0,  5,  0,  5,  0],\n",
              "       [10,  0, 10,  0, 10,  0],\n",
              "       [ 5,  0,  5,  0,  5,  0]])"
            ]
          },
          "metadata": {
            "tags": []
          },
          "execution_count": 47
        }
      ]
    },
    {
      "cell_type": "markdown",
      "metadata": {
        "id": "hOhqDRz618Tx"
      },
      "source": [
        "### <a name='7'></a> Ćwiczenie 27\n",
        "Połącz podane poniżej tablice $A$ oraz $B$ w jedną.\n",
        "\n",
        "\n",
        "```\n",
        "A = np.arange(12).reshape(-1, 4)\n",
        "B = np.array([[4, 3, 7, 2],\n",
        "              [0, 5, 2, 6]])\n",
        "```\n",
        "\n",
        "\n",
        "\n",
        "\n",
        "__Oczekiwany rezultat:__\n",
        "\n",
        "\n",
        "```\n",
        "array([[ 0,  1,  2,  3],\n",
        "       [ 4,  5,  6,  7],\n",
        "       [ 8,  9, 10, 11],\n",
        "       [ 4,  3,  7,  2],\n",
        "       [ 0,  5,  2,  6]])\n",
        "```\n",
        "__Wskazówka:__ Użyj funkcji _np.append()_.\n"
      ]
    },
    {
      "cell_type": "code",
      "metadata": {
        "id": "CCHfKU4Y3Z-X"
      },
      "source": [
        "A = np.arange(12).reshape(-1, 4)\n",
        "B = np.array([[4, 3, 7, 2],\n",
        "              [0, 5, 2, 6]])"
      ],
      "execution_count": null,
      "outputs": []
    },
    {
      "cell_type": "code",
      "metadata": {
        "colab": {
          "base_uri": "https://localhost:8080/"
        },
        "id": "9uDpaCyWjpZj",
        "outputId": "0763af09-dd22-453d-9668-5ff8bb9553fe"
      },
      "source": [
        "np.append(A,B).reshape(-1,4)"
      ],
      "execution_count": null,
      "outputs": [
        {
          "output_type": "execute_result",
          "data": {
            "text/plain": [
              "array([[ 0,  1,  2,  3],\n",
              "       [ 4,  5,  6,  7],\n",
              "       [ 8,  9, 10, 11],\n",
              "       [ 4,  3,  7,  2],\n",
              "       [ 0,  5,  2,  6]])"
            ]
          },
          "metadata": {
            "tags": []
          },
          "execution_count": 51
        }
      ]
    },
    {
      "cell_type": "markdown",
      "metadata": {
        "id": "TXUd_4631-gw"
      },
      "source": [
        "### <a name='8'></a> Ćwiczenie 28\n",
        "Z podanych poniżej tablic $A$ i $B$ wydobądź elementy wspólne (przecięcie) tablic.\n",
        "\n",
        "```\n",
        "A = np.arange(8).reshape(-1, 4)\n",
        "B = np.array([[9, 10, 11, 3],\n",
        "              [2, 8, 0, 9]])      \n",
        "```\n",
        "\n",
        "\n",
        "\n",
        "__Wskazówka:__ Użyj funkcji _np.intersect1d()_."
      ]
    },
    {
      "cell_type": "code",
      "metadata": {
        "id": "pgvyad4UCI6Q"
      },
      "source": [
        "A = np.arange(8).reshape(-1, 4)\n",
        "B = np.array([[9, 10, 11, 3],\n",
        "              [2, 8, 0, 9]])   "
      ],
      "execution_count": null,
      "outputs": []
    },
    {
      "cell_type": "code",
      "metadata": {
        "colab": {
          "base_uri": "https://localhost:8080/"
        },
        "id": "paIv5Bo6luSW",
        "outputId": "fa65ac58-fd4e-47c4-e515-573b7a6640ec"
      },
      "source": [
        "np.intersect1d(A,B)"
      ],
      "execution_count": null,
      "outputs": [
        {
          "output_type": "execute_result",
          "data": {
            "text/plain": [
              "array([0, 2, 3])"
            ]
          },
          "metadata": {
            "tags": []
          },
          "execution_count": 54
        }
      ]
    },
    {
      "cell_type": "markdown",
      "metadata": {
        "id": "tgI6xEn-2AQo"
      },
      "source": [
        "### <a name='9'></a> Ćwiczenie 29\n",
        "Podana jest poniższa tablica numpy $A$.\n",
        "Znajdź unikalne wartości tej tablicy.\n",
        "\n",
        "\n",
        "```\n",
        "A = np.array([[5, 1, 2, 1, 2],\n",
        "              [9, 1, 9, 7, 5],\n",
        "              [4, 1, 5, 7, 9]])\n",
        "```\n",
        "\n",
        "\n",
        "__Wskazówka:__ Użyj funkcji _np.unique()_."
      ]
    },
    {
      "cell_type": "code",
      "metadata": {
        "id": "h3Q6RADIELkH"
      },
      "source": [
        "A = np.array([[5, 1, 2, 1, 2],\n",
        "              [9, 1, 9, 7, 5],\n",
        "              [4, 1, 5, 7, 9]])"
      ],
      "execution_count": null,
      "outputs": []
    },
    {
      "cell_type": "code",
      "metadata": {
        "colab": {
          "base_uri": "https://localhost:8080/"
        },
        "id": "X2cgbLjsmD9S",
        "outputId": "e7b69c02-00ef-4982-9b98-1debf4365b84"
      },
      "source": [
        "np.unique(A)"
      ],
      "execution_count": null,
      "outputs": [
        {
          "output_type": "execute_result",
          "data": {
            "text/plain": [
              "array([1, 2, 4, 5, 7, 9])"
            ]
          },
          "metadata": {
            "tags": []
          },
          "execution_count": 56
        }
      ]
    },
    {
      "cell_type": "markdown",
      "metadata": {
        "id": "wxhpf-uq2B1I"
      },
      "source": [
        "### <a name='10'></a> Ćwiczenie 30\n",
        "Podana jest poniższa tablica:\n",
        "\n",
        "\n",
        "```\n",
        "A = np.array([[0.4, 0.3, 0.3],\n",
        "              [0.1, 0.1, 0.8],\n",
        "              [0.2, 0.5, 0.3]])\n",
        "```\n",
        "\n",
        "\n",
        "\n",
        "Zwróć indeksy na których stoją maksymalne wartości dla danego wiersza.\n",
        "\n",
        "__Wskazówka:__ Użyj funkcji _np.argmax()_."
      ]
    },
    {
      "cell_type": "code",
      "metadata": {
        "id": "YcQFRYUyFWbY"
      },
      "source": [
        "A = np.array([[0.4, 0.3, 0.3],\n",
        "              [0.1, 0.1, 0.8],\n",
        "              [0.2, 0.5, 0.3]])"
      ],
      "execution_count": null,
      "outputs": []
    },
    {
      "cell_type": "code",
      "metadata": {
        "colab": {
          "base_uri": "https://localhost:8080/"
        },
        "id": "2LDq8uoLoaxR",
        "outputId": "07333b3f-aff6-4d74-ee9a-8f99fecfc96e"
      },
      "source": [
        "np.argmax(A,axis=1)"
      ],
      "execution_count": null,
      "outputs": [
        {
          "output_type": "execute_result",
          "data": {
            "text/plain": [
              "array([0, 2, 1])"
            ]
          },
          "metadata": {
            "tags": []
          },
          "execution_count": 65
        }
      ]
    }
  ]
}