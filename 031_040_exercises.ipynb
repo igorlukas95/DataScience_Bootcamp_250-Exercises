{
  "nbformat": 4,
  "nbformat_minor": 0,
  "metadata": {
    "colab": {
      "name": "031-040_exercises.ipynb",
      "provenance": [],
      "collapsed_sections": []
    },
    "kernelspec": {
      "name": "python3",
      "display_name": "Python 3"
    }
  },
  "cells": [
    {
      "cell_type": "markdown",
      "metadata": {
        "id": "WLEgCW5F1hho"
      },
      "source": [
        "## Numpy\n",
        "\n",
        "### Spis treści:\n",
        "* [Import biblioteki](#0)\n",
        "* [Ćwiczenie 31](#1)\n",
        "* [Ćwiczenie 32](#2)\n",
        "* [Ćwiczenie 33](#3)\n",
        "* [Ćwiczenie 34](#4)\n",
        "* [Ćwiczenie 35](#5)\n",
        "* [Ćwiczenie 36](#6)\n",
        "* [Ćwiczenie 37](#7)\n",
        "* [Ćwiczenie 38](#8)\n",
        "* [Ćwiczenie 39](#9)\n",
        "* [Ćwiczenie 40](#10)"
      ]
    },
    {
      "cell_type": "markdown",
      "metadata": {
        "id": "zeLOLmTj1kBM"
      },
      "source": [
        "### <a name='0'></a>Import biblioteki"
      ]
    },
    {
      "cell_type": "code",
      "metadata": {
        "id": "HXMB7SMe1Wnz",
        "colab": {
          "base_uri": "https://localhost:8080/",
          "height": 35
        },
        "outputId": "be04b4d1-48d8-4b3d-b3de-3c80330e7bd7"
      },
      "source": [
        "import numpy as np\n",
        "\n",
        "np.__version__"
      ],
      "execution_count": null,
      "outputs": [
        {
          "output_type": "execute_result",
          "data": {
            "application/vnd.google.colaboratory.intrinsic+json": {
              "type": "string"
            },
            "text/plain": [
              "'1.19.5'"
            ]
          },
          "metadata": {
            "tags": []
          },
          "execution_count": 1
        }
      ]
    },
    {
      "cell_type": "markdown",
      "metadata": {
        "id": "cyc70pMe1oCg"
      },
      "source": [
        "### <a name='1'></a> Ćwiczenie 31\n",
        "Wykonaj dwa sortowania podanej poniżej tablicy $A$:\n",
        "* wierszowo (rosnąco)\n",
        "* kolumnowo (rosnąco)\n",
        "\n",
        "\n",
        "```\n",
        "A = np.array([[4.99, 3.49, 9.99],\n",
        "              [1.99, 9.99, 4.99],\n",
        "              [14.99, 2.39, 7.29]])\n",
        "```\n",
        "\n",
        "\n",
        "\n",
        "__Wskazówka:__ Użyj funkcji _np.sort()_."
      ]
    },
    {
      "cell_type": "code",
      "metadata": {
        "id": "ed-_5hm4IvnA"
      },
      "source": [
        "A = np.array([[4.99, 3.49, 9.99],\n",
        "              [1.99, 9.99, 4.99],\n",
        "              [14.99, 2.39, 7.29]])"
      ],
      "execution_count": null,
      "outputs": []
    },
    {
      "cell_type": "code",
      "metadata": {
        "colab": {
          "base_uri": "https://localhost:8080/"
        },
        "id": "2pqfJqx8pwAx",
        "outputId": "2e047174-6fe9-45eb-99f4-2c16b490362d"
      },
      "source": [
        "np.sort(A)"
      ],
      "execution_count": null,
      "outputs": [
        {
          "output_type": "execute_result",
          "data": {
            "text/plain": [
              "array([[ 3.49,  4.99,  9.99],\n",
              "       [ 1.99,  4.99,  9.99],\n",
              "       [ 2.39,  7.29, 14.99]])"
            ]
          },
          "metadata": {
            "tags": []
          },
          "execution_count": 3
        }
      ]
    },
    {
      "cell_type": "code",
      "metadata": {
        "colab": {
          "base_uri": "https://localhost:8080/"
        },
        "id": "RCxEPrbDp3uo",
        "outputId": "e1281ef3-3b10-4a01-86f5-7af722a2be33"
      },
      "source": [
        "np.sort(A,axis=0) # kolumnowo rosnąco"
      ],
      "execution_count": null,
      "outputs": [
        {
          "output_type": "execute_result",
          "data": {
            "text/plain": [
              "array([[ 1.99,  2.39,  4.99],\n",
              "       [ 4.99,  3.49,  7.29],\n",
              "       [14.99,  9.99,  9.99]])"
            ]
          },
          "metadata": {
            "tags": []
          },
          "execution_count": 5
        }
      ]
    },
    {
      "cell_type": "code",
      "metadata": {
        "colab": {
          "base_uri": "https://localhost:8080/"
        },
        "id": "tDHbC7a4qBJO",
        "outputId": "6b86c7bd-801d-4eac-d9b0-1712437f82ac"
      },
      "source": [
        "np.sort(A,axis=1) # wierszowo rosnąco"
      ],
      "execution_count": null,
      "outputs": [
        {
          "output_type": "execute_result",
          "data": {
            "text/plain": [
              "array([[ 3.49,  4.99,  9.99],\n",
              "       [ 1.99,  4.99,  9.99],\n",
              "       [ 2.39,  7.29, 14.99]])"
            ]
          },
          "metadata": {
            "tags": []
          },
          "execution_count": 6
        }
      ]
    },
    {
      "cell_type": "markdown",
      "metadata": {
        "id": "J9pY1rtr1sC0"
      },
      "source": [
        "### <a name='2'></a> Ćwiczenie 32\n",
        "Wytnij wszystkie elementy tablicy $A$ o wartości wyższej niż 8.\n",
        "\n",
        "\n",
        "```\n",
        "A = np.array([[4.99, 3.49, 9.99],\n",
        "              [1.99, 9.99, 4.99],\n",
        "              [14.99, 2.39, 7.29]])\n",
        "```\n",
        "\n"
      ]
    },
    {
      "cell_type": "code",
      "metadata": {
        "id": "15swBr0tMExC"
      },
      "source": [
        "A = np.array([[4.99, 3.49, 9.99],\n",
        "              [1.99, 9.99, 4.99],\n",
        "              [14.99, 2.39, 7.29]])"
      ],
      "execution_count": null,
      "outputs": []
    },
    {
      "cell_type": "code",
      "metadata": {
        "colab": {
          "base_uri": "https://localhost:8080/"
        },
        "id": "eb_UiaeeqtTK",
        "outputId": "bcf14873-fc27-4b2a-a230-444bde2d4569"
      },
      "source": [
        "A[A > 8] # Zwraca maski elementów z macierzy"
      ],
      "execution_count": null,
      "outputs": [
        {
          "output_type": "execute_result",
          "data": {
            "text/plain": [
              "array([ 9.99,  9.99, 14.99])"
            ]
          },
          "metadata": {
            "tags": []
          },
          "execution_count": 9
        }
      ]
    },
    {
      "cell_type": "markdown",
      "metadata": {
        "id": "XQLYT2m11wVG"
      },
      "source": [
        "### <a name='3'></a> Ćwiczenie 33\n",
        "Podana jest poniższa tablica $A$. Zastąp elementy powyżej wartości 10 wartością stałą 10 (obcięcie wartości do 10).\n",
        "\n",
        "\n",
        "```\n",
        "A = np.array([[4.99, 3.49, 9.99],\n",
        "              [1.99, 9.99, 14.99],\n",
        "              [14.99, 2.39, 7.29]])\n",
        "```\n",
        "\n",
        "\n",
        "\n",
        "__Wskazówka:__ Użyj funkcji _np.where()_."
      ]
    },
    {
      "cell_type": "code",
      "metadata": {
        "id": "1korOkbrPXC9"
      },
      "source": [
        "A = np.array([[4.99, 3.49, 9.99],\n",
        "              [1.99, 9.99, 14.99],\n",
        "              [14.99, 2.39, 7.29]])"
      ],
      "execution_count": null,
      "outputs": []
    },
    {
      "cell_type": "code",
      "metadata": {
        "colab": {
          "base_uri": "https://localhost:8080/"
        },
        "id": "crA0URktr9Rn",
        "outputId": "6fb2e031-1c8d-4a13-828d-d3ba2b6e4e39"
      },
      "source": [
        "np.where(A > 10.0, 10.0 , A)"
      ],
      "execution_count": null,
      "outputs": [
        {
          "output_type": "execute_result",
          "data": {
            "text/plain": [
              "array([[ 4.99,  3.49,  9.99],\n",
              "       [ 1.99,  9.99, 10.  ],\n",
              "       [10.  ,  2.39,  7.29]])"
            ]
          },
          "metadata": {
            "tags": []
          },
          "execution_count": 15
        }
      ]
    },
    {
      "cell_type": "markdown",
      "metadata": {
        "id": "4xTKSUzg10MK"
      },
      "source": [
        "### <a name='4'></a> Ćwiczenie 34\n",
        "Poniższą dwuwymiarową tablicę $A$ przedstaw w postaci 'wypłaszczonej' jednowymiarowej tablicy.  \n",
        "\n",
        "```\n",
        "A = np.array([[4.99, 3.49, 9.99],\n",
        "              [1.99, 9.99, 14.99],\n",
        "              [14.99, 2.39, 7.29]])\n",
        "```\n",
        "\n",
        "\n",
        "\n",
        "__Oczekiwany wynik:__\n",
        "\n",
        "\n",
        "```\n",
        "array([ 4.99,  3.49,  9.99,  1.99,  9.99, 14.99, 14.99,  2.39,  7.29])\n",
        "```\n",
        "\n",
        "__Wskazówka:__ Użyj funkcji _np.ravel()_.\n",
        "\n",
        "\n"
      ]
    },
    {
      "cell_type": "code",
      "metadata": {
        "id": "COqibgznQtj0"
      },
      "source": [
        "A = np.array([[4.99, 3.49, 9.99],\n",
        "              [1.99, 9.99, 14.99],\n",
        "              [14.99, 2.39, 7.29]])"
      ],
      "execution_count": null,
      "outputs": []
    },
    {
      "cell_type": "code",
      "metadata": {
        "colab": {
          "base_uri": "https://localhost:8080/"
        },
        "id": "mHIkHUiquEaS",
        "outputId": "d14b308c-b376-4dd5-fc44-c2a8e00f4dd7"
      },
      "source": [
        "np.ravel(A)"
      ],
      "execution_count": null,
      "outputs": [
        {
          "output_type": "execute_result",
          "data": {
            "text/plain": [
              "array([ 4.99,  3.49,  9.99,  1.99,  9.99, 14.99, 14.99,  2.39,  7.29])"
            ]
          },
          "metadata": {
            "tags": []
          },
          "execution_count": 17
        }
      ]
    },
    {
      "cell_type": "markdown",
      "metadata": {
        "id": "o3HKIKlP15Ro"
      },
      "source": [
        "### <a name='5'></a> Ćwiczenie 35\n",
        "Zbuduj tablicę o identycznym kształcie i typie danych jak tablica $A$ oraz wypełnij ją stałą wartością 0.0.\n",
        "\n",
        "\n",
        "```\n",
        "A = np.array([[4.99, 3.49, 9.99],\n",
        "              [1.99, 9.99, 14.99],\n",
        "              [14.99, 2.39, 7.29]])\n",
        "```\n",
        "__Oczekiwany wynik:__\n",
        "\n",
        "\n",
        "```\n",
        "array([[0., 0., 0.],\n",
        "       [0., 0., 0.],\n",
        "       [0., 0., 0.]])\n",
        "```\n",
        "\n",
        "\n",
        "\n",
        "\n",
        "\n",
        "__Wskazówka:__ Użyj funkcji _np.zeros_like()_."
      ]
    },
    {
      "cell_type": "code",
      "metadata": {
        "id": "Nb5kpwa3Sh-P",
        "colab": {
          "base_uri": "https://localhost:8080/"
        },
        "outputId": "47ad80f0-3328-484d-cefd-8d7335c30428"
      },
      "source": [
        "np.zeros_like(A,dtype=np.float64)"
      ],
      "execution_count": null,
      "outputs": [
        {
          "output_type": "execute_result",
          "data": {
            "text/plain": [
              "array([[0., 0., 0.],\n",
              "       [0., 0., 0.],\n",
              "       [0., 0., 0.]])"
            ]
          },
          "metadata": {
            "tags": []
          },
          "execution_count": 18
        }
      ]
    },
    {
      "cell_type": "markdown",
      "metadata": {
        "id": "PunXd_Ey16so"
      },
      "source": [
        "### <a name='6'></a> Ćwiczenie 36\n",
        "\n",
        "Zbuduj tablicę o identycznym kształcie i typie danych jak tablica $A$ oraz wypełnij ją stałą wartością 9.99.\n",
        "\n",
        "\n",
        "```\n",
        "A = np.array([[4.99, 3.49, 9.99],\n",
        "              [1.99, 9.99, 14.99],\n",
        "              [14.99, 2.39, 7.29]])\n",
        "```\n",
        "\n",
        "__Oczekiwany wynik:__\n",
        "\n",
        "\n",
        "```\n",
        "array([[9.99, 9.99, 9.99],\n",
        "       [9.99, 9.99, 9.99],\n",
        "       [9.99, 9.99, 9.99]])\n",
        "```\n",
        "\n",
        "\n",
        "\n",
        "__Wskazówka:__ Użyj funkcji _np.full_like()_."
      ]
    },
    {
      "cell_type": "code",
      "metadata": {
        "id": "XigJhXuPUQ4_",
        "colab": {
          "base_uri": "https://localhost:8080/"
        },
        "outputId": "79d42430-80d7-4c14-cde2-b3812cc914a9"
      },
      "source": [
        "np.full_like(A,9.99)"
      ],
      "execution_count": null,
      "outputs": [
        {
          "output_type": "execute_result",
          "data": {
            "text/plain": [
              "array([[9.99, 9.99, 9.99],\n",
              "       [9.99, 9.99, 9.99],\n",
              "       [9.99, 9.99, 9.99]])"
            ]
          },
          "metadata": {
            "tags": []
          },
          "execution_count": 19
        }
      ]
    },
    {
      "cell_type": "markdown",
      "metadata": {
        "id": "hOhqDRz618Tx"
      },
      "source": [
        "### <a name='7'></a> Ćwiczenie 37\n",
        "Zbuduj tablicę dwuwymiarową (macierz kwadratową dolną trójkątną) podnaną poniżej:\n",
        "\n",
        "\n",
        "```\n",
        "array([[1., 0., 0., 0., 0.],\n",
        "       [1., 1., 0., 0., 0.],\n",
        "       [1., 1., 1., 0., 0.],\n",
        "       [1., 1., 1., 1., 0.],\n",
        "       [1., 1., 1., 1., 1.]])\n",
        "```\n",
        "__Wskazówka:__ Użyj funkcji _np.tri()_.\n"
      ]
    },
    {
      "cell_type": "code",
      "metadata": {
        "id": "0T6tBTzeVDN7",
        "colab": {
          "base_uri": "https://localhost:8080/"
        },
        "outputId": "79029380-5a7b-4107-afb3-cffcf0e6ced3"
      },
      "source": [
        "np.tri(5,5)"
      ],
      "execution_count": null,
      "outputs": [
        {
          "output_type": "execute_result",
          "data": {
            "text/plain": [
              "array([[1., 0., 0., 0., 0.],\n",
              "       [1., 1., 0., 0., 0.],\n",
              "       [1., 1., 1., 0., 0.],\n",
              "       [1., 1., 1., 1., 0.],\n",
              "       [1., 1., 1., 1., 1.]])"
            ]
          },
          "metadata": {
            "tags": []
          },
          "execution_count": 20
        }
      ]
    },
    {
      "cell_type": "markdown",
      "metadata": {
        "id": "TXUd_4631-gw"
      },
      "source": [
        "### <a name='8'></a> Ćwiczenie 38\n",
        "Stwórz dowolną tablicę 3-wymiarową o kształcie $(2, 3, 4)$."
      ]
    },
    {
      "cell_type": "code",
      "metadata": {
        "id": "NZoI-8PeXudZ",
        "colab": {
          "base_uri": "https://localhost:8080/"
        },
        "outputId": "a1e4e033-d6f2-4ccb-fba1-1e8f286d53f3"
      },
      "source": [
        "A= np.array([[[2,3,4,5],\n",
        "           [1,2,3,5],\n",
        "           [6,7,8,9]],\n",
        "          \n",
        "          [[1,2,3,4],\n",
        "           [5,3,6,2],\n",
        "           [1,2,9,7]]])\n",
        "A.shape"
      ],
      "execution_count": null,
      "outputs": [
        {
          "output_type": "execute_result",
          "data": {
            "text/plain": [
              "(2, 3, 4)"
            ]
          },
          "metadata": {
            "tags": []
          },
          "execution_count": 23
        }
      ]
    },
    {
      "cell_type": "markdown",
      "metadata": {
        "id": "tgI6xEn-2AQo"
      },
      "source": [
        "### <a name='9'></a> Ćwiczenie 39\n",
        "\n",
        "Wygeneruj dwuwymiarową tablicę o kształcie _(200, 300)_ wypełnioną wartościami losowymi od 0 do 255 włacznie i typie danych _np.uint8_ i przypisz do zmiennej _image_."
      ]
    },
    {
      "cell_type": "code",
      "metadata": {
        "id": "4UXbFDEVZr1J",
        "colab": {
          "base_uri": "https://localhost:8080/"
        },
        "outputId": "b68483b3-1bd4-4c16-f668-dafd95872f04"
      },
      "source": [
        "image = np.random.randint(low=0,high=256,size=[200,300],dtype=np.uint8)\n",
        "image.shape"
      ],
      "execution_count": null,
      "outputs": [
        {
          "output_type": "execute_result",
          "data": {
            "text/plain": [
              "(200, 300)"
            ]
          },
          "metadata": {
            "tags": []
          },
          "execution_count": 43
        }
      ]
    },
    {
      "cell_type": "code",
      "metadata": {
        "id": "0J6wOFo90hzD"
      },
      "source": [
        ""
      ],
      "execution_count": null,
      "outputs": []
    },
    {
      "cell_type": "markdown",
      "metadata": {
        "id": "nA-CIMPfbTcB"
      },
      "source": [
        "Nastepnie uruchom poniższy blok kodu. W rezultacie uzyskasz podgląd na losowo wygenerowany czarno-biały obraz."
      ]
    },
    {
      "cell_type": "code",
      "metadata": {
        "id": "wga9cGARZ-3O",
        "colab": {
          "base_uri": "https://localhost:8080/",
          "height": 217
        },
        "outputId": "e1938385-3b19-4bb7-8e5c-1709b005fd0c"
      },
      "source": [
        "from google.colab.patches import cv2_imshow\n",
        "\n",
        "cv2_imshow(image)"
      ],
      "execution_count": null,
      "outputs": [
        {
          "output_type": "display_data",
          "data": {
            "image/png": "[encoded data removed]",
            "text/plain": [
              "<PIL.Image.Image image mode=L size=300x200 at 0x7F3C9B61DF10>"
            ]
          },
          "metadata": {
            "tags": []
          }
        }
      ]
    },
    {
      "cell_type": "markdown",
      "metadata": {
        "id": "wxhpf-uq2B1I"
      },
      "source": [
        "### <a name='10'></a> Ćwiczenie 40\n",
        "Tablicę _image_ z poprzedniego zadania posortuj wzdłuż wiersza rosnąco. Następnie dzięki funkcji _cv2_imshow()_ wyświetl otrzymany obraz."
      ]
    },
    {
      "cell_type": "markdown",
      "metadata": {
        "id": "GYRscs7K06vz"
      },
      "source": [
        ""
      ]
    },
    {
      "cell_type": "code",
      "metadata": {
        "id": "YFc0KW6URsuc",
        "colab": {
          "base_uri": "https://localhost:8080/",
          "height": 217
        },
        "outputId": "1dc688b7-37e6-4aed-e560-4691e893f177"
      },
      "source": [
        "image.sort(axis=0)\n",
        "cv2_imshow(image)"
      ],
      "execution_count": null,
      "outputs": [
        {
          "output_type": "display_data",
          "data": {
            "image/png": "[encoded data removed]",
            "text/plain": [
              "<PIL.Image.Image image mode=L size=300x200 at 0x7F3C9B611CD0>"
            ]
          },
          "metadata": {
            "tags": []
          }
        }
      ]
    },
    {
      "cell_type": "markdown",
      "metadata": {
        "id": "RAU2F-3Mcgsr"
      },
      "source": [
        "Tablicę _image_ z poprzedniego zadania posortuj wzdłuż kolumny rosnąco. Następnie dzięki funkcji _cv2_imshow()_ wyświetl otrzymany obraz."
      ]
    },
    {
      "cell_type": "code",
      "metadata": {
        "id": "EAvOxzhRbprl"
      },
      "source": [
        "image.sort(axis=1)\n",
        "cv2_imshow(image)"
      ],
      "execution_count": null,
      "outputs": []
    }
  ]
}