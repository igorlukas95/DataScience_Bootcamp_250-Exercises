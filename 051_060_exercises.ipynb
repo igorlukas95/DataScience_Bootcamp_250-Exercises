{
  "nbformat": 4,
  "nbformat_minor": 0,
  "metadata": {
    "colab": {
      "name": "051-060_exercises.ipynb",
      "provenance": [],
      "collapsed_sections": []
    },
    "kernelspec": {
      "name": "python3",
      "display_name": "Python 3"
    }
  },
  "cells": [
    {
      "cell_type": "markdown",
      "metadata": {
        "id": "WLEgCW5F1hho"
      },
      "source": [
        "## Numpy\n",
        "\n",
        "### Spis treści:\n",
        "* [Import biblioteki](#0)\n",
        "* [Ćwiczenie 51](#1)\n",
        "* [Ćwiczenie 52](#2)\n",
        "* [Ćwiczenie 53](#3)\n",
        "* [Ćwiczenie 54](#4)\n",
        "* [Ćwiczenie 55](#5)\n",
        "* [Ćwiczenie 56](#6)\n",
        "* [Ćwiczenie 57](#7)\n",
        "* [Ćwiczenie 58](#8)\n",
        "* [Ćwiczenie 59](#9)\n",
        "* [Ćwiczenie 60](#10)"
      ]
    },
    {
      "cell_type": "markdown",
      "metadata": {
        "id": "zeLOLmTj1kBM"
      },
      "source": [
        "### <a name='0'></a>Import biblioteki"
      ]
    },
    {
      "cell_type": "code",
      "metadata": {
        "id": "HXMB7SMe1Wnz",
        "colab": {
          "base_uri": "https://localhost:8080/",
          "height": 35
        },
        "outputId": "26848e85-8340-4e34-a99f-1879ee0d24f0"
      },
      "source": [
        "import numpy as np\n",
        "\n",
        "np.random.seed(42)\n",
        "np.__version__"
      ],
      "execution_count": null,
      "outputs": [
        {
          "output_type": "execute_result",
          "data": {
            "application/vnd.google.colaboratory.intrinsic+json": {
              "type": "string"
            },
            "text/plain": [
              "'1.19.5'"
            ]
          },
          "metadata": {
            "tags": []
          },
          "execution_count": 2
        }
      ]
    },
    {
      "cell_type": "markdown",
      "metadata": {
        "id": "cyc70pMe1oCg"
      },
      "source": [
        "### <a name='1'></a> Ćwiczenie 51\n",
        "Podane są poniżej dwie tablice $A$ i $B$:\n",
        "\n",
        "\n",
        "```\n",
        "A = np.array([[3, 4, 5],\n",
        "              [8, 3, 1]])\n",
        "B = np.array([[0, 5, 2],\n",
        "              [4, 2, 1]])\n",
        "```\n",
        "* Połącz te tablice w następujący sposób:\n",
        "\n",
        "\n",
        "```\n",
        "array([[3, 4, 5],\n",
        "       [8, 3, 1],\n",
        "       [0, 5, 2],\n",
        "       [4, 2, 1]])\n",
        "```\n",
        "__Wskazówka:__ Wykorzystaj funkcję _np.concatenate()_.\n",
        "\n",
        "\n",
        "\n"
      ]
    },
    {
      "cell_type": "code",
      "metadata": {
        "id": "G06kZluT8eIh"
      },
      "source": [
        "A = np.array([[3, 4, 5],\n",
        "              [8, 3, 1]])\n",
        "B = np.array([[0, 5, 2],\n",
        "              [4, 2, 1]])"
      ],
      "execution_count": null,
      "outputs": []
    },
    {
      "cell_type": "code",
      "metadata": {
        "colab": {
          "base_uri": "https://localhost:8080/"
        },
        "id": "7CFtaBMMtuEi",
        "outputId": "4c233cc6-ab81-4c69-b5b3-56da1aecc288"
      },
      "source": [
        "np.concatenate((A,B),axis=0)"
      ],
      "execution_count": null,
      "outputs": [
        {
          "output_type": "execute_result",
          "data": {
            "text/plain": [
              "array([[3, 4, 5],\n",
              "       [8, 3, 1],\n",
              "       [0, 5, 2],\n",
              "       [4, 2, 1]])"
            ]
          },
          "metadata": {
            "tags": []
          },
          "execution_count": 3
        }
      ]
    },
    {
      "cell_type": "markdown",
      "metadata": {
        "id": "ODw_gitA98Ul"
      },
      "source": [
        "* Połącz te tablice w następujący sposób:\n",
        "\n",
        "\n",
        "```\n",
        "array([[3, 4, 5, 0, 5, 2],\n",
        "       [8, 3, 1, 4, 2, 1]])\n",
        "```\n",
        "__Wskazówka:__ Wykorzystaj funkcję _np.concatenate()_."
      ]
    },
    {
      "cell_type": "code",
      "metadata": {
        "id": "1pmGjLj88tcf",
        "colab": {
          "base_uri": "https://localhost:8080/"
        },
        "outputId": "2557280e-c8b0-4a54-b354-732965d6fd82"
      },
      "source": [
        "np.concatenate((A,B),axis=1)"
      ],
      "execution_count": null,
      "outputs": [
        {
          "output_type": "execute_result",
          "data": {
            "text/plain": [
              "array([[3, 4, 5, 0, 5, 2],\n",
              "       [8, 3, 1, 4, 2, 1]])"
            ]
          },
          "metadata": {
            "tags": []
          },
          "execution_count": 4
        }
      ]
    },
    {
      "cell_type": "markdown",
      "metadata": {
        "id": "J9pY1rtr1sC0"
      },
      "source": [
        "### <a name='2'></a> Ćwiczenie 52\n",
        "Podana jest tablica zawierająca dane _data_ oraz tablica zawierająca docelową klasę dla danego wiersza _target_:\n",
        "\n",
        "```\n",
        "data = np.array([[4.3, 4.2],\n",
        "                 [3.1, 3.6]])\n",
        "target = np.array([[0],\n",
        "                   [1]])\n",
        "```\n",
        "\n"
      ]
    },
    {
      "cell_type": "markdown",
      "metadata": {
        "id": "8cAKF7ok-RjX"
      },
      "source": [
        "Połącz te tablice w jedną tak jak pokazano poniżej:\n",
        "\n",
        "\n",
        "```\n",
        "array([[4.3, 4.2, 0. ],\n",
        "       [3.1, 3.6, 1. ]])\n",
        "```\n",
        "\n"
      ]
    },
    {
      "cell_type": "code",
      "metadata": {
        "id": "4lc68Wfr8z3u"
      },
      "source": [
        "data = np.array([[4.3, 4.2],\n",
        "                 [3.1, 3.6]])\n",
        "target = np.array([[0],\n",
        "                   [1]])"
      ],
      "execution_count": null,
      "outputs": []
    },
    {
      "cell_type": "code",
      "metadata": {
        "colab": {
          "base_uri": "https://localhost:8080/"
        },
        "id": "pRhHoVITus_m",
        "outputId": "4e64db20-4605-4238-fa40-7255460984c8"
      },
      "source": [
        "np.concatenate((data,target),axis=1)"
      ],
      "execution_count": null,
      "outputs": [
        {
          "output_type": "execute_result",
          "data": {
            "text/plain": [
              "array([[4.3, 4.2, 0. ],\n",
              "       [3.1, 3.6, 1. ]])"
            ]
          },
          "metadata": {
            "tags": []
          },
          "execution_count": 7
        }
      ]
    },
    {
      "cell_type": "markdown",
      "metadata": {
        "id": "XQLYT2m11wVG"
      },
      "source": [
        "### <a name='3'></a> Ćwiczenie 53\n",
        "Podane są trzy poniższe jednowymiarowe tablice:  \n",
        "\n",
        "\n",
        "```\n",
        "feature1 = np.array([1.6, 0.9, 2.2])\n",
        "feature2 = np.array([0.4, 1.3, 3.2])\n",
        "feature3 = np.array([1.4, 0.3, 1.2])\n",
        "```\n",
        "Przekształć każdą z tych tablic w kolumnę i sklej w jedną dużą tablicę.\n",
        "\n",
        "__Oczekiwany wynik:__\n",
        "\n",
        "\n",
        "```\n",
        "array([[1.6, 0.4, 1.4],\n",
        "       [0.9, 1.3, 0.3],\n",
        "       [2.2, 3.2, 1.2]])\n",
        "```\n",
        "\n",
        "__Wskazówka:__ Wykorzystaj funkcję _np.column_stack()_.\n",
        "\n"
      ]
    },
    {
      "cell_type": "code",
      "metadata": {
        "id": "xfPf_vq7-jBP"
      },
      "source": [
        "feature1 = np.array([1.6, 0.9, 2.2])\n",
        "feature2 = np.array([0.4, 1.3, 3.2])\n",
        "feature3 = np.array([1.4, 0.3, 1.2])"
      ],
      "execution_count": null,
      "outputs": []
    },
    {
      "cell_type": "code",
      "metadata": {
        "colab": {
          "base_uri": "https://localhost:8080/"
        },
        "id": "z-vVlI5TvboA",
        "outputId": "b9e9d307-9ed1-453f-df7d-db8bf866c346"
      },
      "source": [
        "np.column_stack((feature1,feature2,feature3))"
      ],
      "execution_count": null,
      "outputs": [
        {
          "output_type": "execute_result",
          "data": {
            "text/plain": [
              "array([[1.6, 0.4, 1.4],\n",
              "       [0.9, 1.3, 0.3],\n",
              "       [2.2, 3.2, 1.2]])"
            ]
          },
          "metadata": {
            "tags": []
          },
          "execution_count": 11
        }
      ]
    },
    {
      "cell_type": "markdown",
      "metadata": {
        "id": "4xTKSUzg10MK"
      },
      "source": [
        "### <a name='4'></a> Ćwiczenie 54\n",
        "Podana jest poniższa dwuwymiarowa tablica:\n",
        "\n",
        "```\n",
        "A = np.random.randint(low=0, high=7, size=(5, 8))\n",
        "A[:, :2] = 0\n",
        "A[:, -2:] = 1\n",
        "A\n",
        "```\n",
        "```\n",
        "array([[0, 0, 4, 6, 2, 4, 1, 1],\n",
        "       [0, 0, 6, 2, 2, 4, 1, 1],\n",
        "       [0, 0, 1, 3, 5, 5, 1, 1],\n",
        "       [0, 0, 3, 1, 5, 4, 1, 1],\n",
        "       [0, 0, 2, 6, 1, 3, 1, 1]])\n",
        "```\n",
        "\n",
        "Podziel tablicę na 3 części tak aby pierwsze dwie kolumny stanowiły pierwszą tablicę $A1$, cztery kolejne drugą tablicę $A2$ oraz dwie ostatnie trzecią tablicę $A3$.\n",
        "\n",
        "__Wskazówka:__ Wykorzystaj funkcję _np.split()_."
      ]
    },
    {
      "cell_type": "code",
      "metadata": {
        "id": "U5MFrLUHBsEf",
        "colab": {
          "base_uri": "https://localhost:8080/"
        },
        "outputId": "d9492b7c-f2f3-4da3-ca7a-e89e89bbfe6f"
      },
      "source": [
        "A = np.random.randint(low=0, high=7, size=(5, 8))\n",
        "A[:, :2] = 0\n",
        "A[:, -2:] = 1\n",
        "A"
      ],
      "execution_count": null,
      "outputs": [
        {
          "output_type": "execute_result",
          "data": {
            "text/plain": [
              "array([[0, 0, 4, 6, 2, 4, 1, 1],\n",
              "       [0, 0, 6, 2, 2, 4, 1, 1],\n",
              "       [0, 0, 1, 3, 5, 5, 1, 1],\n",
              "       [0, 0, 3, 1, 5, 4, 1, 1],\n",
              "       [0, 0, 2, 6, 1, 3, 1, 1]])"
            ]
          },
          "metadata": {
            "tags": []
          },
          "execution_count": 12
        }
      ]
    },
    {
      "cell_type": "code",
      "metadata": {
        "colab": {
          "base_uri": "https://localhost:8080/"
        },
        "id": "q3_Cy5oPv6WY",
        "outputId": "159142a3-1f72-44b0-8447-b12a9d4f3738"
      },
      "source": [
        "A1, A2, A3 = np.split(A,[2,6],axis=1)\n",
        "print(A1)\n",
        "print(A2)\n",
        "print(A3)"
      ],
      "execution_count": null,
      "outputs": [
        {
          "output_type": "stream",
          "text": [
            "[[0 0]\n",
            " [0 0]\n",
            " [0 0]\n",
            " [0 0]\n",
            " [0 0]]\n",
            "[[4 6 2 4]\n",
            " [6 2 2 4]\n",
            " [1 3 5 5]\n",
            " [3 1 5 4]\n",
            " [2 6 1 3]]\n",
            "[[1 1]\n",
            " [1 1]\n",
            " [1 1]\n",
            " [1 1]\n",
            " [1 1]]\n"
          ],
          "name": "stdout"
        }
      ]
    },
    {
      "cell_type": "markdown",
      "metadata": {
        "id": "o3HKIKlP15Ro"
      },
      "source": [
        "### <a name='5'></a> Ćwiczenie 55\n",
        "Podana jest poniższa tablica $A$:\n",
        "\n",
        "```\n",
        "A = np.random.randint(low=0, high=2, size=(10, 6))\n",
        "```\n",
        "Wyznacz łączną liczbę elementów niezerowych dla tej tablicy.\n",
        "\n",
        "__Wskazówka:__ Wykorzystaj funkcję _np.count_nonzero()_.\n"
      ]
    },
    {
      "cell_type": "code",
      "metadata": {
        "id": "j5E2nOFyDy1b",
        "colab": {
          "base_uri": "https://localhost:8080/"
        },
        "outputId": "d5e4dccb-8287-44cd-973f-e0504ef9daef"
      },
      "source": [
        "A = np.random.randint(low=0, high=2, size=(10, 6))\n",
        "np.count_nonzero(A)"
      ],
      "execution_count": null,
      "outputs": [
        {
          "output_type": "execute_result",
          "data": {
            "text/plain": [
              "23"
            ]
          },
          "metadata": {
            "tags": []
          },
          "execution_count": 23
        }
      ]
    },
    {
      "cell_type": "markdown",
      "metadata": {
        "id": "wJde65uYhJ2f"
      },
      "source": [
        "Wyznacz łączną liczbę elementów niezerowych dla każdego wiersza tej tablicy.\n",
        "\n",
        "__Wskazówka:__ Wykorzystaj funkcję _np.count_nonzero()_."
      ]
    },
    {
      "cell_type": "code",
      "metadata": {
        "id": "BWG-icQuEEPS",
        "colab": {
          "base_uri": "https://localhost:8080/"
        },
        "outputId": "772986d7-a339-4af8-cf1e-76c23985e297"
      },
      "source": [
        "np.count_nonzero(A,axis=0)"
      ],
      "execution_count": null,
      "outputs": [
        {
          "output_type": "execute_result",
          "data": {
            "text/plain": [
              "array([5, 3, 5, 5, 2, 3])"
            ]
          },
          "metadata": {
            "tags": []
          },
          "execution_count": 24
        }
      ]
    },
    {
      "cell_type": "markdown",
      "metadata": {
        "id": "PunXd_Ey16so"
      },
      "source": [
        "### <a name='6'></a> Ćwiczenie 56\n",
        "Poniżej podana jest przykładowa tablica $A$:\n",
        "\n",
        "```\n",
        "A = np.random.randn(10, 4)\n",
        "```\n",
        "\n",
        "```\n",
        "array([[-0.53441645, -1.49505387, -0.78925833,  0.74371128],\n",
        "       [-0.21216142, -0.42686879,  0.50144833,  1.15818665],\n",
        "       [ 0.25711687,  0.3145129 ,  1.37186213,  0.17555329],\n",
        "       [-0.30928855,  0.6731255 , -0.25663018, -0.36782572],\n",
        "       [ 1.27373362, -0.29195267, -2.65517605,  0.34551794],\n",
        "       [-0.39551645, -0.28913686,  0.45293633, -0.16606091],\n",
        "       [ 0.21493883, -2.02231493, -0.94305681,  1.40395874],\n",
        "       [-0.0185508 , -1.67350462, -1.07253183, -0.99258618],\n",
        "       [ 0.10234768, -0.43260928, -0.6591823 ,  0.0039373 ],\n",
        "       [ 0.4777541 , -0.25902864, -0.57470921, -0.42149822]])\n",
        "```\n",
        "\n",
        "\n",
        "Ustaw odopowiednią opcję biblioteki numpy pozwalającą drukować tablice z określoną precyzją. Ustaw jej wartość na 4 i wydrukuj tablicę $A$.\n",
        "\n"
      ]
    },
    {
      "cell_type": "code",
      "metadata": {
        "id": "aL6C9MYSYkaL"
      },
      "source": [
        "A = np.random.randn(10, 4)"
      ],
      "execution_count": null,
      "outputs": []
    },
    {
      "cell_type": "code",
      "metadata": {
        "colab": {
          "base_uri": "https://localhost:8080/"
        },
        "id": "WPxvg-qKyZdC",
        "outputId": "ff4a3f03-3d6e-4554-c7de-ad5bd1dc17bc"
      },
      "source": [
        "np.set_printoptions(precision=4)\n",
        "A"
      ],
      "execution_count": null,
      "outputs": [
        {
          "output_type": "execute_result",
          "data": {
            "text/plain": [
              "array([[-0.9905, -0.5663,  0.0997, -0.5035],\n",
              "       [-1.5507,  0.0686, -1.0623,  0.4736],\n",
              "       [-0.9194,  1.5499, -0.7833, -0.3221],\n",
              "       [ 0.8135, -1.2309,  0.2275,  1.3071],\n",
              "       [-1.6075,  0.1846,  0.2599,  0.7818],\n",
              "       [-1.237 , -1.3205,  0.5219,  0.297 ],\n",
              "       [ 0.2505,  0.3464, -0.68  ,  0.2323],\n",
              "       [ 0.2931, -0.7144,  1.8658,  0.4738],\n",
              "       [-1.1913,  0.6566, -0.9747,  0.7871],\n",
              "       [ 1.1586, -0.8207,  0.9634,  0.4128]])"
            ]
          },
          "metadata": {
            "tags": []
          },
          "execution_count": 30
        }
      ]
    },
    {
      "cell_type": "markdown",
      "metadata": {
        "id": "hOhqDRz618Tx"
      },
      "source": [
        "### <a name='7'></a> Ćwiczenie 57\n",
        "Podana jest poniższa tablica numpy $A$:\n",
        "\n",
        "```\n",
        "A = np.array([1.2e-6, 1.7e-7])\n",
        "```\n",
        "\n",
        "Ustaw wartość precyzji na 8. Następnie ustaw odopowiednią opcję biblioteki numpy pozwalającą stłumić notację wykładniczą. Wydrukuj tablicę $A$.\n",
        "\n",
        "__Oczekiwany wynik:__\n",
        "\n",
        "\n",
        "```\n",
        "array([0.0000012 , 0.00000017])\n",
        "```\n",
        "\n",
        "\n",
        "\n"
      ]
    },
    {
      "cell_type": "code",
      "metadata": {
        "id": "BUr3XXiWdUWi",
        "colab": {
          "base_uri": "https://localhost:8080/"
        },
        "outputId": "9774a0b1-dd10-4cff-86fc-e3a7ceb1eed0"
      },
      "source": [
        "A = np.array([1.2e-6, 1.7e-7])\n",
        "A"
      ],
      "execution_count": null,
      "outputs": [
        {
          "output_type": "execute_result",
          "data": {
            "text/plain": [
              "array([1.2e-06, 1.7e-07])"
            ]
          },
          "metadata": {
            "tags": []
          },
          "execution_count": 32
        }
      ]
    },
    {
      "cell_type": "code",
      "metadata": {
        "colab": {
          "base_uri": "https://localhost:8080/"
        },
        "id": "maruR6rwzYpi",
        "outputId": "93e51426-0532-409a-c337-e5995fe7b9b0"
      },
      "source": [
        "np.set_printoptions(precision=8,suppress=True)\n",
        "A"
      ],
      "execution_count": null,
      "outputs": [
        {
          "output_type": "execute_result",
          "data": {
            "text/plain": [
              "array([0.0000012 , 0.00000017])"
            ]
          },
          "metadata": {
            "tags": []
          },
          "execution_count": 35
        }
      ]
    },
    {
      "cell_type": "markdown",
      "metadata": {
        "id": "TXUd_4631-gw"
      },
      "source": [
        "### <a name='8'></a> Ćwiczenie 58\n",
        "Podana jest poniższa tablica numpy $A$:\n",
        "\n",
        "```\n",
        "A = np.random.randn(8, 4)\n",
        "```\n",
        "Usuń trzecią kolumnę z tablicy $A$.\n",
        "\n",
        "__Oczekiwany wynik:__\n",
        "\n",
        "\n",
        "```\n",
        "array([[-0.55692881, -0.66003196,  0.70856031],\n",
        "       [ 0.22378737, -0.19796576, -0.16889332],\n",
        "       [ 0.26062786,  0.29865445, -0.92259267],\n",
        "       [-2.40317659,  1.79961876, -1.96495796],\n",
        "       [ 0.13051561, -1.7085185 ,  0.54885043],\n",
        "       [ 1.77268727,  0.38751181, -0.05141955],\n",
        "       [-1.80858596, -0.45075211,  0.15332866],\n",
        "       [ 1.94218961, -1.93679529, -1.83350954]])\n",
        "```\n",
        "__Wskazówka:__ Wykorzystaj funkcję _np.delete()_.\n",
        "\n",
        "\n"
      ]
    },
    {
      "cell_type": "code",
      "metadata": {
        "id": "o5PxnILogU6z"
      },
      "source": [
        "A = np.random.randn(8, 4)"
      ],
      "execution_count": null,
      "outputs": []
    },
    {
      "cell_type": "code",
      "metadata": {
        "colab": {
          "base_uri": "https://localhost:8080/"
        },
        "id": "nexKp0XBzzF8",
        "outputId": "7ac84a71-beb4-494f-bb2d-e9c06bf24abf"
      },
      "source": [
        "np.delete(A,[2],axis=1)"
      ],
      "execution_count": null,
      "outputs": [
        {
          "output_type": "execute_result",
          "data": {
            "text/plain": [
              "array([[ 0.82206016,  1.89679298, -0.75373616],\n",
              "       [-0.88951443, -0.81581028,  0.34115197],\n",
              "       [ 0.2766908 ,  0.82718325,  1.45353408],\n",
              "       [-0.26465683,  2.72016917, -0.85715756],\n",
              "       [-1.0708925 ,  0.48247242,  0.71400049],\n",
              "       [ 0.47323762, -0.07282891, -1.51484722],\n",
              "       [-0.44651495,  0.85639879, -1.24573878],\n",
              "       [ 0.17318093,  0.38531738,  0.15372511]])"
            ]
          },
          "metadata": {
            "tags": []
          },
          "execution_count": 42
        }
      ]
    },
    {
      "cell_type": "markdown",
      "metadata": {
        "id": "tgI6xEn-2AQo"
      },
      "source": [
        "### <a name='9'></a> Ćwiczenie 59\n",
        "Podana jest tablica jednowymiarowa $v$ (wektor):\n",
        "\n",
        "```\n",
        "v = np.array([3, 4, -2])\n",
        "```\n",
        "Policz normę wektora $v$.\n"
      ]
    },
    {
      "cell_type": "code",
      "metadata": {
        "id": "TYPzAZCwi-Ky",
        "colab": {
          "base_uri": "https://localhost:8080/"
        },
        "outputId": "8b9adac9-3935-4891-eca6-423725276f17"
      },
      "source": [
        "v = np.array([3, 4, -2])\n",
        "np.linalg.norm(v)"
      ],
      "execution_count": null,
      "outputs": [
        {
          "output_type": "execute_result",
          "data": {
            "text/plain": [
              "5.385164807134504"
            ]
          },
          "metadata": {
            "tags": []
          },
          "execution_count": 4
        }
      ]
    },
    {
      "cell_type": "markdown",
      "metadata": {
        "id": "wxhpf-uq2B1I"
      },
      "source": [
        "### <a name='10'></a> Ćwiczenie 60\n",
        "Poniżej podana jest przykładowa tablica $A$:\n",
        "\n",
        "\n",
        "```\n",
        "A = np.random.randint(10, size=(100, 30))\n",
        "```\n",
        "Ustaw odopowiednią opcję biblioteki numpy pozwalającą drukować 10 skrajnych elementów. Wydrukuj tablicę $A$.\n"
      ]
    },
    {
      "cell_type": "code",
      "metadata": {
        "id": "liJX2nIBk-gO",
        "colab": {
          "base_uri": "https://localhost:8080/"
        },
        "outputId": "3703e780-6608-4e75-c30b-c6567c2f233f"
      },
      "source": [
        "A = np.random.randint(10, size=(100, 30))\n",
        "np.set_printoptions(edgeitems=10)\n",
        "A"
      ],
      "execution_count": null,
      "outputs": [
        {
          "output_type": "execute_result",
          "data": {
            "text/plain": [
              "array([[8, 4, 1, 3, 2, 3, 9, 6, 9, 7, ..., 8, 7, 6, 4, 2, 8, 4, 2, 2, 2],\n",
              "       [5, 0, 3, 7, 2, 4, 1, 1, 6, 9, ..., 7, 0, 7, 9, 1, 6, 5, 1, 4, 6],\n",
              "       [7, 2, 0, 6, 4, 4, 6, 0, 7, 9, ..., 4, 8, 9, 3, 2, 8, 7, 5, 0, 9],\n",
              "       [0, 5, 2, 2, 5, 2, 9, 5, 4, 3, ..., 2, 9, 9, 1, 2, 0, 9, 7, 0, 2],\n",
              "       [2, 1, 4, 9, 2, 2, 7, 3, 3, 2, ..., 9, 7, 1, 5, 8, 0, 5, 7, 9, 1],\n",
              "       [4, 5, 4, 2, 3, 6, 3, 8, 9, 1, ..., 2, 4, 5, 2, 1, 6, 4, 8, 2, 7],\n",
              "       [5, 3, 8, 4, 9, 5, 8, 6, 4, 1, ..., 0, 8, 8, 4, 8, 6, 8, 6, 8, 1],\n",
              "       [7, 6, 5, 4, 3, 6, 2, 7, 1, 0, ..., 3, 0, 4, 8, 9, 3, 8, 1, 3, 8],\n",
              "       [3, 4, 7, 0, 0, 8, 8, 3, 1, 8, ..., 3, 1, 8, 3, 8, 9, 2, 6, 6, 9],\n",
              "       [3, 1, 8, 3, 7, 1, 7, 9, 4, 6, ..., 2, 3, 2, 1, 9, 8, 0, 1, 7, 6],\n",
              "       ...,\n",
              "       [0, 7, 0, 4, 5, 1, 6, 6, 0, 3, ..., 1, 8, 3, 6, 5, 2, 7, 6, 8, 2],\n",
              "       [0, 1, 0, 4, 9, 1, 2, 7, 9, 4, ..., 7, 0, 3, 8, 0, 0, 3, 2, 6, 2],\n",
              "       [0, 9, 1, 9, 3, 0, 0, 7, 6, 7, ..., 3, 7, 6, 1, 7, 8, 4, 3, 3, 3],\n",
              "       [5, 3, 6, 6, 4, 4, 9, 7, 6, 6, ..., 6, 6, 4, 0, 1, 8, 7, 7, 9, 0],\n",
              "       [5, 8, 7, 2, 3, 2, 5, 8, 7, 9, ..., 0, 7, 7, 3, 7, 6, 1, 4, 9, 3],\n",
              "       [2, 0, 4, 9, 7, 8, 6, 0, 0, 0, ..., 0, 0, 3, 3, 0, 5, 9, 1, 4, 7],\n",
              "       [2, 8, 6, 8, 0, 4, 2, 3, 3, 6, ..., 5, 4, 7, 4, 4, 9, 1, 4, 6, 1],\n",
              "       [5, 6, 4, 8, 3, 9, 0, 7, 7, 6, ..., 9, 9, 9, 9, 5, 0, 4, 3, 3, 6],\n",
              "       [8, 7, 7, 4, 5, 1, 2, 4, 1, 2, ..., 3, 4, 7, 7, 0, 4, 9, 0, 0, 1],\n",
              "       [1, 8, 3, 2, 0, 1, 5, 8, 4, 3, ..., 2, 4, 8, 6, 3, 6, 4, 1, 5, 6]])"
            ]
          },
          "metadata": {
            "tags": []
          },
          "execution_count": 9
        }
      ]
    }
  ]
}