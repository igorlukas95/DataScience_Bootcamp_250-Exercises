{
  "nbformat": 4,
  "nbformat_minor": 0,
  "metadata": {
    "colab": {
      "name": "121-130_exercises.ipynb",
      "provenance": [],
      "collapsed_sections": []
    },
    "kernelspec": {
      "name": "python3",
      "display_name": "Python 3"
    }
  },
  "cells": [
    {
      "cell_type": "markdown",
      "metadata": {
        "id": "WLEgCW5F1hho"
      },
      "source": [
        "## Pandas\n",
        "\n",
        "### Spis treści:\n",
        "* [Import biblioteki](#0)\n",
        "* [Ćwiczenie 121](#1)\n",
        "* [Ćwiczenie 122](#2)\n",
        "* [Ćwiczenie 123](#3)\n",
        "* [Ćwiczenie 124](#4)\n",
        "* [Ćwiczenie 125](#5)\n",
        "* [Ćwiczenie 126](#6)\n",
        "* [Ćwiczenie 127](#7)\n",
        "* [Ćwiczenie 128](#8)\n",
        "* [Ćwiczenie 129](#9)\n",
        "* [Ćwiczenie 130](#10)"
      ]
    },
    {
      "cell_type": "markdown",
      "metadata": {
        "id": "zeLOLmTj1kBM"
      },
      "source": [
        "### <a name='0'></a>Import biblioteki"
      ]
    },
    {
      "cell_type": "code",
      "metadata": {
        "id": "HXMB7SMe1Wnz",
        "colab": {
          "base_uri": "https://localhost:8080/",
          "height": 35
        },
        "outputId": "e0741c9a-6a23-437a-e603-df411a4908ae"
      },
      "source": [
        "import numpy as np\n",
        "import pandas as pd\n",
        "import seaborn as sns\n",
        "\n",
        "sns.set()\n",
        "np.__version__"
      ],
      "execution_count": null,
      "outputs": [
        {
          "output_type": "execute_result",
          "data": {
            "application/vnd.google.colaboratory.intrinsic+json": {
              "type": "string"
            },
            "text/plain": [
              "'1.19.5'"
            ]
          },
          "metadata": {
            "tags": []
          },
          "execution_count": 2
        }
      ]
    },
    {
      "cell_type": "markdown",
      "metadata": {
        "id": "d1KXPVTVcwTX"
      },
      "source": [
        "Funkcja _fetch_financial_data()_ pobiera dane dotyczące notowań spółek giełdowych. Będzie wykorzystywana w poniższych ćwiczeniach. Aby pobrać dane konkretnej spółki należy przekazać odpowiedni ticker (symbol) spółki.\n",
        "\n",
        "Kilka przykładowych tickerów spółek:\n",
        "* AMZN - Amazon\n",
        "* GOOGL - Google\n",
        "* MSFT - Microsoft\n",
        "* AAPL - Apple\n",
        "* NKE - Nike\n",
        "* WMT - Walmart"
      ]
    },
    {
      "cell_type": "code",
      "metadata": {
        "id": "gTRegewub5oK"
      },
      "source": [
        "def fetch_financial_data(company='AMZN'):\n",
        "    \"\"\"\n",
        "    This function fetches stock market quotations.\n",
        "    \"\"\"\n",
        "    import pandas_datareader.data as web\n",
        "    return web.DataReader(name=company, data_source='stooq')"
      ],
      "execution_count": null,
      "outputs": []
    },
    {
      "cell_type": "markdown",
      "metadata": {
        "id": "cyc70pMe1oCg"
      },
      "source": [
        "### <a name='1'></a> Ćwiczenie 121\n",
        "Wykorzystując funkcję _fetch_financial_data()_ pobierz notowania dla spółki Google (Alphabet) i przypisz do zmiennej _google_. Wyświetl obiekt _google_."
      ]
    },
    {
      "cell_type": "code",
      "metadata": {
        "id": "LtMEvHZicna7"
      },
      "source": [
        "google = fetch_financial_data(company='GOOGL')"
      ],
      "execution_count": null,
      "outputs": []
    },
    {
      "cell_type": "code",
      "metadata": {
        "colab": {
          "base_uri": "https://localhost:8080/",
          "height": 436
        },
        "id": "M_iXkic1nN5H",
        "outputId": "a3d6c9ca-2476-4c55-fd82-03a78fc498fd"
      },
      "source": [
        "google"
      ],
      "execution_count": null,
      "outputs": [
        {
          "output_type": "execute_result",
          "data": {
            "text/html": [
              "<div>\n",
              "<style scoped>\n",
              "    .dataframe tbody tr th:only-of-type {\n",
              "        vertical-align: middle;\n",
              "    }\n",
              "\n",
              "    .dataframe tbody tr th {\n",
              "        vertical-align: top;\n",
              "    }\n",
              "\n",
              "    .dataframe thead th {\n",
              "        text-align: right;\n",
              "    }\n",
              "</style>\n",
              "<table border=\"1\" class=\"dataframe\">\n",
              "  <thead>\n",
              "    <tr style=\"text-align: right;\">\n",
              "      <th></th>\n",
              "      <th>Open</th>\n",
              "      <th>High</th>\n",
              "      <th>Low</th>\n",
              "      <th>Close</th>\n",
              "      <th>Volume</th>\n",
              "    </tr>\n",
              "    <tr>\n",
              "      <th>Date</th>\n",
              "      <th></th>\n",
              "      <th></th>\n",
              "      <th></th>\n",
              "      <th></th>\n",
              "      <th></th>\n",
              "    </tr>\n",
              "  </thead>\n",
              "  <tbody>\n",
              "    <tr>\n",
              "      <th>2021-05-07</th>\n",
              "      <td>2363.89</td>\n",
              "      <td>2371.2500</td>\n",
              "      <td>2346.1550</td>\n",
              "      <td>2351.93</td>\n",
              "      <td>1444862</td>\n",
              "    </tr>\n",
              "    <tr>\n",
              "      <th>2021-05-06</th>\n",
              "      <td>2306.33</td>\n",
              "      <td>2337.3500</td>\n",
              "      <td>2293.0418</td>\n",
              "      <td>2337.35</td>\n",
              "      <td>1259523</td>\n",
              "    </tr>\n",
              "    <tr>\n",
              "      <th>2021-05-05</th>\n",
              "      <td>2328.63</td>\n",
              "      <td>2335.0000</td>\n",
              "      <td>2308.2800</td>\n",
              "      <td>2314.77</td>\n",
              "      <td>1331809</td>\n",
              "    </tr>\n",
              "    <tr>\n",
              "      <th>2021-05-04</th>\n",
              "      <td>2313.55</td>\n",
              "      <td>2324.9899</td>\n",
              "      <td>2256.6800</td>\n",
              "      <td>2306.83</td>\n",
              "      <td>2240932</td>\n",
              "    </tr>\n",
              "    <tr>\n",
              "      <th>2021-05-03</th>\n",
              "      <td>2364.91</td>\n",
              "      <td>2381.5500</td>\n",
              "      <td>2335.5000</td>\n",
              "      <td>2343.08</td>\n",
              "      <td>1412139</td>\n",
              "    </tr>\n",
              "    <tr>\n",
              "      <th>...</th>\n",
              "      <td>...</td>\n",
              "      <td>...</td>\n",
              "      <td>...</td>\n",
              "      <td>...</td>\n",
              "      <td>...</td>\n",
              "    </tr>\n",
              "    <tr>\n",
              "      <th>2016-05-16</th>\n",
              "      <td>724.32</td>\n",
              "      <td>732.6800</td>\n",
              "      <td>720.0000</td>\n",
              "      <td>730.30</td>\n",
              "      <td>716115</td>\n",
              "    </tr>\n",
              "    <tr>\n",
              "      <th>2016-05-13</th>\n",
              "      <td>726.62</td>\n",
              "      <td>731.2900</td>\n",
              "      <td>723.5100</td>\n",
              "      <td>724.83</td>\n",
              "      <td>817350</td>\n",
              "    </tr>\n",
              "    <tr>\n",
              "      <th>2016-05-12</th>\n",
              "      <td>732.00</td>\n",
              "      <td>735.3700</td>\n",
              "      <td>724.2700</td>\n",
              "      <td>728.07</td>\n",
              "      <td>881204</td>\n",
              "    </tr>\n",
              "    <tr>\n",
              "      <th>2016-05-11</th>\n",
              "      <td>740.52</td>\n",
              "      <td>740.8000</td>\n",
              "      <td>727.9030</td>\n",
              "      <td>730.55</td>\n",
              "      <td>1007524</td>\n",
              "    </tr>\n",
              "    <tr>\n",
              "      <th>2016-05-10</th>\n",
              "      <td>734.96</td>\n",
              "      <td>740.0000</td>\n",
              "      <td>731.6100</td>\n",
              "      <td>739.38</td>\n",
              "      <td>1154428</td>\n",
              "    </tr>\n",
              "  </tbody>\n",
              "</table>\n",
              "<p>1258 rows × 5 columns</p>\n",
              "</div>"
            ],
            "text/plain": [
              "               Open       High        Low    Close   Volume\n",
              "Date                                                       \n",
              "2021-05-07  2363.89  2371.2500  2346.1550  2351.93  1444862\n",
              "2021-05-06  2306.33  2337.3500  2293.0418  2337.35  1259523\n",
              "2021-05-05  2328.63  2335.0000  2308.2800  2314.77  1331809\n",
              "2021-05-04  2313.55  2324.9899  2256.6800  2306.83  2240932\n",
              "2021-05-03  2364.91  2381.5500  2335.5000  2343.08  1412139\n",
              "...             ...        ...        ...      ...      ...\n",
              "2016-05-16   724.32   732.6800   720.0000   730.30   716115\n",
              "2016-05-13   726.62   731.2900   723.5100   724.83   817350\n",
              "2016-05-12   732.00   735.3700   724.2700   728.07   881204\n",
              "2016-05-11   740.52   740.8000   727.9030   730.55  1007524\n",
              "2016-05-10   734.96   740.0000   731.6100   739.38  1154428\n",
              "\n",
              "[1258 rows x 5 columns]"
            ]
          },
          "metadata": {
            "tags": []
          },
          "execution_count": 5
        }
      ]
    },
    {
      "cell_type": "markdown",
      "metadata": {
        "id": "J9pY1rtr1sC0"
      },
      "source": [
        "### <a name='2'></a> Ćwiczenie 122\n",
        "Wyświetl podstawowe informacje na temat obiektu _google_."
      ]
    },
    {
      "cell_type": "code",
      "metadata": {
        "id": "0QE4WiIDeGqy",
        "colab": {
          "base_uri": "https://localhost:8080/"
        },
        "outputId": "adc693f1-49ac-4554-e551-d2e859de4193"
      },
      "source": [
        "google.info()"
      ],
      "execution_count": null,
      "outputs": [
        {
          "output_type": "stream",
          "text": [
            "<class 'pandas.core.frame.DataFrame'>\n",
            "DatetimeIndex: 1258 entries, 2021-05-07 to 2016-05-10\n",
            "Data columns (total 5 columns):\n",
            " #   Column  Non-Null Count  Dtype  \n",
            "---  ------  --------------  -----  \n",
            " 0   Open    1258 non-null   float64\n",
            " 1   High    1258 non-null   float64\n",
            " 2   Low     1258 non-null   float64\n",
            " 3   Close   1258 non-null   float64\n",
            " 4   Volume  1258 non-null   int64  \n",
            "dtypes: float64(4), int64(1)\n",
            "memory usage: 59.0 KB\n"
          ],
          "name": "stdout"
        }
      ]
    },
    {
      "cell_type": "markdown",
      "metadata": {
        "id": "yic8GlyieMAv"
      },
      "source": [
        "Wyświetl podstawowe statystyki o obiekcie _google_."
      ]
    },
    {
      "cell_type": "code",
      "metadata": {
        "id": "8CiWPVl0eJ2B",
        "colab": {
          "base_uri": "https://localhost:8080/",
          "height": 287
        },
        "outputId": "b675ca47-d7b4-4dfc-b005-9f245db551ef"
      },
      "source": [
        "google.describe()"
      ],
      "execution_count": null,
      "outputs": [
        {
          "output_type": "execute_result",
          "data": {
            "text/html": [
              "<div>\n",
              "<style scoped>\n",
              "    .dataframe tbody tr th:only-of-type {\n",
              "        vertical-align: middle;\n",
              "    }\n",
              "\n",
              "    .dataframe tbody tr th {\n",
              "        vertical-align: top;\n",
              "    }\n",
              "\n",
              "    .dataframe thead th {\n",
              "        text-align: right;\n",
              "    }\n",
              "</style>\n",
              "<table border=\"1\" class=\"dataframe\">\n",
              "  <thead>\n",
              "    <tr style=\"text-align: right;\">\n",
              "      <th></th>\n",
              "      <th>Open</th>\n",
              "      <th>High</th>\n",
              "      <th>Low</th>\n",
              "      <th>Close</th>\n",
              "      <th>Volume</th>\n",
              "    </tr>\n",
              "  </thead>\n",
              "  <tbody>\n",
              "    <tr>\n",
              "      <th>count</th>\n",
              "      <td>1258.000000</td>\n",
              "      <td>1258.000000</td>\n",
              "      <td>1258.000000</td>\n",
              "      <td>1258.000000</td>\n",
              "      <td>1.258000e+03</td>\n",
              "    </tr>\n",
              "    <tr>\n",
              "      <th>mean</th>\n",
              "      <td>1190.862811</td>\n",
              "      <td>1202.631914</td>\n",
              "      <td>1179.435319</td>\n",
              "      <td>1191.497375</td>\n",
              "      <td>1.730021e+06</td>\n",
              "    </tr>\n",
              "    <tr>\n",
              "      <th>std</th>\n",
              "      <td>342.539595</td>\n",
              "      <td>347.636933</td>\n",
              "      <td>338.514132</td>\n",
              "      <td>343.145436</td>\n",
              "      <td>8.297347e+05</td>\n",
              "    </tr>\n",
              "    <tr>\n",
              "      <th>min</th>\n",
              "      <td>682.490000</td>\n",
              "      <td>683.325000</td>\n",
              "      <td>672.660000</td>\n",
              "      <td>681.140000</td>\n",
              "      <td>4.656380e+05</td>\n",
              "    </tr>\n",
              "    <tr>\n",
              "      <th>25%</th>\n",
              "      <td>960.215000</td>\n",
              "      <td>965.967000</td>\n",
              "      <td>952.957500</td>\n",
              "      <td>961.210000</td>\n",
              "      <td>1.204919e+06</td>\n",
              "    </tr>\n",
              "    <tr>\n",
              "      <th>50%</th>\n",
              "      <td>1126.645000</td>\n",
              "      <td>1139.310000</td>\n",
              "      <td>1114.180000</td>\n",
              "      <td>1127.180000</td>\n",
              "      <td>1.526707e+06</td>\n",
              "    </tr>\n",
              "    <tr>\n",
              "      <th>75%</th>\n",
              "      <td>1333.327500</td>\n",
              "      <td>1349.417500</td>\n",
              "      <td>1320.165000</td>\n",
              "      <td>1338.867500</td>\n",
              "      <td>1.978642e+06</td>\n",
              "    </tr>\n",
              "    <tr>\n",
              "      <th>max</th>\n",
              "      <td>2392.495400</td>\n",
              "      <td>2431.380000</td>\n",
              "      <td>2373.850000</td>\n",
              "      <td>2392.760000</td>\n",
              "      <td>6.658855e+06</td>\n",
              "    </tr>\n",
              "  </tbody>\n",
              "</table>\n",
              "</div>"
            ],
            "text/plain": [
              "              Open         High          Low        Close        Volume\n",
              "count  1258.000000  1258.000000  1258.000000  1258.000000  1.258000e+03\n",
              "mean   1190.862811  1202.631914  1179.435319  1191.497375  1.730021e+06\n",
              "std     342.539595   347.636933   338.514132   343.145436  8.297347e+05\n",
              "min     682.490000   683.325000   672.660000   681.140000  4.656380e+05\n",
              "25%     960.215000   965.967000   952.957500   961.210000  1.204919e+06\n",
              "50%    1126.645000  1139.310000  1114.180000  1127.180000  1.526707e+06\n",
              "75%    1333.327500  1349.417500  1320.165000  1338.867500  1.978642e+06\n",
              "max    2392.495400  2431.380000  2373.850000  2392.760000  6.658855e+06"
            ]
          },
          "metadata": {
            "tags": []
          },
          "execution_count": 8
        }
      ]
    },
    {
      "cell_type": "markdown",
      "metadata": {
        "id": "OwKsy3HRf1Z5"
      },
      "source": [
        "Zwróć uwagę na precyzję zapisu poszczególnych statystyk.\n",
        "Spróbuj ustawić odpowiednie opcje biblioteki _pandas_, tak aby wyświetlać dane z dokładnością do dwóch miejsc po przecinku.\n",
        "\n",
        "__Wskazówka:__ \n",
        "https://pandas.pydata.org/pandas-docs/stable/user_guide/options.html"
      ]
    },
    {
      "cell_type": "code",
      "metadata": {
        "id": "mskz01W_gCy0",
        "colab": {
          "base_uri": "https://localhost:8080/",
          "height": 287
        },
        "outputId": "2eb7a48d-c6c0-40d4-9dd6-fa6bcc11e729"
      },
      "source": [
        "pd.set_option(\"precision\", 2)\n",
        "google.describe()"
      ],
      "execution_count": null,
      "outputs": [
        {
          "output_type": "execute_result",
          "data": {
            "text/html": [
              "<div>\n",
              "<style scoped>\n",
              "    .dataframe tbody tr th:only-of-type {\n",
              "        vertical-align: middle;\n",
              "    }\n",
              "\n",
              "    .dataframe tbody tr th {\n",
              "        vertical-align: top;\n",
              "    }\n",
              "\n",
              "    .dataframe thead th {\n",
              "        text-align: right;\n",
              "    }\n",
              "</style>\n",
              "<table border=\"1\" class=\"dataframe\">\n",
              "  <thead>\n",
              "    <tr style=\"text-align: right;\">\n",
              "      <th></th>\n",
              "      <th>Open</th>\n",
              "      <th>High</th>\n",
              "      <th>Low</th>\n",
              "      <th>Close</th>\n",
              "      <th>Volume</th>\n",
              "    </tr>\n",
              "  </thead>\n",
              "  <tbody>\n",
              "    <tr>\n",
              "      <th>count</th>\n",
              "      <td>1258.00</td>\n",
              "      <td>1258.00</td>\n",
              "      <td>1258.00</td>\n",
              "      <td>1258.00</td>\n",
              "      <td>1.26e+03</td>\n",
              "    </tr>\n",
              "    <tr>\n",
              "      <th>mean</th>\n",
              "      <td>1190.86</td>\n",
              "      <td>1202.63</td>\n",
              "      <td>1179.44</td>\n",
              "      <td>1191.50</td>\n",
              "      <td>1.73e+06</td>\n",
              "    </tr>\n",
              "    <tr>\n",
              "      <th>std</th>\n",
              "      <td>342.54</td>\n",
              "      <td>347.64</td>\n",
              "      <td>338.51</td>\n",
              "      <td>343.15</td>\n",
              "      <td>8.30e+05</td>\n",
              "    </tr>\n",
              "    <tr>\n",
              "      <th>min</th>\n",
              "      <td>682.49</td>\n",
              "      <td>683.33</td>\n",
              "      <td>672.66</td>\n",
              "      <td>681.14</td>\n",
              "      <td>4.66e+05</td>\n",
              "    </tr>\n",
              "    <tr>\n",
              "      <th>25%</th>\n",
              "      <td>960.22</td>\n",
              "      <td>965.97</td>\n",
              "      <td>952.96</td>\n",
              "      <td>961.21</td>\n",
              "      <td>1.20e+06</td>\n",
              "    </tr>\n",
              "    <tr>\n",
              "      <th>50%</th>\n",
              "      <td>1126.64</td>\n",
              "      <td>1139.31</td>\n",
              "      <td>1114.18</td>\n",
              "      <td>1127.18</td>\n",
              "      <td>1.53e+06</td>\n",
              "    </tr>\n",
              "    <tr>\n",
              "      <th>75%</th>\n",
              "      <td>1333.33</td>\n",
              "      <td>1349.42</td>\n",
              "      <td>1320.16</td>\n",
              "      <td>1338.87</td>\n",
              "      <td>1.98e+06</td>\n",
              "    </tr>\n",
              "    <tr>\n",
              "      <th>max</th>\n",
              "      <td>2392.50</td>\n",
              "      <td>2431.38</td>\n",
              "      <td>2373.85</td>\n",
              "      <td>2392.76</td>\n",
              "      <td>6.66e+06</td>\n",
              "    </tr>\n",
              "  </tbody>\n",
              "</table>\n",
              "</div>"
            ],
            "text/plain": [
              "          Open     High      Low    Close    Volume\n",
              "count  1258.00  1258.00  1258.00  1258.00  1.26e+03\n",
              "mean   1190.86  1202.63  1179.44  1191.50  1.73e+06\n",
              "std     342.54   347.64   338.51   343.15  8.30e+05\n",
              "min     682.49   683.33   672.66   681.14  4.66e+05\n",
              "25%     960.22   965.97   952.96   961.21  1.20e+06\n",
              "50%    1126.64  1139.31  1114.18  1127.18  1.53e+06\n",
              "75%    1333.33  1349.42  1320.16  1338.87  1.98e+06\n",
              "max    2392.50  2431.38  2373.85  2392.76  6.66e+06"
            ]
          },
          "metadata": {
            "tags": []
          },
          "execution_count": 11
        }
      ]
    },
    {
      "cell_type": "markdown",
      "metadata": {
        "id": "iEXHrwHwheyo"
      },
      "source": [
        "__Dodatkowo:__\n",
        "Poniższe ustawienie stłumi także notację wykładniczą (patrz kolumna _Volume_)."
      ]
    },
    {
      "cell_type": "code",
      "metadata": {
        "id": "qdosioVRhGfC",
        "colab": {
          "base_uri": "https://localhost:8080/",
          "height": 287
        },
        "outputId": "79e1a777-ad12-42b9-e312-bf785346eae9"
      },
      "source": [
        "pd.options.display.float_format = '{:.2f}'.format\n",
        "google.describe()"
      ],
      "execution_count": null,
      "outputs": [
        {
          "output_type": "execute_result",
          "data": {
            "text/html": [
              "<div>\n",
              "<style scoped>\n",
              "    .dataframe tbody tr th:only-of-type {\n",
              "        vertical-align: middle;\n",
              "    }\n",
              "\n",
              "    .dataframe tbody tr th {\n",
              "        vertical-align: top;\n",
              "    }\n",
              "\n",
              "    .dataframe thead th {\n",
              "        text-align: right;\n",
              "    }\n",
              "</style>\n",
              "<table border=\"1\" class=\"dataframe\">\n",
              "  <thead>\n",
              "    <tr style=\"text-align: right;\">\n",
              "      <th></th>\n",
              "      <th>Open</th>\n",
              "      <th>High</th>\n",
              "      <th>Low</th>\n",
              "      <th>Close</th>\n",
              "      <th>Volume</th>\n",
              "    </tr>\n",
              "  </thead>\n",
              "  <tbody>\n",
              "    <tr>\n",
              "      <th>count</th>\n",
              "      <td>1258.00</td>\n",
              "      <td>1258.00</td>\n",
              "      <td>1258.00</td>\n",
              "      <td>1258.00</td>\n",
              "      <td>1258.00</td>\n",
              "    </tr>\n",
              "    <tr>\n",
              "      <th>mean</th>\n",
              "      <td>1190.86</td>\n",
              "      <td>1202.63</td>\n",
              "      <td>1179.44</td>\n",
              "      <td>1191.50</td>\n",
              "      <td>1730021.30</td>\n",
              "    </tr>\n",
              "    <tr>\n",
              "      <th>std</th>\n",
              "      <td>342.54</td>\n",
              "      <td>347.64</td>\n",
              "      <td>338.51</td>\n",
              "      <td>343.15</td>\n",
              "      <td>829734.72</td>\n",
              "    </tr>\n",
              "    <tr>\n",
              "      <th>min</th>\n",
              "      <td>682.49</td>\n",
              "      <td>683.33</td>\n",
              "      <td>672.66</td>\n",
              "      <td>681.14</td>\n",
              "      <td>465638.00</td>\n",
              "    </tr>\n",
              "    <tr>\n",
              "      <th>25%</th>\n",
              "      <td>960.22</td>\n",
              "      <td>965.97</td>\n",
              "      <td>952.96</td>\n",
              "      <td>961.21</td>\n",
              "      <td>1204919.25</td>\n",
              "    </tr>\n",
              "    <tr>\n",
              "      <th>50%</th>\n",
              "      <td>1126.64</td>\n",
              "      <td>1139.31</td>\n",
              "      <td>1114.18</td>\n",
              "      <td>1127.18</td>\n",
              "      <td>1526707.00</td>\n",
              "    </tr>\n",
              "    <tr>\n",
              "      <th>75%</th>\n",
              "      <td>1333.33</td>\n",
              "      <td>1349.42</td>\n",
              "      <td>1320.16</td>\n",
              "      <td>1338.87</td>\n",
              "      <td>1978641.75</td>\n",
              "    </tr>\n",
              "    <tr>\n",
              "      <th>max</th>\n",
              "      <td>2392.50</td>\n",
              "      <td>2431.38</td>\n",
              "      <td>2373.85</td>\n",
              "      <td>2392.76</td>\n",
              "      <td>6658855.00</td>\n",
              "    </tr>\n",
              "  </tbody>\n",
              "</table>\n",
              "</div>"
            ],
            "text/plain": [
              "         Open    High     Low   Close     Volume\n",
              "count 1258.00 1258.00 1258.00 1258.00    1258.00\n",
              "mean  1190.86 1202.63 1179.44 1191.50 1730021.30\n",
              "std    342.54  347.64  338.51  343.15  829734.72\n",
              "min    682.49  683.33  672.66  681.14  465638.00\n",
              "25%    960.22  965.97  952.96  961.21 1204919.25\n",
              "50%   1126.64 1139.31 1114.18 1127.18 1526707.00\n",
              "75%   1333.33 1349.42 1320.16 1338.87 1978641.75\n",
              "max   2392.50 2431.38 2373.85 2392.76 6658855.00"
            ]
          },
          "metadata": {
            "tags": []
          },
          "execution_count": 12
        }
      ]
    },
    {
      "cell_type": "markdown",
      "metadata": {
        "id": "p12duQuPlWSU"
      },
      "source": [
        "Zbuduj wykres ceny zamknięcia (_Close_) dla obiektu _google_."
      ]
    },
    {
      "cell_type": "code",
      "metadata": {
        "id": "tmpm-uiAlKgv",
        "colab": {
          "base_uri": "https://localhost:8080/",
          "height": 293
        },
        "outputId": "7b95854a-8311-4728-a56b-6beae86d92eb"
      },
      "source": [
        "google['Close'].plot()"
      ],
      "execution_count": null,
      "outputs": [
        {
          "output_type": "execute_result",
          "data": {
            "text/plain": [
              "<matplotlib.axes._subplots.AxesSubplot at 0x7f1cb5138fd0>"
            ]
          },
          "metadata": {
            "tags": []
          },
          "execution_count": 14
        },
        {
          "output_type": "display_data",
          "data": {
            "image/png": "[encoded data removed]",
            "text/plain": [
              "<Figure size 432x288 with 1 Axes>"
            ]
          },
          "metadata": {
            "tags": []
          }
        }
      ]
    },
    {
      "cell_type": "markdown",
      "metadata": {
        "id": "XQLYT2m11wVG"
      },
      "source": [
        "### <a name='3'></a> Ćwiczenie 123\n",
        "Zamień indeks _Date_ na kolumnę. Przypisz trwale zmiany do zniennej _google_."
      ]
    },
    {
      "cell_type": "code",
      "metadata": {
        "id": "Ac1OnxjOh3fa"
      },
      "source": [
        "google = google.reset_index()"
      ],
      "execution_count": null,
      "outputs": []
    },
    {
      "cell_type": "markdown",
      "metadata": {
        "id": "SRfQiXpGiXBc"
      },
      "source": [
        "Przypisz dwie nowe kolumny do obiektu _google_ dodając kolumnę z aktualnym numerem miesiąca o nazwie _'Month'_ oraz z rokiem o nazwie _'Year'_."
      ]
    },
    {
      "cell_type": "code",
      "metadata": {
        "id": "S32izk-BiL_q"
      },
      "source": [
        "google['Month'] = google[\"Date\"].dt.month\n",
        "google['Year'] = google[\"Date\"].dt.year"
      ],
      "execution_count": null,
      "outputs": []
    },
    {
      "cell_type": "code",
      "metadata": {
        "colab": {
          "base_uri": "https://localhost:8080/",
          "height": 406
        },
        "id": "bOmZiXofpChw",
        "outputId": "f30f1339-a576-43a5-9ef7-8846ec098697"
      },
      "source": [
        "google"
      ],
      "execution_count": null,
      "outputs": [
        {
          "output_type": "execute_result",
          "data": {
            "text/html": [
              "<div>\n",
              "<style scoped>\n",
              "    .dataframe tbody tr th:only-of-type {\n",
              "        vertical-align: middle;\n",
              "    }\n",
              "\n",
              "    .dataframe tbody tr th {\n",
              "        vertical-align: top;\n",
              "    }\n",
              "\n",
              "    .dataframe thead th {\n",
              "        text-align: right;\n",
              "    }\n",
              "</style>\n",
              "<table border=\"1\" class=\"dataframe\">\n",
              "  <thead>\n",
              "    <tr style=\"text-align: right;\">\n",
              "      <th></th>\n",
              "      <th>Date</th>\n",
              "      <th>Open</th>\n",
              "      <th>High</th>\n",
              "      <th>Low</th>\n",
              "      <th>Close</th>\n",
              "      <th>Volume</th>\n",
              "      <th>Month</th>\n",
              "      <th>Year</th>\n",
              "    </tr>\n",
              "  </thead>\n",
              "  <tbody>\n",
              "    <tr>\n",
              "      <th>0</th>\n",
              "      <td>2021-05-07</td>\n",
              "      <td>2363.89</td>\n",
              "      <td>2371.25</td>\n",
              "      <td>2346.16</td>\n",
              "      <td>2351.93</td>\n",
              "      <td>1444862</td>\n",
              "      <td>5</td>\n",
              "      <td>2021</td>\n",
              "    </tr>\n",
              "    <tr>\n",
              "      <th>1</th>\n",
              "      <td>2021-05-06</td>\n",
              "      <td>2306.33</td>\n",
              "      <td>2337.35</td>\n",
              "      <td>2293.04</td>\n",
              "      <td>2337.35</td>\n",
              "      <td>1259523</td>\n",
              "      <td>5</td>\n",
              "      <td>2021</td>\n",
              "    </tr>\n",
              "    <tr>\n",
              "      <th>2</th>\n",
              "      <td>2021-05-05</td>\n",
              "      <td>2328.63</td>\n",
              "      <td>2335.00</td>\n",
              "      <td>2308.28</td>\n",
              "      <td>2314.77</td>\n",
              "      <td>1331809</td>\n",
              "      <td>5</td>\n",
              "      <td>2021</td>\n",
              "    </tr>\n",
              "    <tr>\n",
              "      <th>3</th>\n",
              "      <td>2021-05-04</td>\n",
              "      <td>2313.55</td>\n",
              "      <td>2324.99</td>\n",
              "      <td>2256.68</td>\n",
              "      <td>2306.83</td>\n",
              "      <td>2240932</td>\n",
              "      <td>5</td>\n",
              "      <td>2021</td>\n",
              "    </tr>\n",
              "    <tr>\n",
              "      <th>4</th>\n",
              "      <td>2021-05-03</td>\n",
              "      <td>2364.91</td>\n",
              "      <td>2381.55</td>\n",
              "      <td>2335.50</td>\n",
              "      <td>2343.08</td>\n",
              "      <td>1412139</td>\n",
              "      <td>5</td>\n",
              "      <td>2021</td>\n",
              "    </tr>\n",
              "    <tr>\n",
              "      <th>...</th>\n",
              "      <td>...</td>\n",
              "      <td>...</td>\n",
              "      <td>...</td>\n",
              "      <td>...</td>\n",
              "      <td>...</td>\n",
              "      <td>...</td>\n",
              "      <td>...</td>\n",
              "      <td>...</td>\n",
              "    </tr>\n",
              "    <tr>\n",
              "      <th>1253</th>\n",
              "      <td>2016-05-16</td>\n",
              "      <td>724.32</td>\n",
              "      <td>732.68</td>\n",
              "      <td>720.00</td>\n",
              "      <td>730.30</td>\n",
              "      <td>716115</td>\n",
              "      <td>5</td>\n",
              "      <td>2016</td>\n",
              "    </tr>\n",
              "    <tr>\n",
              "      <th>1254</th>\n",
              "      <td>2016-05-13</td>\n",
              "      <td>726.62</td>\n",
              "      <td>731.29</td>\n",
              "      <td>723.51</td>\n",
              "      <td>724.83</td>\n",
              "      <td>817350</td>\n",
              "      <td>5</td>\n",
              "      <td>2016</td>\n",
              "    </tr>\n",
              "    <tr>\n",
              "      <th>1255</th>\n",
              "      <td>2016-05-12</td>\n",
              "      <td>732.00</td>\n",
              "      <td>735.37</td>\n",
              "      <td>724.27</td>\n",
              "      <td>728.07</td>\n",
              "      <td>881204</td>\n",
              "      <td>5</td>\n",
              "      <td>2016</td>\n",
              "    </tr>\n",
              "    <tr>\n",
              "      <th>1256</th>\n",
              "      <td>2016-05-11</td>\n",
              "      <td>740.52</td>\n",
              "      <td>740.80</td>\n",
              "      <td>727.90</td>\n",
              "      <td>730.55</td>\n",
              "      <td>1007524</td>\n",
              "      <td>5</td>\n",
              "      <td>2016</td>\n",
              "    </tr>\n",
              "    <tr>\n",
              "      <th>1257</th>\n",
              "      <td>2016-05-10</td>\n",
              "      <td>734.96</td>\n",
              "      <td>740.00</td>\n",
              "      <td>731.61</td>\n",
              "      <td>739.38</td>\n",
              "      <td>1154428</td>\n",
              "      <td>5</td>\n",
              "      <td>2016</td>\n",
              "    </tr>\n",
              "  </tbody>\n",
              "</table>\n",
              "<p>1258 rows × 8 columns</p>\n",
              "</div>"
            ],
            "text/plain": [
              "           Date    Open    High     Low   Close   Volume  Month  Year\n",
              "0    2021-05-07 2363.89 2371.25 2346.16 2351.93  1444862      5  2021\n",
              "1    2021-05-06 2306.33 2337.35 2293.04 2337.35  1259523      5  2021\n",
              "2    2021-05-05 2328.63 2335.00 2308.28 2314.77  1331809      5  2021\n",
              "3    2021-05-04 2313.55 2324.99 2256.68 2306.83  2240932      5  2021\n",
              "4    2021-05-03 2364.91 2381.55 2335.50 2343.08  1412139      5  2021\n",
              "...         ...     ...     ...     ...     ...      ...    ...   ...\n",
              "1253 2016-05-16  724.32  732.68  720.00  730.30   716115      5  2016\n",
              "1254 2016-05-13  726.62  731.29  723.51  724.83   817350      5  2016\n",
              "1255 2016-05-12  732.00  735.37  724.27  728.07   881204      5  2016\n",
              "1256 2016-05-11  740.52  740.80  727.90  730.55  1007524      5  2016\n",
              "1257 2016-05-10  734.96  740.00  731.61  739.38  1154428      5  2016\n",
              "\n",
              "[1258 rows x 8 columns]"
            ]
          },
          "metadata": {
            "tags": []
          },
          "execution_count": 19
        }
      ]
    },
    {
      "cell_type": "markdown",
      "metadata": {
        "id": "4xTKSUzg10MK"
      },
      "source": [
        "### <a name='4'></a> Ćwiczenie 124\n",
        "Policz średnią cenę zamknięcia (_Close_) dla poszczególnego roku (pogrupuj dane po roku - kolumna _Year_ i następnie policz wartość średnią)."
      ]
    },
    {
      "cell_type": "code",
      "metadata": {
        "id": "wSFs7z0Qi3Y7"
      },
      "source": [
        "close_year = google.groupby('Year')['Close'].mean()"
      ],
      "execution_count": null,
      "outputs": []
    },
    {
      "cell_type": "markdown",
      "metadata": {
        "id": "DSqQjdS4j-wl"
      },
      "source": [
        "Otrzymane wartości przedstaw na wykresie wykorzystując metodę _plot()_."
      ]
    },
    {
      "cell_type": "code",
      "metadata": {
        "id": "0nBtvC2tjaTK",
        "colab": {
          "base_uri": "https://localhost:8080/",
          "height": 302
        },
        "outputId": "57b7e7ef-a3fa-480a-cc0c-db59bcedafef"
      },
      "source": [
        "close_year.plot()"
      ],
      "execution_count": null,
      "outputs": [
        {
          "output_type": "execute_result",
          "data": {
            "text/plain": [
              "<matplotlib.axes._subplots.AxesSubplot at 0x7f1cb027fa90>"
            ]
          },
          "metadata": {
            "tags": []
          },
          "execution_count": 22
        },
        {
          "output_type": "display_data",
          "data": {
            "image/png": "[encoded data removed]",
            "text/plain": [
              "<Figure size 432x288 with 1 Axes>"
            ]
          },
          "metadata": {
            "tags": []
          }
        }
      ]
    },
    {
      "cell_type": "markdown",
      "metadata": {
        "id": "RduPz9PDkR2-"
      },
      "source": [
        "Policz średnią cenę zamknięcia (_Close_) dla miesiąca (pogrupuj dane po miesiącu - kolumna _Month_ i następnie policz wartość średnią)."
      ]
    },
    {
      "cell_type": "code",
      "metadata": {
        "id": "4Vd83xT_kIsg"
      },
      "source": [
        "month_close = google.groupby('Month')['Close'].mean()"
      ],
      "execution_count": null,
      "outputs": []
    },
    {
      "cell_type": "markdown",
      "metadata": {
        "id": "ytITHhjjkaoO"
      },
      "source": [
        "Otrzymane wartości przedstaw na wykresie wykorzystując metodę _plot()_.\n",
        "Zauważ, które miesiące mogą wskazywać na słabsze okresy na giełdzie."
      ]
    },
    {
      "cell_type": "code",
      "metadata": {
        "id": "ob02yPQRkK3E",
        "colab": {
          "base_uri": "https://localhost:8080/",
          "height": 302
        },
        "outputId": "13a74ea5-9929-4fdc-ace2-e0b7cb7031bc"
      },
      "source": [
        "month_close.plot()"
      ],
      "execution_count": null,
      "outputs": [
        {
          "output_type": "execute_result",
          "data": {
            "text/plain": [
              "<matplotlib.axes._subplots.AxesSubplot at 0x7f1cb0224410>"
            ]
          },
          "metadata": {
            "tags": []
          },
          "execution_count": 25
        },
        {
          "output_type": "display_data",
          "data": {
            "image/png": "[encoded data removed]",
            "text/plain": [
              "<Figure size 432x288 with 1 Axes>"
            ]
          },
          "metadata": {
            "tags": []
          }
        }
      ]
    },
    {
      "cell_type": "markdown",
      "metadata": {
        "id": "o3HKIKlP15Ro"
      },
      "source": [
        "### <a name='5'></a> Ćwiczenie 125\n",
        "Pogrupuj dane z obiektu _google_ na poziomie roku i miesiąca. Następnie policz wartość średnią."
      ]
    },
    {
      "cell_type": "code",
      "metadata": {
        "id": "DptCcOtNkokd",
        "colab": {
          "base_uri": "https://localhost:8080/"
        },
        "outputId": "4c037048-8d82-42ae-fdb3-0093cd7c5e47"
      },
      "source": [
        "google.groupby(['Month','Year'])['Close'].mean()"
      ],
      "execution_count": null,
      "outputs": [
        {
          "output_type": "execute_result",
          "data": {
            "text/plain": [
              "Month  Year\n",
              "1      2017    830.25\n",
              "       2018   1139.42\n",
              "       2019   1080.99\n",
              "       2020   1436.17\n",
              "       2021   1800.20\n",
              "                ...  \n",
              "12     2016    800.59\n",
              "       2017   1053.90\n",
              "       2018   1048.09\n",
              "       2019   1340.99\n",
              "       2020   1767.71\n",
              "Name: Close, Length: 61, dtype: float64"
            ]
          },
          "metadata": {
            "tags": []
          },
          "execution_count": 29
        }
      ]
    },
    {
      "cell_type": "markdown",
      "metadata": {
        "id": "PunXd_Ey16so"
      },
      "source": [
        "### <a name='6'></a> Ćwiczenie 126\n",
        "Znajdź indeks dla którego kolumna _Close_ przyjmuje wartość największą."
      ]
    },
    {
      "cell_type": "code",
      "metadata": {
        "id": "PIUT3b7Rm7v1",
        "colab": {
          "base_uri": "https://localhost:8080/"
        },
        "outputId": "d59ac137-8788-4154-e6ce-99773529c1fb"
      },
      "source": [
        "google['Close'].argmax()"
      ],
      "execution_count": null,
      "outputs": [
        {
          "output_type": "execute_result",
          "data": {
            "text/plain": [
              "6"
            ]
          },
          "metadata": {
            "tags": []
          },
          "execution_count": 31
        }
      ]
    },
    {
      "cell_type": "markdown",
      "metadata": {
        "id": "WETiC6NEnPm0"
      },
      "source": [
        "Wytnij wiersz dla tego indeksu z obiektu _google_ jako obiekt DataFrame. Odczytaj datę."
      ]
    },
    {
      "cell_type": "code",
      "metadata": {
        "id": "XccuGttMnL_d",
        "colab": {
          "base_uri": "https://localhost:8080/",
          "height": 77
        },
        "outputId": "7af7b3e4-0f16-48a7-ebf5-f2540bbddc21"
      },
      "source": [
        "google.iloc[[google['Close'].argmax()]]"
      ],
      "execution_count": null,
      "outputs": [
        {
          "output_type": "execute_result",
          "data": {
            "text/html": [
              "<div>\n",
              "<style scoped>\n",
              "    .dataframe tbody tr th:only-of-type {\n",
              "        vertical-align: middle;\n",
              "    }\n",
              "\n",
              "    .dataframe tbody tr th {\n",
              "        vertical-align: top;\n",
              "    }\n",
              "\n",
              "    .dataframe thead th {\n",
              "        text-align: right;\n",
              "    }\n",
              "</style>\n",
              "<table border=\"1\" class=\"dataframe\">\n",
              "  <thead>\n",
              "    <tr style=\"text-align: right;\">\n",
              "      <th></th>\n",
              "      <th>Date</th>\n",
              "      <th>Open</th>\n",
              "      <th>High</th>\n",
              "      <th>Low</th>\n",
              "      <th>Close</th>\n",
              "      <th>Volume</th>\n",
              "      <th>Month</th>\n",
              "      <th>Year</th>\n",
              "    </tr>\n",
              "  </thead>\n",
              "  <tbody>\n",
              "    <tr>\n",
              "      <th>6</th>\n",
              "      <td>2021-04-29</td>\n",
              "      <td>2389.23</td>\n",
              "      <td>2404.16</td>\n",
              "      <td>2373.85</td>\n",
              "      <td>2392.76</td>\n",
              "      <td>2061654</td>\n",
              "      <td>4</td>\n",
              "      <td>2021</td>\n",
              "    </tr>\n",
              "  </tbody>\n",
              "</table>\n",
              "</div>"
            ],
            "text/plain": [
              "        Date    Open    High     Low   Close   Volume  Month  Year\n",
              "6 2021-04-29 2389.23 2404.16 2373.85 2392.76  2061654      4  2021"
            ]
          },
          "metadata": {
            "tags": []
          },
          "execution_count": 34
        }
      ]
    },
    {
      "cell_type": "code",
      "metadata": {
        "colab": {
          "base_uri": "https://localhost:8080/",
          "height": 77
        },
        "id": "BnZBsjaCukjn",
        "outputId": "2f3038c9-522c-42b1-c202-75a8ffab9975"
      },
      "source": [
        "google.iloc[[6]]"
      ],
      "execution_count": null,
      "outputs": [
        {
          "output_type": "execute_result",
          "data": {
            "text/html": [
              "<div>\n",
              "<style scoped>\n",
              "    .dataframe tbody tr th:only-of-type {\n",
              "        vertical-align: middle;\n",
              "    }\n",
              "\n",
              "    .dataframe tbody tr th {\n",
              "        vertical-align: top;\n",
              "    }\n",
              "\n",
              "    .dataframe thead th {\n",
              "        text-align: right;\n",
              "    }\n",
              "</style>\n",
              "<table border=\"1\" class=\"dataframe\">\n",
              "  <thead>\n",
              "    <tr style=\"text-align: right;\">\n",
              "      <th></th>\n",
              "      <th>Date</th>\n",
              "      <th>Open</th>\n",
              "      <th>High</th>\n",
              "      <th>Low</th>\n",
              "      <th>Close</th>\n",
              "      <th>Volume</th>\n",
              "      <th>Month</th>\n",
              "      <th>Year</th>\n",
              "    </tr>\n",
              "  </thead>\n",
              "  <tbody>\n",
              "    <tr>\n",
              "      <th>6</th>\n",
              "      <td>2021-04-29</td>\n",
              "      <td>2389.23</td>\n",
              "      <td>2404.16</td>\n",
              "      <td>2373.85</td>\n",
              "      <td>2392.76</td>\n",
              "      <td>2061654</td>\n",
              "      <td>4</td>\n",
              "      <td>2021</td>\n",
              "    </tr>\n",
              "  </tbody>\n",
              "</table>\n",
              "</div>"
            ],
            "text/plain": [
              "        Date    Open    High     Low   Close   Volume  Month  Year\n",
              "6 2021-04-29 2389.23 2404.16 2373.85 2392.76  2061654      4  2021"
            ]
          },
          "metadata": {
            "tags": []
          },
          "execution_count": 37
        }
      ]
    },
    {
      "cell_type": "markdown",
      "metadata": {
        "id": "hOhqDRz618Tx"
      },
      "source": [
        "### <a name='7'></a> Ćwiczenie 127\n",
        "Z obiektu _google_ wytnij kolumny _Date_, _Open_, _Close_, _Volume_.\n",
        "Nie zmieniaj pierwotnego obiektu _google_!\n"
      ]
    },
    {
      "cell_type": "code",
      "metadata": {
        "id": "P17Vtv4imw28",
        "colab": {
          "base_uri": "https://localhost:8080/",
          "height": 406
        },
        "outputId": "cbc0341d-e7c2-452d-9cbd-77f2db6b85a8"
      },
      "source": [
        "google[['Date','Open','Close','Volume']]"
      ],
      "execution_count": null,
      "outputs": [
        {
          "output_type": "execute_result",
          "data": {
            "text/html": [
              "<div>\n",
              "<style scoped>\n",
              "    .dataframe tbody tr th:only-of-type {\n",
              "        vertical-align: middle;\n",
              "    }\n",
              "\n",
              "    .dataframe tbody tr th {\n",
              "        vertical-align: top;\n",
              "    }\n",
              "\n",
              "    .dataframe thead th {\n",
              "        text-align: right;\n",
              "    }\n",
              "</style>\n",
              "<table border=\"1\" class=\"dataframe\">\n",
              "  <thead>\n",
              "    <tr style=\"text-align: right;\">\n",
              "      <th></th>\n",
              "      <th>Date</th>\n",
              "      <th>Open</th>\n",
              "      <th>Close</th>\n",
              "      <th>Volume</th>\n",
              "    </tr>\n",
              "  </thead>\n",
              "  <tbody>\n",
              "    <tr>\n",
              "      <th>0</th>\n",
              "      <td>2021-05-07</td>\n",
              "      <td>2363.89</td>\n",
              "      <td>2351.93</td>\n",
              "      <td>1444862</td>\n",
              "    </tr>\n",
              "    <tr>\n",
              "      <th>1</th>\n",
              "      <td>2021-05-06</td>\n",
              "      <td>2306.33</td>\n",
              "      <td>2337.35</td>\n",
              "      <td>1259523</td>\n",
              "    </tr>\n",
              "    <tr>\n",
              "      <th>2</th>\n",
              "      <td>2021-05-05</td>\n",
              "      <td>2328.63</td>\n",
              "      <td>2314.77</td>\n",
              "      <td>1331809</td>\n",
              "    </tr>\n",
              "    <tr>\n",
              "      <th>3</th>\n",
              "      <td>2021-05-04</td>\n",
              "      <td>2313.55</td>\n",
              "      <td>2306.83</td>\n",
              "      <td>2240932</td>\n",
              "    </tr>\n",
              "    <tr>\n",
              "      <th>4</th>\n",
              "      <td>2021-05-03</td>\n",
              "      <td>2364.91</td>\n",
              "      <td>2343.08</td>\n",
              "      <td>1412139</td>\n",
              "    </tr>\n",
              "    <tr>\n",
              "      <th>...</th>\n",
              "      <td>...</td>\n",
              "      <td>...</td>\n",
              "      <td>...</td>\n",
              "      <td>...</td>\n",
              "    </tr>\n",
              "    <tr>\n",
              "      <th>1253</th>\n",
              "      <td>2016-05-16</td>\n",
              "      <td>724.32</td>\n",
              "      <td>730.30</td>\n",
              "      <td>716115</td>\n",
              "    </tr>\n",
              "    <tr>\n",
              "      <th>1254</th>\n",
              "      <td>2016-05-13</td>\n",
              "      <td>726.62</td>\n",
              "      <td>724.83</td>\n",
              "      <td>817350</td>\n",
              "    </tr>\n",
              "    <tr>\n",
              "      <th>1255</th>\n",
              "      <td>2016-05-12</td>\n",
              "      <td>732.00</td>\n",
              "      <td>728.07</td>\n",
              "      <td>881204</td>\n",
              "    </tr>\n",
              "    <tr>\n",
              "      <th>1256</th>\n",
              "      <td>2016-05-11</td>\n",
              "      <td>740.52</td>\n",
              "      <td>730.55</td>\n",
              "      <td>1007524</td>\n",
              "    </tr>\n",
              "    <tr>\n",
              "      <th>1257</th>\n",
              "      <td>2016-05-10</td>\n",
              "      <td>734.96</td>\n",
              "      <td>739.38</td>\n",
              "      <td>1154428</td>\n",
              "    </tr>\n",
              "  </tbody>\n",
              "</table>\n",
              "<p>1258 rows × 4 columns</p>\n",
              "</div>"
            ],
            "text/plain": [
              "           Date    Open   Close   Volume\n",
              "0    2021-05-07 2363.89 2351.93  1444862\n",
              "1    2021-05-06 2306.33 2337.35  1259523\n",
              "2    2021-05-05 2328.63 2314.77  1331809\n",
              "3    2021-05-04 2313.55 2306.83  2240932\n",
              "4    2021-05-03 2364.91 2343.08  1412139\n",
              "...         ...     ...     ...      ...\n",
              "1253 2016-05-16  724.32  730.30   716115\n",
              "1254 2016-05-13  726.62  724.83   817350\n",
              "1255 2016-05-12  732.00  728.07   881204\n",
              "1256 2016-05-11  740.52  730.55  1007524\n",
              "1257 2016-05-10  734.96  739.38  1154428\n",
              "\n",
              "[1258 rows x 4 columns]"
            ]
          },
          "metadata": {
            "tags": []
          },
          "execution_count": 38
        }
      ]
    },
    {
      "cell_type": "markdown",
      "metadata": {
        "id": "TXUd_4631-gw"
      },
      "source": [
        "### <a name='8'></a> Ćwiczenie 128\n",
        "Ustaw z powrotem indeks dla kolumny _Date_. Wyświetl obiekt _google_."
      ]
    },
    {
      "cell_type": "code",
      "metadata": {
        "id": "E4zwlRNFoMMz",
        "colab": {
          "base_uri": "https://localhost:8080/",
          "height": 436
        },
        "outputId": "1f6c732d-345a-4a20-f1a9-e922a0b56720"
      },
      "source": [
        "google = google.set_index('Date')\n",
        "google"
      ],
      "execution_count": null,
      "outputs": [
        {
          "output_type": "execute_result",
          "data": {
            "text/html": [
              "<div>\n",
              "<style scoped>\n",
              "    .dataframe tbody tr th:only-of-type {\n",
              "        vertical-align: middle;\n",
              "    }\n",
              "\n",
              "    .dataframe tbody tr th {\n",
              "        vertical-align: top;\n",
              "    }\n",
              "\n",
              "    .dataframe thead th {\n",
              "        text-align: right;\n",
              "    }\n",
              "</style>\n",
              "<table border=\"1\" class=\"dataframe\">\n",
              "  <thead>\n",
              "    <tr style=\"text-align: right;\">\n",
              "      <th></th>\n",
              "      <th>Open</th>\n",
              "      <th>High</th>\n",
              "      <th>Low</th>\n",
              "      <th>Close</th>\n",
              "      <th>Volume</th>\n",
              "      <th>Month</th>\n",
              "      <th>Year</th>\n",
              "    </tr>\n",
              "    <tr>\n",
              "      <th>Date</th>\n",
              "      <th></th>\n",
              "      <th></th>\n",
              "      <th></th>\n",
              "      <th></th>\n",
              "      <th></th>\n",
              "      <th></th>\n",
              "      <th></th>\n",
              "    </tr>\n",
              "  </thead>\n",
              "  <tbody>\n",
              "    <tr>\n",
              "      <th>2021-05-07</th>\n",
              "      <td>2363.89</td>\n",
              "      <td>2371.25</td>\n",
              "      <td>2346.16</td>\n",
              "      <td>2351.93</td>\n",
              "      <td>1444862</td>\n",
              "      <td>5</td>\n",
              "      <td>2021</td>\n",
              "    </tr>\n",
              "    <tr>\n",
              "      <th>2021-05-06</th>\n",
              "      <td>2306.33</td>\n",
              "      <td>2337.35</td>\n",
              "      <td>2293.04</td>\n",
              "      <td>2337.35</td>\n",
              "      <td>1259523</td>\n",
              "      <td>5</td>\n",
              "      <td>2021</td>\n",
              "    </tr>\n",
              "    <tr>\n",
              "      <th>2021-05-05</th>\n",
              "      <td>2328.63</td>\n",
              "      <td>2335.00</td>\n",
              "      <td>2308.28</td>\n",
              "      <td>2314.77</td>\n",
              "      <td>1331809</td>\n",
              "      <td>5</td>\n",
              "      <td>2021</td>\n",
              "    </tr>\n",
              "    <tr>\n",
              "      <th>2021-05-04</th>\n",
              "      <td>2313.55</td>\n",
              "      <td>2324.99</td>\n",
              "      <td>2256.68</td>\n",
              "      <td>2306.83</td>\n",
              "      <td>2240932</td>\n",
              "      <td>5</td>\n",
              "      <td>2021</td>\n",
              "    </tr>\n",
              "    <tr>\n",
              "      <th>2021-05-03</th>\n",
              "      <td>2364.91</td>\n",
              "      <td>2381.55</td>\n",
              "      <td>2335.50</td>\n",
              "      <td>2343.08</td>\n",
              "      <td>1412139</td>\n",
              "      <td>5</td>\n",
              "      <td>2021</td>\n",
              "    </tr>\n",
              "    <tr>\n",
              "      <th>...</th>\n",
              "      <td>...</td>\n",
              "      <td>...</td>\n",
              "      <td>...</td>\n",
              "      <td>...</td>\n",
              "      <td>...</td>\n",
              "      <td>...</td>\n",
              "      <td>...</td>\n",
              "    </tr>\n",
              "    <tr>\n",
              "      <th>2016-05-16</th>\n",
              "      <td>724.32</td>\n",
              "      <td>732.68</td>\n",
              "      <td>720.00</td>\n",
              "      <td>730.30</td>\n",
              "      <td>716115</td>\n",
              "      <td>5</td>\n",
              "      <td>2016</td>\n",
              "    </tr>\n",
              "    <tr>\n",
              "      <th>2016-05-13</th>\n",
              "      <td>726.62</td>\n",
              "      <td>731.29</td>\n",
              "      <td>723.51</td>\n",
              "      <td>724.83</td>\n",
              "      <td>817350</td>\n",
              "      <td>5</td>\n",
              "      <td>2016</td>\n",
              "    </tr>\n",
              "    <tr>\n",
              "      <th>2016-05-12</th>\n",
              "      <td>732.00</td>\n",
              "      <td>735.37</td>\n",
              "      <td>724.27</td>\n",
              "      <td>728.07</td>\n",
              "      <td>881204</td>\n",
              "      <td>5</td>\n",
              "      <td>2016</td>\n",
              "    </tr>\n",
              "    <tr>\n",
              "      <th>2016-05-11</th>\n",
              "      <td>740.52</td>\n",
              "      <td>740.80</td>\n",
              "      <td>727.90</td>\n",
              "      <td>730.55</td>\n",
              "      <td>1007524</td>\n",
              "      <td>5</td>\n",
              "      <td>2016</td>\n",
              "    </tr>\n",
              "    <tr>\n",
              "      <th>2016-05-10</th>\n",
              "      <td>734.96</td>\n",
              "      <td>740.00</td>\n",
              "      <td>731.61</td>\n",
              "      <td>739.38</td>\n",
              "      <td>1154428</td>\n",
              "      <td>5</td>\n",
              "      <td>2016</td>\n",
              "    </tr>\n",
              "  </tbody>\n",
              "</table>\n",
              "<p>1258 rows × 7 columns</p>\n",
              "</div>"
            ],
            "text/plain": [
              "              Open    High     Low   Close   Volume  Month  Year\n",
              "Date                                                            \n",
              "2021-05-07 2363.89 2371.25 2346.16 2351.93  1444862      5  2021\n",
              "2021-05-06 2306.33 2337.35 2293.04 2337.35  1259523      5  2021\n",
              "2021-05-05 2328.63 2335.00 2308.28 2314.77  1331809      5  2021\n",
              "2021-05-04 2313.55 2324.99 2256.68 2306.83  2240932      5  2021\n",
              "2021-05-03 2364.91 2381.55 2335.50 2343.08  1412139      5  2021\n",
              "...            ...     ...     ...     ...      ...    ...   ...\n",
              "2016-05-16  724.32  732.68  720.00  730.30   716115      5  2016\n",
              "2016-05-13  726.62  731.29  723.51  724.83   817350      5  2016\n",
              "2016-05-12  732.00  735.37  724.27  728.07   881204      5  2016\n",
              "2016-05-11  740.52  740.80  727.90  730.55  1007524      5  2016\n",
              "2016-05-10  734.96  740.00  731.61  739.38  1154428      5  2016\n",
              "\n",
              "[1258 rows x 7 columns]"
            ]
          },
          "metadata": {
            "tags": []
          },
          "execution_count": 39
        }
      ]
    },
    {
      "cell_type": "markdown",
      "metadata": {
        "id": "tgI6xEn-2AQo"
      },
      "source": [
        "### <a name='9'></a> Ćwiczenie 129\n",
        "Usuń na stałe kolumny _Year_ i _Month_ z obiektu _google_. Wyświetl obiekt _google_."
      ]
    },
    {
      "cell_type": "code",
      "metadata": {
        "id": "Qpy5zTecoY1T",
        "colab": {
          "base_uri": "https://localhost:8080/",
          "height": 436
        },
        "outputId": "80be94e9-7ad8-4963-87e6-e063f905327e"
      },
      "source": [
        "google = google.drop(columns=['Year','Month'])\n",
        "google"
      ],
      "execution_count": null,
      "outputs": [
        {
          "output_type": "execute_result",
          "data": {
            "text/html": [
              "<div>\n",
              "<style scoped>\n",
              "    .dataframe tbody tr th:only-of-type {\n",
              "        vertical-align: middle;\n",
              "    }\n",
              "\n",
              "    .dataframe tbody tr th {\n",
              "        vertical-align: top;\n",
              "    }\n",
              "\n",
              "    .dataframe thead th {\n",
              "        text-align: right;\n",
              "    }\n",
              "</style>\n",
              "<table border=\"1\" class=\"dataframe\">\n",
              "  <thead>\n",
              "    <tr style=\"text-align: right;\">\n",
              "      <th></th>\n",
              "      <th>Open</th>\n",
              "      <th>High</th>\n",
              "      <th>Low</th>\n",
              "      <th>Close</th>\n",
              "      <th>Volume</th>\n",
              "    </tr>\n",
              "    <tr>\n",
              "      <th>Date</th>\n",
              "      <th></th>\n",
              "      <th></th>\n",
              "      <th></th>\n",
              "      <th></th>\n",
              "      <th></th>\n",
              "    </tr>\n",
              "  </thead>\n",
              "  <tbody>\n",
              "    <tr>\n",
              "      <th>2021-05-07</th>\n",
              "      <td>2363.89</td>\n",
              "      <td>2371.25</td>\n",
              "      <td>2346.16</td>\n",
              "      <td>2351.93</td>\n",
              "      <td>1444862</td>\n",
              "    </tr>\n",
              "    <tr>\n",
              "      <th>2021-05-06</th>\n",
              "      <td>2306.33</td>\n",
              "      <td>2337.35</td>\n",
              "      <td>2293.04</td>\n",
              "      <td>2337.35</td>\n",
              "      <td>1259523</td>\n",
              "    </tr>\n",
              "    <tr>\n",
              "      <th>2021-05-05</th>\n",
              "      <td>2328.63</td>\n",
              "      <td>2335.00</td>\n",
              "      <td>2308.28</td>\n",
              "      <td>2314.77</td>\n",
              "      <td>1331809</td>\n",
              "    </tr>\n",
              "    <tr>\n",
              "      <th>2021-05-04</th>\n",
              "      <td>2313.55</td>\n",
              "      <td>2324.99</td>\n",
              "      <td>2256.68</td>\n",
              "      <td>2306.83</td>\n",
              "      <td>2240932</td>\n",
              "    </tr>\n",
              "    <tr>\n",
              "      <th>2021-05-03</th>\n",
              "      <td>2364.91</td>\n",
              "      <td>2381.55</td>\n",
              "      <td>2335.50</td>\n",
              "      <td>2343.08</td>\n",
              "      <td>1412139</td>\n",
              "    </tr>\n",
              "    <tr>\n",
              "      <th>...</th>\n",
              "      <td>...</td>\n",
              "      <td>...</td>\n",
              "      <td>...</td>\n",
              "      <td>...</td>\n",
              "      <td>...</td>\n",
              "    </tr>\n",
              "    <tr>\n",
              "      <th>2016-05-16</th>\n",
              "      <td>724.32</td>\n",
              "      <td>732.68</td>\n",
              "      <td>720.00</td>\n",
              "      <td>730.30</td>\n",
              "      <td>716115</td>\n",
              "    </tr>\n",
              "    <tr>\n",
              "      <th>2016-05-13</th>\n",
              "      <td>726.62</td>\n",
              "      <td>731.29</td>\n",
              "      <td>723.51</td>\n",
              "      <td>724.83</td>\n",
              "      <td>817350</td>\n",
              "    </tr>\n",
              "    <tr>\n",
              "      <th>2016-05-12</th>\n",
              "      <td>732.00</td>\n",
              "      <td>735.37</td>\n",
              "      <td>724.27</td>\n",
              "      <td>728.07</td>\n",
              "      <td>881204</td>\n",
              "    </tr>\n",
              "    <tr>\n",
              "      <th>2016-05-11</th>\n",
              "      <td>740.52</td>\n",
              "      <td>740.80</td>\n",
              "      <td>727.90</td>\n",
              "      <td>730.55</td>\n",
              "      <td>1007524</td>\n",
              "    </tr>\n",
              "    <tr>\n",
              "      <th>2016-05-10</th>\n",
              "      <td>734.96</td>\n",
              "      <td>740.00</td>\n",
              "      <td>731.61</td>\n",
              "      <td>739.38</td>\n",
              "      <td>1154428</td>\n",
              "    </tr>\n",
              "  </tbody>\n",
              "</table>\n",
              "<p>1258 rows × 5 columns</p>\n",
              "</div>"
            ],
            "text/plain": [
              "              Open    High     Low   Close   Volume\n",
              "Date                                               \n",
              "2021-05-07 2363.89 2371.25 2346.16 2351.93  1444862\n",
              "2021-05-06 2306.33 2337.35 2293.04 2337.35  1259523\n",
              "2021-05-05 2328.63 2335.00 2308.28 2314.77  1331809\n",
              "2021-05-04 2313.55 2324.99 2256.68 2306.83  2240932\n",
              "2021-05-03 2364.91 2381.55 2335.50 2343.08  1412139\n",
              "...            ...     ...     ...     ...      ...\n",
              "2016-05-16  724.32  732.68  720.00  730.30   716115\n",
              "2016-05-13  726.62  731.29  723.51  724.83   817350\n",
              "2016-05-12  732.00  735.37  724.27  728.07   881204\n",
              "2016-05-11  740.52  740.80  727.90  730.55  1007524\n",
              "2016-05-10  734.96  740.00  731.61  739.38  1154428\n",
              "\n",
              "[1258 rows x 5 columns]"
            ]
          },
          "metadata": {
            "tags": []
          },
          "execution_count": 42
        }
      ]
    },
    {
      "cell_type": "markdown",
      "metadata": {
        "id": "wxhpf-uq2B1I"
      },
      "source": [
        "### <a name='10'></a> Ćwiczenie 130\n",
        "Przypisz polskie nazwy kolumn (bez polskich znaków):\n",
        "* Open -> Otwarcie\n",
        "* High -> Najwyzszy\n",
        "* Low -> Najnizszy\n",
        "* Close -> Zamkniecie\n",
        "* Volume -> Wolumen\n",
        "\n",
        "do obiektu _google_. Wyświetl obiekt _google_."
      ]
    },
    {
      "cell_type": "code",
      "metadata": {
        "id": "YFc0KW6URsuc",
        "colab": {
          "base_uri": "https://localhost:8080/",
          "height": 436
        },
        "outputId": "dc77d652-c768-4512-e331-a909fa873587"
      },
      "source": [
        "google.rename(columns={'Open':'Otwarcie','High':'Najwyższy','Low':'Najniższy','Close':'Zamknięcie','Volume':'Wol'})"
      ],
      "execution_count": null,
      "outputs": [
        {
          "output_type": "execute_result",
          "data": {
            "text/html": [
              "<div>\n",
              "<style scoped>\n",
              "    .dataframe tbody tr th:only-of-type {\n",
              "        vertical-align: middle;\n",
              "    }\n",
              "\n",
              "    .dataframe tbody tr th {\n",
              "        vertical-align: top;\n",
              "    }\n",
              "\n",
              "    .dataframe thead th {\n",
              "        text-align: right;\n",
              "    }\n",
              "</style>\n",
              "<table border=\"1\" class=\"dataframe\">\n",
              "  <thead>\n",
              "    <tr style=\"text-align: right;\">\n",
              "      <th></th>\n",
              "      <th>Otwarcie</th>\n",
              "      <th>Najwyższy</th>\n",
              "      <th>Low</th>\n",
              "      <th>Close</th>\n",
              "      <th>Volume</th>\n",
              "    </tr>\n",
              "    <tr>\n",
              "      <th>Date</th>\n",
              "      <th></th>\n",
              "      <th></th>\n",
              "      <th></th>\n",
              "      <th></th>\n",
              "      <th></th>\n",
              "    </tr>\n",
              "  </thead>\n",
              "  <tbody>\n",
              "    <tr>\n",
              "      <th>2021-05-07</th>\n",
              "      <td>2363.89</td>\n",
              "      <td>2371.25</td>\n",
              "      <td>2346.16</td>\n",
              "      <td>2351.93</td>\n",
              "      <td>1444862</td>\n",
              "    </tr>\n",
              "    <tr>\n",
              "      <th>2021-05-06</th>\n",
              "      <td>2306.33</td>\n",
              "      <td>2337.35</td>\n",
              "      <td>2293.04</td>\n",
              "      <td>2337.35</td>\n",
              "      <td>1259523</td>\n",
              "    </tr>\n",
              "    <tr>\n",
              "      <th>2021-05-05</th>\n",
              "      <td>2328.63</td>\n",
              "      <td>2335.00</td>\n",
              "      <td>2308.28</td>\n",
              "      <td>2314.77</td>\n",
              "      <td>1331809</td>\n",
              "    </tr>\n",
              "    <tr>\n",
              "      <th>2021-05-04</th>\n",
              "      <td>2313.55</td>\n",
              "      <td>2324.99</td>\n",
              "      <td>2256.68</td>\n",
              "      <td>2306.83</td>\n",
              "      <td>2240932</td>\n",
              "    </tr>\n",
              "    <tr>\n",
              "      <th>2021-05-03</th>\n",
              "      <td>2364.91</td>\n",
              "      <td>2381.55</td>\n",
              "      <td>2335.50</td>\n",
              "      <td>2343.08</td>\n",
              "      <td>1412139</td>\n",
              "    </tr>\n",
              "    <tr>\n",
              "      <th>...</th>\n",
              "      <td>...</td>\n",
              "      <td>...</td>\n",
              "      <td>...</td>\n",
              "      <td>...</td>\n",
              "      <td>...</td>\n",
              "    </tr>\n",
              "    <tr>\n",
              "      <th>2016-05-16</th>\n",
              "      <td>724.32</td>\n",
              "      <td>732.68</td>\n",
              "      <td>720.00</td>\n",
              "      <td>730.30</td>\n",
              "      <td>716115</td>\n",
              "    </tr>\n",
              "    <tr>\n",
              "      <th>2016-05-13</th>\n",
              "      <td>726.62</td>\n",
              "      <td>731.29</td>\n",
              "      <td>723.51</td>\n",
              "      <td>724.83</td>\n",
              "      <td>817350</td>\n",
              "    </tr>\n",
              "    <tr>\n",
              "      <th>2016-05-12</th>\n",
              "      <td>732.00</td>\n",
              "      <td>735.37</td>\n",
              "      <td>724.27</td>\n",
              "      <td>728.07</td>\n",
              "      <td>881204</td>\n",
              "    </tr>\n",
              "    <tr>\n",
              "      <th>2016-05-11</th>\n",
              "      <td>740.52</td>\n",
              "      <td>740.80</td>\n",
              "      <td>727.90</td>\n",
              "      <td>730.55</td>\n",
              "      <td>1007524</td>\n",
              "    </tr>\n",
              "    <tr>\n",
              "      <th>2016-05-10</th>\n",
              "      <td>734.96</td>\n",
              "      <td>740.00</td>\n",
              "      <td>731.61</td>\n",
              "      <td>739.38</td>\n",
              "      <td>1154428</td>\n",
              "    </tr>\n",
              "  </tbody>\n",
              "</table>\n",
              "<p>1258 rows × 5 columns</p>\n",
              "</div>"
            ],
            "text/plain": [
              "            Otwarcie  Najwyższy     Low   Close   Volume\n",
              "Date                                                    \n",
              "2021-05-07   2363.89    2371.25 2346.16 2351.93  1444862\n",
              "2021-05-06   2306.33    2337.35 2293.04 2337.35  1259523\n",
              "2021-05-05   2328.63    2335.00 2308.28 2314.77  1331809\n",
              "2021-05-04   2313.55    2324.99 2256.68 2306.83  2240932\n",
              "2021-05-03   2364.91    2381.55 2335.50 2343.08  1412139\n",
              "...              ...        ...     ...     ...      ...\n",
              "2016-05-16    724.32     732.68  720.00  730.30   716115\n",
              "2016-05-13    726.62     731.29  723.51  724.83   817350\n",
              "2016-05-12    732.00     735.37  724.27  728.07   881204\n",
              "2016-05-11    740.52     740.80  727.90  730.55  1007524\n",
              "2016-05-10    734.96     740.00  731.61  739.38  1154428\n",
              "\n",
              "[1258 rows x 5 columns]"
            ]
          },
          "metadata": {
            "tags": []
          },
          "execution_count": 43
        }
      ]
    }
  ]
}