{
  "nbformat": 4,
  "nbformat_minor": 0,
  "metadata": {
    "colab": {
      "name": "141-150_exercises.ipynb",
      "provenance": [],
      "collapsed_sections": []
    },
    "kernelspec": {
      "name": "python3",
      "display_name": "Python 3"
    }
  },
  "cells": [
    {
      "cell_type": "markdown",
      "metadata": {
        "id": "WLEgCW5F1hho"
      },
      "source": [
        "## Pandas\n",
        "\n",
        "### Spis treści:\n",
        "* [Import biblioteki](#0)\n",
        "* [Ćwiczenie 141](#1)\n",
        "* [Ćwiczenie 142](#2)\n",
        "* [Ćwiczenie 143](#3)\n",
        "* [Ćwiczenie 144](#4)\n",
        "* [Ćwiczenie 145](#5)\n",
        "* [Ćwiczenie 146](#6)\n",
        "* [Ćwiczenie 147](#7)\n",
        "* [Ćwiczenie 148](#8)\n",
        "* [Ćwiczenie 149](#9)\n",
        "* [Ćwiczenie 150](#10)"
      ]
    },
    {
      "cell_type": "markdown",
      "metadata": {
        "id": "zeLOLmTj1kBM"
      },
      "source": [
        "### <a name='0'></a>Import biblioteki"
      ]
    },
    {
      "cell_type": "code",
      "metadata": {
        "id": "HXMB7SMe1Wnz",
        "colab": {
          "base_uri": "https://localhost:8080/",
          "height": 35
        },
        "outputId": "4675c193-21f3-49f6-9703-7df80dcf9a68"
      },
      "source": [
        "import numpy as np\n",
        "import pandas as pd\n",
        "\n",
        "np.random.seed(42)\n",
        "np.__version__"
      ],
      "execution_count": null,
      "outputs": [
        {
          "output_type": "execute_result",
          "data": {
            "application/vnd.google.colaboratory.intrinsic+json": {
              "type": "string"
            },
            "text/plain": [
              "'1.19.5'"
            ]
          },
          "metadata": {
            "tags": []
          },
          "execution_count": 1
        }
      ]
    },
    {
      "cell_type": "markdown",
      "metadata": {
        "id": "cyc70pMe1oCg"
      },
      "source": [
        "### <a name='1'></a> Ćwiczenie 141\n",
        "Podane są dwa obiekty typu _Series_:\n",
        "\n",
        "```\n",
        "s1 = pd.Series(np.random.rand(20))\n",
        "s2 = pd.Series(np.random.randn(20))\n",
        "```\n",
        "Połącz te dwa obiekty w jeden obiekt typu _DataFrame_ (jako dwie kolumny) i przypisz do zmiennej _df_. Nadaj nazwy kolumn odpowiednio _col1_ oraz _col2_.\n"
      ]
    },
    {
      "cell_type": "code",
      "metadata": {
        "id": "7htc5HhMKBjO"
      },
      "source": [
        "s1 = pd.Series(np.random.rand(20))\n",
        "s2 = pd.Series(np.random.randn(20))"
      ],
      "execution_count": null,
      "outputs": []
    },
    {
      "cell_type": "code",
      "metadata": {
        "colab": {
          "base_uri": "https://localhost:8080/",
          "height": 669
        },
        "id": "cPwSOT190aJj",
        "outputId": "d966d775-81e1-40c7-d4b1-cdef6955d3a9"
      },
      "source": [
        "df = pd.concat([s1,s2],axis=1)\n",
        "df.columns = ['col1','col2']\n",
        "df"
      ],
      "execution_count": null,
      "outputs": [
        {
          "output_type": "execute_result",
          "data": {
            "text/html": [
              "<div>\n",
              "<style scoped>\n",
              "    .dataframe tbody tr th:only-of-type {\n",
              "        vertical-align: middle;\n",
              "    }\n",
              "\n",
              "    .dataframe tbody tr th {\n",
              "        vertical-align: top;\n",
              "    }\n",
              "\n",
              "    .dataframe thead th {\n",
              "        text-align: right;\n",
              "    }\n",
              "</style>\n",
              "<table border=\"1\" class=\"dataframe\">\n",
              "  <thead>\n",
              "    <tr style=\"text-align: right;\">\n",
              "      <th></th>\n",
              "      <th>col1</th>\n",
              "      <th>col2</th>\n",
              "    </tr>\n",
              "  </thead>\n",
              "  <tbody>\n",
              "    <tr>\n",
              "      <th>0</th>\n",
              "      <td>0.374540</td>\n",
              "      <td>-1.012831</td>\n",
              "    </tr>\n",
              "    <tr>\n",
              "      <th>1</th>\n",
              "      <td>0.950714</td>\n",
              "      <td>0.314247</td>\n",
              "    </tr>\n",
              "    <tr>\n",
              "      <th>2</th>\n",
              "      <td>0.731994</td>\n",
              "      <td>-0.908024</td>\n",
              "    </tr>\n",
              "    <tr>\n",
              "      <th>3</th>\n",
              "      <td>0.598658</td>\n",
              "      <td>-1.412304</td>\n",
              "    </tr>\n",
              "    <tr>\n",
              "      <th>4</th>\n",
              "      <td>0.156019</td>\n",
              "      <td>1.465649</td>\n",
              "    </tr>\n",
              "    <tr>\n",
              "      <th>5</th>\n",
              "      <td>0.155995</td>\n",
              "      <td>-0.225776</td>\n",
              "    </tr>\n",
              "    <tr>\n",
              "      <th>6</th>\n",
              "      <td>0.058084</td>\n",
              "      <td>0.067528</td>\n",
              "    </tr>\n",
              "    <tr>\n",
              "      <th>7</th>\n",
              "      <td>0.866176</td>\n",
              "      <td>-1.424748</td>\n",
              "    </tr>\n",
              "    <tr>\n",
              "      <th>8</th>\n",
              "      <td>0.601115</td>\n",
              "      <td>-0.544383</td>\n",
              "    </tr>\n",
              "    <tr>\n",
              "      <th>9</th>\n",
              "      <td>0.708073</td>\n",
              "      <td>0.110923</td>\n",
              "    </tr>\n",
              "    <tr>\n",
              "      <th>10</th>\n",
              "      <td>0.020584</td>\n",
              "      <td>-1.150994</td>\n",
              "    </tr>\n",
              "    <tr>\n",
              "      <th>11</th>\n",
              "      <td>0.969910</td>\n",
              "      <td>0.375698</td>\n",
              "    </tr>\n",
              "    <tr>\n",
              "      <th>12</th>\n",
              "      <td>0.832443</td>\n",
              "      <td>-0.600639</td>\n",
              "    </tr>\n",
              "    <tr>\n",
              "      <th>13</th>\n",
              "      <td>0.212339</td>\n",
              "      <td>-0.291694</td>\n",
              "    </tr>\n",
              "    <tr>\n",
              "      <th>14</th>\n",
              "      <td>0.181825</td>\n",
              "      <td>-0.601707</td>\n",
              "    </tr>\n",
              "    <tr>\n",
              "      <th>15</th>\n",
              "      <td>0.183405</td>\n",
              "      <td>1.852278</td>\n",
              "    </tr>\n",
              "    <tr>\n",
              "      <th>16</th>\n",
              "      <td>0.304242</td>\n",
              "      <td>-0.013497</td>\n",
              "    </tr>\n",
              "    <tr>\n",
              "      <th>17</th>\n",
              "      <td>0.524756</td>\n",
              "      <td>-1.057711</td>\n",
              "    </tr>\n",
              "    <tr>\n",
              "      <th>18</th>\n",
              "      <td>0.431945</td>\n",
              "      <td>0.822545</td>\n",
              "    </tr>\n",
              "    <tr>\n",
              "      <th>19</th>\n",
              "      <td>0.291229</td>\n",
              "      <td>-1.220844</td>\n",
              "    </tr>\n",
              "  </tbody>\n",
              "</table>\n",
              "</div>"
            ],
            "text/plain": [
              "        col1      col2\n",
              "0   0.374540 -1.012831\n",
              "1   0.950714  0.314247\n",
              "2   0.731994 -0.908024\n",
              "3   0.598658 -1.412304\n",
              "4   0.156019  1.465649\n",
              "5   0.155995 -0.225776\n",
              "6   0.058084  0.067528\n",
              "7   0.866176 -1.424748\n",
              "8   0.601115 -0.544383\n",
              "9   0.708073  0.110923\n",
              "10  0.020584 -1.150994\n",
              "11  0.969910  0.375698\n",
              "12  0.832443 -0.600639\n",
              "13  0.212339 -0.291694\n",
              "14  0.181825 -0.601707\n",
              "15  0.183405  1.852278\n",
              "16  0.304242 -0.013497\n",
              "17  0.524756 -1.057711\n",
              "18  0.431945  0.822545\n",
              "19  0.291229 -1.220844"
            ]
          },
          "metadata": {
            "tags": []
          },
          "execution_count": 3
        }
      ]
    },
    {
      "cell_type": "markdown",
      "metadata": {
        "id": "J9pY1rtr1sC0"
      },
      "source": [
        "### <a name='2'></a> Ćwiczenie 142\n",
        "Wytnij z obiektu _df_ wiersze, dla których wartość w kolumnie _col2_ jest pomiędzy 0.0 a 1.0 (włącznie)."
      ]
    },
    {
      "cell_type": "code",
      "metadata": {
        "id": "rq935m0tLA46",
        "colab": {
          "base_uri": "https://localhost:8080/"
        },
        "outputId": "47b31cbc-6671-46df-a5ef-dfb43790e3f2"
      },
      "source": [
        "df['col2'][df['col2'].between(0,1)]"
      ],
      "execution_count": null,
      "outputs": [
        {
          "output_type": "execute_result",
          "data": {
            "text/plain": [
              "1     0.314247\n",
              "6     0.067528\n",
              "9     0.110923\n",
              "11    0.375698\n",
              "18    0.822545\n",
              "Name: col2, dtype: float64"
            ]
          },
          "metadata": {
            "tags": []
          },
          "execution_count": 4
        }
      ]
    },
    {
      "cell_type": "code",
      "metadata": {
        "colab": {
          "base_uri": "https://localhost:8080/"
        },
        "id": "HAeHEDVy6qVX",
        "outputId": "96f7224d-83ca-42ac-f1ea-8be3e7d0c935"
      },
      "source": [
        "df['col2'][(df['col2'] >= 0.0) & (df['col2'] <= 1.0)]"
      ],
      "execution_count": null,
      "outputs": [
        {
          "output_type": "execute_result",
          "data": {
            "text/plain": [
              "1     0.314247\n",
              "6     0.067528\n",
              "9     0.110923\n",
              "11    0.375698\n",
              "18    0.822545\n",
              "Name: col2, dtype: float64"
            ]
          },
          "metadata": {
            "tags": []
          },
          "execution_count": 5
        }
      ]
    },
    {
      "cell_type": "markdown",
      "metadata": {
        "id": "XQLYT2m11wVG"
      },
      "source": [
        "### <a name='3'></a> Ćwiczenie 143\n",
        "Przypisz nową kolumnę o nazwie _col3_, która przyjmie wartość 1 w momencie gdy w kolumnie _col2_ jest wartość nieujemna i przeciwnie -1."
      ]
    },
    {
      "cell_type": "code",
      "metadata": {
        "id": "mAkZEOCVMShv",
        "colab": {
          "base_uri": "https://localhost:8080/",
          "height": 669
        },
        "outputId": "bde3d548-583a-4a66-f95b-7122fc6c604b"
      },
      "source": [
        "df['col3'] = df['col2'].map(lambda x: 1 if x>= 0 else -1)\n",
        "df"
      ],
      "execution_count": null,
      "outputs": [
        {
          "output_type": "execute_result",
          "data": {
            "text/html": [
              "<div>\n",
              "<style scoped>\n",
              "    .dataframe tbody tr th:only-of-type {\n",
              "        vertical-align: middle;\n",
              "    }\n",
              "\n",
              "    .dataframe tbody tr th {\n",
              "        vertical-align: top;\n",
              "    }\n",
              "\n",
              "    .dataframe thead th {\n",
              "        text-align: right;\n",
              "    }\n",
              "</style>\n",
              "<table border=\"1\" class=\"dataframe\">\n",
              "  <thead>\n",
              "    <tr style=\"text-align: right;\">\n",
              "      <th></th>\n",
              "      <th>col1</th>\n",
              "      <th>col2</th>\n",
              "      <th>col3</th>\n",
              "    </tr>\n",
              "  </thead>\n",
              "  <tbody>\n",
              "    <tr>\n",
              "      <th>0</th>\n",
              "      <td>0.374540</td>\n",
              "      <td>-1.012831</td>\n",
              "      <td>-1</td>\n",
              "    </tr>\n",
              "    <tr>\n",
              "      <th>1</th>\n",
              "      <td>0.950714</td>\n",
              "      <td>0.314247</td>\n",
              "      <td>1</td>\n",
              "    </tr>\n",
              "    <tr>\n",
              "      <th>2</th>\n",
              "      <td>0.731994</td>\n",
              "      <td>-0.908024</td>\n",
              "      <td>-1</td>\n",
              "    </tr>\n",
              "    <tr>\n",
              "      <th>3</th>\n",
              "      <td>0.598658</td>\n",
              "      <td>-1.412304</td>\n",
              "      <td>-1</td>\n",
              "    </tr>\n",
              "    <tr>\n",
              "      <th>4</th>\n",
              "      <td>0.156019</td>\n",
              "      <td>1.465649</td>\n",
              "      <td>1</td>\n",
              "    </tr>\n",
              "    <tr>\n",
              "      <th>5</th>\n",
              "      <td>0.155995</td>\n",
              "      <td>-0.225776</td>\n",
              "      <td>-1</td>\n",
              "    </tr>\n",
              "    <tr>\n",
              "      <th>6</th>\n",
              "      <td>0.058084</td>\n",
              "      <td>0.067528</td>\n",
              "      <td>1</td>\n",
              "    </tr>\n",
              "    <tr>\n",
              "      <th>7</th>\n",
              "      <td>0.866176</td>\n",
              "      <td>-1.424748</td>\n",
              "      <td>-1</td>\n",
              "    </tr>\n",
              "    <tr>\n",
              "      <th>8</th>\n",
              "      <td>0.601115</td>\n",
              "      <td>-0.544383</td>\n",
              "      <td>-1</td>\n",
              "    </tr>\n",
              "    <tr>\n",
              "      <th>9</th>\n",
              "      <td>0.708073</td>\n",
              "      <td>0.110923</td>\n",
              "      <td>1</td>\n",
              "    </tr>\n",
              "    <tr>\n",
              "      <th>10</th>\n",
              "      <td>0.020584</td>\n",
              "      <td>-1.150994</td>\n",
              "      <td>-1</td>\n",
              "    </tr>\n",
              "    <tr>\n",
              "      <th>11</th>\n",
              "      <td>0.969910</td>\n",
              "      <td>0.375698</td>\n",
              "      <td>1</td>\n",
              "    </tr>\n",
              "    <tr>\n",
              "      <th>12</th>\n",
              "      <td>0.832443</td>\n",
              "      <td>-0.600639</td>\n",
              "      <td>-1</td>\n",
              "    </tr>\n",
              "    <tr>\n",
              "      <th>13</th>\n",
              "      <td>0.212339</td>\n",
              "      <td>-0.291694</td>\n",
              "      <td>-1</td>\n",
              "    </tr>\n",
              "    <tr>\n",
              "      <th>14</th>\n",
              "      <td>0.181825</td>\n",
              "      <td>-0.601707</td>\n",
              "      <td>-1</td>\n",
              "    </tr>\n",
              "    <tr>\n",
              "      <th>15</th>\n",
              "      <td>0.183405</td>\n",
              "      <td>1.852278</td>\n",
              "      <td>1</td>\n",
              "    </tr>\n",
              "    <tr>\n",
              "      <th>16</th>\n",
              "      <td>0.304242</td>\n",
              "      <td>-0.013497</td>\n",
              "      <td>-1</td>\n",
              "    </tr>\n",
              "    <tr>\n",
              "      <th>17</th>\n",
              "      <td>0.524756</td>\n",
              "      <td>-1.057711</td>\n",
              "      <td>-1</td>\n",
              "    </tr>\n",
              "    <tr>\n",
              "      <th>18</th>\n",
              "      <td>0.431945</td>\n",
              "      <td>0.822545</td>\n",
              "      <td>1</td>\n",
              "    </tr>\n",
              "    <tr>\n",
              "      <th>19</th>\n",
              "      <td>0.291229</td>\n",
              "      <td>-1.220844</td>\n",
              "      <td>-1</td>\n",
              "    </tr>\n",
              "  </tbody>\n",
              "</table>\n",
              "</div>"
            ],
            "text/plain": [
              "        col1      col2  col3\n",
              "0   0.374540 -1.012831    -1\n",
              "1   0.950714  0.314247     1\n",
              "2   0.731994 -0.908024    -1\n",
              "3   0.598658 -1.412304    -1\n",
              "4   0.156019  1.465649     1\n",
              "5   0.155995 -0.225776    -1\n",
              "6   0.058084  0.067528     1\n",
              "7   0.866176 -1.424748    -1\n",
              "8   0.601115 -0.544383    -1\n",
              "9   0.708073  0.110923     1\n",
              "10  0.020584 -1.150994    -1\n",
              "11  0.969910  0.375698     1\n",
              "12  0.832443 -0.600639    -1\n",
              "13  0.212339 -0.291694    -1\n",
              "14  0.181825 -0.601707    -1\n",
              "15  0.183405  1.852278     1\n",
              "16  0.304242 -0.013497    -1\n",
              "17  0.524756 -1.057711    -1\n",
              "18  0.431945  0.822545     1\n",
              "19  0.291229 -1.220844    -1"
            ]
          },
          "metadata": {
            "tags": []
          },
          "execution_count": 6
        }
      ]
    },
    {
      "cell_type": "markdown",
      "metadata": {
        "id": "4xTKSUzg10MK"
      },
      "source": [
        "### <a name='4'></a> Ćwiczenie 144\n",
        "Przypisz nową kolumnę o nazwie _col4_, która przytnie wartości z kolumny _col2_ do przedziału $[-1.0, 1.0]$. \n",
        "Innymi słowy, dla wartości poniżej -1.0 należy wstawić wartość -1.0, dla wartości powyżej 1.0 wartość 1.0.\n"
      ]
    },
    {
      "cell_type": "code",
      "metadata": {
        "id": "Bg_ChMCrNR4Q",
        "colab": {
          "base_uri": "https://localhost:8080/",
          "height": 669
        },
        "outputId": "5edcf72d-a1a4-4c2d-ac35-de9207213dc1"
      },
      "source": [
        "df['col4'] = df['col2'].clip(-1,1)\n",
        "df"
      ],
      "execution_count": null,
      "outputs": [
        {
          "output_type": "execute_result",
          "data": {
            "text/html": [
              "<div>\n",
              "<style scoped>\n",
              "    .dataframe tbody tr th:only-of-type {\n",
              "        vertical-align: middle;\n",
              "    }\n",
              "\n",
              "    .dataframe tbody tr th {\n",
              "        vertical-align: top;\n",
              "    }\n",
              "\n",
              "    .dataframe thead th {\n",
              "        text-align: right;\n",
              "    }\n",
              "</style>\n",
              "<table border=\"1\" class=\"dataframe\">\n",
              "  <thead>\n",
              "    <tr style=\"text-align: right;\">\n",
              "      <th></th>\n",
              "      <th>col1</th>\n",
              "      <th>col2</th>\n",
              "      <th>col3</th>\n",
              "      <th>col4</th>\n",
              "    </tr>\n",
              "  </thead>\n",
              "  <tbody>\n",
              "    <tr>\n",
              "      <th>0</th>\n",
              "      <td>0.374540</td>\n",
              "      <td>-1.012831</td>\n",
              "      <td>-1</td>\n",
              "      <td>-1.000000</td>\n",
              "    </tr>\n",
              "    <tr>\n",
              "      <th>1</th>\n",
              "      <td>0.950714</td>\n",
              "      <td>0.314247</td>\n",
              "      <td>1</td>\n",
              "      <td>0.314247</td>\n",
              "    </tr>\n",
              "    <tr>\n",
              "      <th>2</th>\n",
              "      <td>0.731994</td>\n",
              "      <td>-0.908024</td>\n",
              "      <td>-1</td>\n",
              "      <td>-0.908024</td>\n",
              "    </tr>\n",
              "    <tr>\n",
              "      <th>3</th>\n",
              "      <td>0.598658</td>\n",
              "      <td>-1.412304</td>\n",
              "      <td>-1</td>\n",
              "      <td>-1.000000</td>\n",
              "    </tr>\n",
              "    <tr>\n",
              "      <th>4</th>\n",
              "      <td>0.156019</td>\n",
              "      <td>1.465649</td>\n",
              "      <td>1</td>\n",
              "      <td>1.000000</td>\n",
              "    </tr>\n",
              "    <tr>\n",
              "      <th>5</th>\n",
              "      <td>0.155995</td>\n",
              "      <td>-0.225776</td>\n",
              "      <td>-1</td>\n",
              "      <td>-0.225776</td>\n",
              "    </tr>\n",
              "    <tr>\n",
              "      <th>6</th>\n",
              "      <td>0.058084</td>\n",
              "      <td>0.067528</td>\n",
              "      <td>1</td>\n",
              "      <td>0.067528</td>\n",
              "    </tr>\n",
              "    <tr>\n",
              "      <th>7</th>\n",
              "      <td>0.866176</td>\n",
              "      <td>-1.424748</td>\n",
              "      <td>-1</td>\n",
              "      <td>-1.000000</td>\n",
              "    </tr>\n",
              "    <tr>\n",
              "      <th>8</th>\n",
              "      <td>0.601115</td>\n",
              "      <td>-0.544383</td>\n",
              "      <td>-1</td>\n",
              "      <td>-0.544383</td>\n",
              "    </tr>\n",
              "    <tr>\n",
              "      <th>9</th>\n",
              "      <td>0.708073</td>\n",
              "      <td>0.110923</td>\n",
              "      <td>1</td>\n",
              "      <td>0.110923</td>\n",
              "    </tr>\n",
              "    <tr>\n",
              "      <th>10</th>\n",
              "      <td>0.020584</td>\n",
              "      <td>-1.150994</td>\n",
              "      <td>-1</td>\n",
              "      <td>-1.000000</td>\n",
              "    </tr>\n",
              "    <tr>\n",
              "      <th>11</th>\n",
              "      <td>0.969910</td>\n",
              "      <td>0.375698</td>\n",
              "      <td>1</td>\n",
              "      <td>0.375698</td>\n",
              "    </tr>\n",
              "    <tr>\n",
              "      <th>12</th>\n",
              "      <td>0.832443</td>\n",
              "      <td>-0.600639</td>\n",
              "      <td>-1</td>\n",
              "      <td>-0.600639</td>\n",
              "    </tr>\n",
              "    <tr>\n",
              "      <th>13</th>\n",
              "      <td>0.212339</td>\n",
              "      <td>-0.291694</td>\n",
              "      <td>-1</td>\n",
              "      <td>-0.291694</td>\n",
              "    </tr>\n",
              "    <tr>\n",
              "      <th>14</th>\n",
              "      <td>0.181825</td>\n",
              "      <td>-0.601707</td>\n",
              "      <td>-1</td>\n",
              "      <td>-0.601707</td>\n",
              "    </tr>\n",
              "    <tr>\n",
              "      <th>15</th>\n",
              "      <td>0.183405</td>\n",
              "      <td>1.852278</td>\n",
              "      <td>1</td>\n",
              "      <td>1.000000</td>\n",
              "    </tr>\n",
              "    <tr>\n",
              "      <th>16</th>\n",
              "      <td>0.304242</td>\n",
              "      <td>-0.013497</td>\n",
              "      <td>-1</td>\n",
              "      <td>-0.013497</td>\n",
              "    </tr>\n",
              "    <tr>\n",
              "      <th>17</th>\n",
              "      <td>0.524756</td>\n",
              "      <td>-1.057711</td>\n",
              "      <td>-1</td>\n",
              "      <td>-1.000000</td>\n",
              "    </tr>\n",
              "    <tr>\n",
              "      <th>18</th>\n",
              "      <td>0.431945</td>\n",
              "      <td>0.822545</td>\n",
              "      <td>1</td>\n",
              "      <td>0.822545</td>\n",
              "    </tr>\n",
              "    <tr>\n",
              "      <th>19</th>\n",
              "      <td>0.291229</td>\n",
              "      <td>-1.220844</td>\n",
              "      <td>-1</td>\n",
              "      <td>-1.000000</td>\n",
              "    </tr>\n",
              "  </tbody>\n",
              "</table>\n",
              "</div>"
            ],
            "text/plain": [
              "        col1      col2  col3      col4\n",
              "0   0.374540 -1.012831    -1 -1.000000\n",
              "1   0.950714  0.314247     1  0.314247\n",
              "2   0.731994 -0.908024    -1 -0.908024\n",
              "3   0.598658 -1.412304    -1 -1.000000\n",
              "4   0.156019  1.465649     1  1.000000\n",
              "5   0.155995 -0.225776    -1 -0.225776\n",
              "6   0.058084  0.067528     1  0.067528\n",
              "7   0.866176 -1.424748    -1 -1.000000\n",
              "8   0.601115 -0.544383    -1 -0.544383\n",
              "9   0.708073  0.110923     1  0.110923\n",
              "10  0.020584 -1.150994    -1 -1.000000\n",
              "11  0.969910  0.375698     1  0.375698\n",
              "12  0.832443 -0.600639    -1 -0.600639\n",
              "13  0.212339 -0.291694    -1 -0.291694\n",
              "14  0.181825 -0.601707    -1 -0.601707\n",
              "15  0.183405  1.852278     1  1.000000\n",
              "16  0.304242 -0.013497    -1 -0.013497\n",
              "17  0.524756 -1.057711    -1 -1.000000\n",
              "18  0.431945  0.822545     1  0.822545\n",
              "19  0.291229 -1.220844    -1 -1.000000"
            ]
          },
          "metadata": {
            "tags": []
          },
          "execution_count": 7
        }
      ]
    },
    {
      "cell_type": "markdown",
      "metadata": {
        "id": "o3HKIKlP15Ro"
      },
      "source": [
        "### <a name='5'></a> Ćwiczenie 145\n",
        "Znajdź 5 największych wartości dla kolumny _col2_."
      ]
    },
    {
      "cell_type": "code",
      "metadata": {
        "id": "jGG0OO6aU2dU",
        "colab": {
          "base_uri": "https://localhost:8080/"
        },
        "outputId": "4bfb5fb3-ad10-4074-fc77-e8938ec79522"
      },
      "source": [
        "df['col2'].nlargest(5)"
      ],
      "execution_count": null,
      "outputs": [
        {
          "output_type": "execute_result",
          "data": {
            "text/plain": [
              "15    1.852278\n",
              "4     1.465649\n",
              "18    0.822545\n",
              "11    0.375698\n",
              "1     0.314247\n",
              "Name: col2, dtype: float64"
            ]
          },
          "metadata": {
            "tags": []
          },
          "execution_count": 8
        }
      ]
    },
    {
      "cell_type": "markdown",
      "metadata": {
        "id": "gj1J1dG7VQWJ"
      },
      "source": [
        "Znajdź 5 najmniejszych wartości dla kolumny _col2_."
      ]
    },
    {
      "cell_type": "code",
      "metadata": {
        "id": "VSD75nMoVPS-",
        "colab": {
          "base_uri": "https://localhost:8080/"
        },
        "outputId": "49839f92-5ff5-4173-9138-33fdcffd96f7"
      },
      "source": [
        "df['col2'].nsmallest(5)"
      ],
      "execution_count": null,
      "outputs": [
        {
          "output_type": "execute_result",
          "data": {
            "text/plain": [
              "7    -1.424748\n",
              "3    -1.412304\n",
              "19   -1.220844\n",
              "10   -1.150994\n",
              "17   -1.057711\n",
              "Name: col2, dtype: float64"
            ]
          },
          "metadata": {
            "tags": []
          },
          "execution_count": 9
        }
      ]
    },
    {
      "cell_type": "markdown",
      "metadata": {
        "id": "PunXd_Ey16so"
      },
      "source": [
        "### <a name='6'></a> Ćwiczenie 146\n",
        "Wyznacz skumulowaną sumę dla każdej kolumny.\n",
        "\n",
        "__Wskazówka:__ Użyj metody _pd.DataFrame.cumsum()_."
      ]
    },
    {
      "cell_type": "code",
      "metadata": {
        "id": "1_dpccwOVg0I",
        "colab": {
          "base_uri": "https://localhost:8080/",
          "height": 669
        },
        "outputId": "b97637ef-6326-478d-ba3c-923bb8b0d75e"
      },
      "source": [
        "df.cumsum()"
      ],
      "execution_count": null,
      "outputs": [
        {
          "output_type": "execute_result",
          "data": {
            "text/html": [
              "<div>\n",
              "<style scoped>\n",
              "    .dataframe tbody tr th:only-of-type {\n",
              "        vertical-align: middle;\n",
              "    }\n",
              "\n",
              "    .dataframe tbody tr th {\n",
              "        vertical-align: top;\n",
              "    }\n",
              "\n",
              "    .dataframe thead th {\n",
              "        text-align: right;\n",
              "    }\n",
              "</style>\n",
              "<table border=\"1\" class=\"dataframe\">\n",
              "  <thead>\n",
              "    <tr style=\"text-align: right;\">\n",
              "      <th></th>\n",
              "      <th>col1</th>\n",
              "      <th>col2</th>\n",
              "      <th>col3</th>\n",
              "      <th>col4</th>\n",
              "    </tr>\n",
              "  </thead>\n",
              "  <tbody>\n",
              "    <tr>\n",
              "      <th>0</th>\n",
              "      <td>0.374540</td>\n",
              "      <td>-1.012831</td>\n",
              "      <td>-1</td>\n",
              "      <td>-1.000000</td>\n",
              "    </tr>\n",
              "    <tr>\n",
              "      <th>1</th>\n",
              "      <td>1.325254</td>\n",
              "      <td>-0.698584</td>\n",
              "      <td>0</td>\n",
              "      <td>-0.685753</td>\n",
              "    </tr>\n",
              "    <tr>\n",
              "      <th>2</th>\n",
              "      <td>2.057248</td>\n",
              "      <td>-1.606608</td>\n",
              "      <td>-1</td>\n",
              "      <td>-1.593777</td>\n",
              "    </tr>\n",
              "    <tr>\n",
              "      <th>3</th>\n",
              "      <td>2.655907</td>\n",
              "      <td>-3.018912</td>\n",
              "      <td>-2</td>\n",
              "      <td>-2.593777</td>\n",
              "    </tr>\n",
              "    <tr>\n",
              "      <th>4</th>\n",
              "      <td>2.811925</td>\n",
              "      <td>-1.553263</td>\n",
              "      <td>-1</td>\n",
              "      <td>-1.593777</td>\n",
              "    </tr>\n",
              "    <tr>\n",
              "      <th>5</th>\n",
              "      <td>2.967920</td>\n",
              "      <td>-1.779039</td>\n",
              "      <td>-2</td>\n",
              "      <td>-1.819553</td>\n",
              "    </tr>\n",
              "    <tr>\n",
              "      <th>6</th>\n",
              "      <td>3.026004</td>\n",
              "      <td>-1.711511</td>\n",
              "      <td>-1</td>\n",
              "      <td>-1.752025</td>\n",
              "    </tr>\n",
              "    <tr>\n",
              "      <th>7</th>\n",
              "      <td>3.892180</td>\n",
              "      <td>-3.136259</td>\n",
              "      <td>-2</td>\n",
              "      <td>-2.752025</td>\n",
              "    </tr>\n",
              "    <tr>\n",
              "      <th>8</th>\n",
              "      <td>4.493295</td>\n",
              "      <td>-3.680642</td>\n",
              "      <td>-3</td>\n",
              "      <td>-3.296408</td>\n",
              "    </tr>\n",
              "    <tr>\n",
              "      <th>9</th>\n",
              "      <td>5.201367</td>\n",
              "      <td>-3.569719</td>\n",
              "      <td>-2</td>\n",
              "      <td>-3.185485</td>\n",
              "    </tr>\n",
              "    <tr>\n",
              "      <th>10</th>\n",
              "      <td>5.221952</td>\n",
              "      <td>-4.720713</td>\n",
              "      <td>-3</td>\n",
              "      <td>-4.185485</td>\n",
              "    </tr>\n",
              "    <tr>\n",
              "      <th>11</th>\n",
              "      <td>6.191862</td>\n",
              "      <td>-4.345015</td>\n",
              "      <td>-2</td>\n",
              "      <td>-3.809787</td>\n",
              "    </tr>\n",
              "    <tr>\n",
              "      <th>12</th>\n",
              "      <td>7.024304</td>\n",
              "      <td>-4.945653</td>\n",
              "      <td>-3</td>\n",
              "      <td>-4.410426</td>\n",
              "    </tr>\n",
              "    <tr>\n",
              "      <th>13</th>\n",
              "      <td>7.236643</td>\n",
              "      <td>-5.237347</td>\n",
              "      <td>-4</td>\n",
              "      <td>-4.702119</td>\n",
              "    </tr>\n",
              "    <tr>\n",
              "      <th>14</th>\n",
              "      <td>7.418468</td>\n",
              "      <td>-5.839054</td>\n",
              "      <td>-5</td>\n",
              "      <td>-5.303826</td>\n",
              "    </tr>\n",
              "    <tr>\n",
              "      <th>15</th>\n",
              "      <td>7.601873</td>\n",
              "      <td>-3.986776</td>\n",
              "      <td>-4</td>\n",
              "      <td>-4.303826</td>\n",
              "    </tr>\n",
              "    <tr>\n",
              "      <th>16</th>\n",
              "      <td>7.906115</td>\n",
              "      <td>-4.000273</td>\n",
              "      <td>-5</td>\n",
              "      <td>-4.317323</td>\n",
              "    </tr>\n",
              "    <tr>\n",
              "      <th>17</th>\n",
              "      <td>8.430872</td>\n",
              "      <td>-5.057984</td>\n",
              "      <td>-6</td>\n",
              "      <td>-5.317323</td>\n",
              "    </tr>\n",
              "    <tr>\n",
              "      <th>18</th>\n",
              "      <td>8.862817</td>\n",
              "      <td>-4.235439</td>\n",
              "      <td>-5</td>\n",
              "      <td>-4.494778</td>\n",
              "    </tr>\n",
              "    <tr>\n",
              "      <th>19</th>\n",
              "      <td>9.154046</td>\n",
              "      <td>-5.456283</td>\n",
              "      <td>-6</td>\n",
              "      <td>-5.494778</td>\n",
              "    </tr>\n",
              "  </tbody>\n",
              "</table>\n",
              "</div>"
            ],
            "text/plain": [
              "        col1      col2  col3      col4\n",
              "0   0.374540 -1.012831    -1 -1.000000\n",
              "1   1.325254 -0.698584     0 -0.685753\n",
              "2   2.057248 -1.606608    -1 -1.593777\n",
              "3   2.655907 -3.018912    -2 -2.593777\n",
              "4   2.811925 -1.553263    -1 -1.593777\n",
              "5   2.967920 -1.779039    -2 -1.819553\n",
              "6   3.026004 -1.711511    -1 -1.752025\n",
              "7   3.892180 -3.136259    -2 -2.752025\n",
              "8   4.493295 -3.680642    -3 -3.296408\n",
              "9   5.201367 -3.569719    -2 -3.185485\n",
              "10  5.221952 -4.720713    -3 -4.185485\n",
              "11  6.191862 -4.345015    -2 -3.809787\n",
              "12  7.024304 -4.945653    -3 -4.410426\n",
              "13  7.236643 -5.237347    -4 -4.702119\n",
              "14  7.418468 -5.839054    -5 -5.303826\n",
              "15  7.601873 -3.986776    -4 -4.303826\n",
              "16  7.906115 -4.000273    -5 -4.317323\n",
              "17  8.430872 -5.057984    -6 -5.317323\n",
              "18  8.862817 -4.235439    -5 -4.494778\n",
              "19  9.154046 -5.456283    -6 -5.494778"
            ]
          },
          "metadata": {
            "tags": []
          },
          "execution_count": 16
        }
      ]
    },
    {
      "cell_type": "markdown",
      "metadata": {
        "id": "hOhqDRz618Tx"
      },
      "source": [
        "### <a name='7'></a> Ćwiczenie 147\n",
        "Wyznacz medianę dla zmiennej _col2_ (inaczej kwantyl rzędu 0.5)."
      ]
    },
    {
      "cell_type": "code",
      "metadata": {
        "id": "2j0U0daiWk5Z",
        "colab": {
          "base_uri": "https://localhost:8080/"
        },
        "outputId": "3348f5cc-b779-4380-90a8-b5dd86aaa8d0"
      },
      "source": [
        "df['col2'].median()"
      ],
      "execution_count": null,
      "outputs": [
        {
          "output_type": "execute_result",
          "data": {
            "text/plain": [
              "-0.4180382371592297"
            ]
          },
          "metadata": {
            "tags": []
          },
          "execution_count": 17
        }
      ]
    },
    {
      "cell_type": "markdown",
      "metadata": {
        "id": "TXUd_4631-gw"
      },
      "source": [
        "### <a name='8'></a> Ćwiczenie 148\n",
        "Wytnij wiersze, dla których zmienna _col2_ przyjmuje wartości większe od 0.0."
      ]
    },
    {
      "cell_type": "code",
      "metadata": {
        "id": "FKDAKaugW9Pd",
        "colab": {
          "base_uri": "https://localhost:8080/",
          "height": 266
        },
        "outputId": "45ede24b-0df3-40d4-f5bb-535d56d63f09"
      },
      "source": [
        "df.query('col2 > 0')"
      ],
      "execution_count": null,
      "outputs": [
        {
          "output_type": "execute_result",
          "data": {
            "text/html": [
              "<div>\n",
              "<style scoped>\n",
              "    .dataframe tbody tr th:only-of-type {\n",
              "        vertical-align: middle;\n",
              "    }\n",
              "\n",
              "    .dataframe tbody tr th {\n",
              "        vertical-align: top;\n",
              "    }\n",
              "\n",
              "    .dataframe thead th {\n",
              "        text-align: right;\n",
              "    }\n",
              "</style>\n",
              "<table border=\"1\" class=\"dataframe\">\n",
              "  <thead>\n",
              "    <tr style=\"text-align: right;\">\n",
              "      <th></th>\n",
              "      <th>col1</th>\n",
              "      <th>col2</th>\n",
              "      <th>col3</th>\n",
              "      <th>col4</th>\n",
              "    </tr>\n",
              "  </thead>\n",
              "  <tbody>\n",
              "    <tr>\n",
              "      <th>1</th>\n",
              "      <td>0.950714</td>\n",
              "      <td>0.314247</td>\n",
              "      <td>1</td>\n",
              "      <td>0.314247</td>\n",
              "    </tr>\n",
              "    <tr>\n",
              "      <th>4</th>\n",
              "      <td>0.156019</td>\n",
              "      <td>1.465649</td>\n",
              "      <td>1</td>\n",
              "      <td>1.000000</td>\n",
              "    </tr>\n",
              "    <tr>\n",
              "      <th>6</th>\n",
              "      <td>0.058084</td>\n",
              "      <td>0.067528</td>\n",
              "      <td>1</td>\n",
              "      <td>0.067528</td>\n",
              "    </tr>\n",
              "    <tr>\n",
              "      <th>9</th>\n",
              "      <td>0.708073</td>\n",
              "      <td>0.110923</td>\n",
              "      <td>1</td>\n",
              "      <td>0.110923</td>\n",
              "    </tr>\n",
              "    <tr>\n",
              "      <th>11</th>\n",
              "      <td>0.969910</td>\n",
              "      <td>0.375698</td>\n",
              "      <td>1</td>\n",
              "      <td>0.375698</td>\n",
              "    </tr>\n",
              "    <tr>\n",
              "      <th>15</th>\n",
              "      <td>0.183405</td>\n",
              "      <td>1.852278</td>\n",
              "      <td>1</td>\n",
              "      <td>1.000000</td>\n",
              "    </tr>\n",
              "    <tr>\n",
              "      <th>18</th>\n",
              "      <td>0.431945</td>\n",
              "      <td>0.822545</td>\n",
              "      <td>1</td>\n",
              "      <td>0.822545</td>\n",
              "    </tr>\n",
              "  </tbody>\n",
              "</table>\n",
              "</div>"
            ],
            "text/plain": [
              "        col1      col2  col3      col4\n",
              "1   0.950714  0.314247     1  0.314247\n",
              "4   0.156019  1.465649     1  1.000000\n",
              "6   0.058084  0.067528     1  0.067528\n",
              "9   0.708073  0.110923     1  0.110923\n",
              "11  0.969910  0.375698     1  0.375698\n",
              "15  0.183405  1.852278     1  1.000000\n",
              "18  0.431945  0.822545     1  0.822545"
            ]
          },
          "metadata": {
            "tags": []
          },
          "execution_count": 18
        }
      ]
    },
    {
      "cell_type": "markdown",
      "metadata": {
        "id": "tgI6xEn-2AQo"
      },
      "source": [
        "### <a name='9'></a> Ćwiczenie 149\n",
        "Wytnij 5 pierwszych wierszy obiektu _df_ i przekształć je do słownika."
      ]
    },
    {
      "cell_type": "code",
      "metadata": {
        "id": "HTXId5eFXgyY",
        "colab": {
          "base_uri": "https://localhost:8080/"
        },
        "outputId": "ef80dfbb-aef3-4b41-e250-5742b1b99c95"
      },
      "source": [
        "df.head().to_dict()"
      ],
      "execution_count": null,
      "outputs": [
        {
          "output_type": "execute_result",
          "data": {
            "text/plain": [
              "{'col1': {0: 0.3745401188473625,\n",
              "  1: 0.9507143064099162,\n",
              "  2: 0.7319939418114051,\n",
              "  3: 0.5986584841970366,\n",
              "  4: 0.15601864044243652},\n",
              " 'col2': {0: -1.0128311203344238,\n",
              "  1: 0.3142473325952739,\n",
              "  2: -0.9080240755212109,\n",
              "  3: -1.4123037013352915,\n",
              "  4: 1.465648768921554},\n",
              " 'col3': {0: -1, 1: 1, 2: -1, 3: -1, 4: 1},\n",
              " 'col4': {0: -1.0,\n",
              "  1: 0.3142473325952739,\n",
              "  2: -0.9080240755212109,\n",
              "  3: -1.0,\n",
              "  4: 1.0}}"
            ]
          },
          "metadata": {
            "tags": []
          },
          "execution_count": 20
        }
      ]
    },
    {
      "cell_type": "markdown",
      "metadata": {
        "id": "wxhpf-uq2B1I"
      },
      "source": [
        "### <a name='10'></a> Ćwiczenie 150\n",
        "Wytnij 5 pierwszych wierszy obiektu _df_, przekształć je do formatu Markdown i przypisz do zmiennej _df_markdown_."
      ]
    },
    {
      "cell_type": "code",
      "metadata": {
        "id": "YFc0KW6URsuc"
      },
      "source": [
        "df_markdown = df.head().to_markdown()"
      ],
      "execution_count": null,
      "outputs": []
    },
    {
      "cell_type": "markdown",
      "metadata": {
        "id": "-_xCdTQpYqFx"
      },
      "source": [
        "Wydrukuj do konsoli zawartość zmiennej _df_markdown_."
      ]
    },
    {
      "cell_type": "code",
      "metadata": {
        "id": "xXI_Km1nX7wA",
        "colab": {
          "base_uri": "https://localhost:8080/"
        },
        "outputId": "daa73ee5-2c68-41f2-aa71-dd84454627bd"
      },
      "source": [
        "print(df_markdown)"
      ],
      "execution_count": null,
      "outputs": [
        {
          "output_type": "stream",
          "text": [
            "|    |     col1 |      col2 |   col3 |      col4 |\n",
            "|---:|---------:|----------:|-------:|----------:|\n",
            "|  0 | 0.37454  | -1.01283  |     -1 | -1        |\n",
            "|  1 | 0.950714 |  0.314247 |      1 |  0.314247 |\n",
            "|  2 | 0.731994 | -0.908024 |     -1 | -0.908024 |\n",
            "|  3 | 0.598658 | -1.4123   |     -1 | -1        |\n",
            "|  4 | 0.156019 |  1.46565  |      1 |  1        |\n"
          ],
          "name": "stdout"
        }
      ]
    },
    {
      "cell_type": "markdown",
      "metadata": {
        "id": "mtO9QK5XYune"
      },
      "source": [
        "Skopiuj wynik uruchomienia powyższej komórki i wklej poniżej:\n",
        "\n",
        "\\# tutaj wpisz rozwiązanie\n"
      ]
    }
  ]
}