{
  "nbformat": 4,
  "nbformat_minor": 0,
  "metadata": {
    "colab": {
      "name": "221-230_exercises.ipynb",
      "provenance": [],
      "collapsed_sections": []
    },
    "kernelspec": {
      "name": "python3",
      "display_name": "Python 3"
    }
  },
  "cells": [
    {
      "cell_type": "markdown",
      "metadata": {
        "id": "WLEgCW5F1hho"
      },
      "source": [
        "## Data Science Bootcamp\n",
        "\n",
        "### Spis treści:\n",
        "* [Import biblioteki](#0)\n",
        "* [Ćwiczenie 221](#1)\n",
        "* [Ćwiczenie 222](#2)\n",
        "* [Ćwiczenie 223](#3)\n",
        "* [Ćwiczenie 224](#4)\n",
        "* [Ćwiczenie 225](#5)\n",
        "* [Ćwiczenie 226](#6)\n",
        "* [Ćwiczenie 227](#7)\n",
        "* [Ćwiczenie 228](#8)\n",
        "* [Ćwiczenie 229](#9)\n",
        "* [Ćwiczenie 230](#10)"
      ]
    },
    {
      "cell_type": "markdown",
      "metadata": {
        "id": "zeLOLmTj1kBM"
      },
      "source": [
        "### <a name='0'></a>Import biblioteki"
      ]
    },
    {
      "cell_type": "code",
      "metadata": {
        "id": "HXMB7SMe1Wnz",
        "colab": {
          "base_uri": "https://localhost:8080/",
          "height": 35
        },
        "outputId": "4d38f1fe-a519-46b2-a977-393ee719d98d"
      },
      "source": [
        "import numpy as np\n",
        "np.random.seed(20)\n",
        "\n",
        "np.__version__"
      ],
      "execution_count": null,
      "outputs": [
        {
          "output_type": "execute_result",
          "data": {
            "application/vnd.google.colaboratory.intrinsic+json": {
              "type": "string"
            },
            "text/plain": [
              "'1.19.5'"
            ]
          },
          "metadata": {
            "tags": []
          },
          "execution_count": 1
        }
      ]
    },
    {
      "cell_type": "markdown",
      "metadata": {
        "id": "ooAbgODbViP4"
      },
      "source": [
        "### <a name='a11'></a> Rozwiązywanie układów równań\n",
        "Rozważmy układ równań $U$:  \n",
        "$${\\displaystyle \\mathrm {U} \\colon {\\begin{cases}{\\begin{matrix}a_{11}x_{1}&+&a_{12}x_{2}&+&\\dots &+&a_{1n}x_{n}&=b_{1},\\\\a_{21}x_{1}&+&a_{22}x_{2}&+&\\dots &+&a_{2n}x_{n}&=b_{2},\\\\\\vdots &&\\vdots &&\\ddots &&\\vdots &\\vdots \\\\a_{m1}x_{1}&+&a_{m2}x_{2}&+&\\dots &+&a_{mn}x_{n}&=b_{m}.\\end{matrix}}\\end{cases}}.}$$\n",
        "\n",
        "Wykorzystując macierze możemy to przedstawić następująco:\n",
        "\n",
        "$${\\begin{bmatrix}a_{11}&a_{12}&\\dots &a_{1n}\\\\a_{21}&a_{22}&\\dots &a_{2n}\\\\\\vdots &\\vdots &\\ddots &\\vdots \\\\a_{m1}&a_{m2}&\\dots &a_{mn}\\end{bmatrix}}{\\begin{bmatrix}x_{1}\\\\x_{2}\\\\\\vdots \\\\x_{n}\\end{bmatrix}}={\\begin{bmatrix}b_{1}\\\\b_{2}\\\\\\vdots \\\\b_{m}\\end{bmatrix}}$$\n",
        "I w zapisie skrótowym:\n",
        "$$\\mathbf {AX} =\\mathbf {B}$$\n",
        "\n",
        "Gdzie:  \n",
        "$A = {\\begin{bmatrix}a_{11}&a_{12}&\\dots &a_{1n}\\\\a_{21}&a_{22}&\\dots &a_{2n}\\\\\\vdots &\\vdots &\\ddots &\\vdots \\\\a_{m1}&a_{m2}&\\dots &a_{mn}\\end{bmatrix}}$ - macierz współczynników\n",
        "\n",
        "${\\displaystyle \\mathbf {B} =[b_{1},b_{2},\\dots ,b_{m}]} $ - wektor wyrazów wolnych  \n",
        "${\\mathbf  X}=[x_{1},x_{2},\\dots ,x_{n}] $ - wektor niewiadomych\n",
        "\n",
        "Jeśli macierz układu $A$ jest macierzą kwadratową, to oznaczoność układu jest równoważna jej odwracalności, tzn.\n",
        "$$\\mathbf {AX} =\\mathbf {B}$$\n",
        "$${\\displaystyle \\mathbf {A} ^{-1}\\mathbf {AX} =\\mathbf {A} ^{-1}\\mathbf {B}} $$\n",
        "$$\\mathbf {X} =\\mathbf {A} ^{-1}\\mathbf {B} .$$\n",
        "\n",
        "#### Przykład:\n",
        "Rozważmy układ równań:\n",
        "$$\\begin{cases}2x + 4y = 10 \\\\ x - y = -1 \\end{cases}$$  \n",
        "Rozwiązaniem jest para liczb:\n",
        "$$\\begin{cases}x = 1 \\\\ y = 2 \\end{cases}$$  \n"
      ]
    },
    {
      "cell_type": "markdown",
      "metadata": {
        "id": "cyc70pMe1oCg"
      },
      "source": [
        "### <a name='1'></a> Ćwiczenie 221\n",
        "Wykorzystując bibliotekę numpy rozwiąż poniższy układ równań:\n",
        "\n",
        "$$\\begin{cases}5x - 3y = 21 \\\\ x - 2y = 7 \\end{cases}$$"
      ]
    },
    {
      "cell_type": "code",
      "metadata": {
        "id": "gkffRbwLWITv"
      },
      "source": [
        "A = np.array([[5,3],\n",
        "              [1,-2]])\n",
        "B = np.array([[21],\n",
        "             [7]])"
      ],
      "execution_count": null,
      "outputs": []
    },
    {
      "cell_type": "code",
      "metadata": {
        "id": "zZtQwPnAxqaJ"
      },
      "source": [
        "x = np.linalg.solve(A,B)"
      ],
      "execution_count": null,
      "outputs": []
    },
    {
      "cell_type": "markdown",
      "metadata": {
        "id": "A4xh1szhhZm_"
      },
      "source": [
        "Dokonaj sprawdzenia. \n",
        "\n",
        "__Wskazówka:__ Użyj funkcji _np.allclose()_."
      ]
    },
    {
      "cell_type": "code",
      "metadata": {
        "id": "Ar65MwdrYNRS",
        "colab": {
          "base_uri": "https://localhost:8080/"
        },
        "outputId": "7a2108c8-4f0e-4234-c573-62acdef5ea69"
      },
      "source": [
        "np.allclose(np.dot(A, x), B)"
      ],
      "execution_count": null,
      "outputs": [
        {
          "output_type": "execute_result",
          "data": {
            "text/plain": [
              "True"
            ]
          },
          "metadata": {
            "tags": []
          },
          "execution_count": 10
        }
      ]
    },
    {
      "cell_type": "markdown",
      "metadata": {
        "id": "J9pY1rtr1sC0"
      },
      "source": [
        "### <a name='2'></a> Ćwiczenie 222\n",
        "Wykorzystując bibliotekę numpy rozwiąż poniższy układ równań:\n",
        "\n",
        "$$\\begin{cases}x + y + z = 1 \\\\ 2x + y + 5z = 0 \\\\ x - y = z \\end{cases}$$"
      ]
    },
    {
      "cell_type": "code",
      "metadata": {
        "id": "X-BSJv65XJ3U"
      },
      "source": [
        "A = np.array([[1,1,1],\n",
        "              [2,1,5],\n",
        "              [1,-1,-1]])\n",
        "\n",
        "B = np.array([[1],\n",
        "             [0],\n",
        "             [0]])"
      ],
      "execution_count": null,
      "outputs": []
    },
    {
      "cell_type": "code",
      "metadata": {
        "id": "pcaz-cJS3laM"
      },
      "source": [
        "x = np.linalg.solve(A,B)"
      ],
      "execution_count": null,
      "outputs": []
    },
    {
      "cell_type": "markdown",
      "metadata": {
        "id": "kUqnyHaOh1zz"
      },
      "source": [
        "Dokonaj sprawdzenia. \n",
        "\n",
        "__Wskazówka:__ Użyj funkcji _np.allclose()_."
      ]
    },
    {
      "cell_type": "code",
      "metadata": {
        "id": "XfjwJyaVYBZw",
        "colab": {
          "base_uri": "https://localhost:8080/"
        },
        "outputId": "ba08c246-0078-4070-85df-2189e7d8ded5"
      },
      "source": [
        "np.allclose(np.dot(A, x), B)"
      ],
      "execution_count": null,
      "outputs": [
        {
          "output_type": "execute_result",
          "data": {
            "text/plain": [
              "True"
            ]
          },
          "metadata": {
            "tags": []
          },
          "execution_count": 19
        }
      ]
    },
    {
      "cell_type": "markdown",
      "metadata": {
        "id": "XQLYT2m11wVG"
      },
      "source": [
        "### <a name='3'></a> Ćwiczenie 223\n",
        "Załaduj popularny zbiór danych IRIS do zmiennej _data_raw_ wykorzystując bibliotekę _scikit-learn_."
      ]
    },
    {
      "cell_type": "code",
      "metadata": {
        "id": "gshNLxTAYvdQ"
      },
      "source": [
        "from sklearn.datasets import load_iris\n",
        "data_raw = load_iris()"
      ],
      "execution_count": null,
      "outputs": []
    },
    {
      "cell_type": "markdown",
      "metadata": {
        "id": "43j_BUe2ZgkH"
      },
      "source": [
        "Wyświetl opis zbioru IRIS"
      ]
    },
    {
      "cell_type": "code",
      "metadata": {
        "id": "WHeXfhvsZfxn",
        "colab": {
          "base_uri": "https://localhost:8080/"
        },
        "outputId": "ca309ff4-eb5b-42e6-be37-17ec0857c715"
      },
      "source": [
        "print(data_raw['DESCR'])"
      ],
      "execution_count": null,
      "outputs": [
        {
          "output_type": "stream",
          "text": [
            ".. _iris_dataset:\n",
            "\n",
            "Iris plants dataset\n",
            "--------------------\n",
            "\n",
            "**Data Set Characteristics:**\n",
            "\n",
            "    :Number of Instances: 150 (50 in each of three classes)\n",
            "    :Number of Attributes: 4 numeric, predictive attributes and the class\n",
            "    :Attribute Information:\n",
            "        - sepal length in cm\n",
            "        - sepal width in cm\n",
            "        - petal length in cm\n",
            "        - petal width in cm\n",
            "        - class:\n",
            "                - Iris-Setosa\n",
            "                - Iris-Versicolour\n",
            "                - Iris-Virginica\n",
            "                \n",
            "    :Summary Statistics:\n",
            "\n",
            "    ============== ==== ==== ======= ===== ====================\n",
            "                    Min  Max   Mean    SD   Class Correlation\n",
            "    ============== ==== ==== ======= ===== ====================\n",
            "    sepal length:   4.3  7.9   5.84   0.83    0.7826\n",
            "    sepal width:    2.0  4.4   3.05   0.43   -0.4194\n",
            "    petal length:   1.0  6.9   3.76   1.76    0.9490  (high!)\n",
            "    petal width:    0.1  2.5   1.20   0.76    0.9565  (high!)\n",
            "    ============== ==== ==== ======= ===== ====================\n",
            "\n",
            "    :Missing Attribute Values: None\n",
            "    :Class Distribution: 33.3% for each of 3 classes.\n",
            "    :Creator: R.A. Fisher\n",
            "    :Donor: Michael Marshall (MARSHALL%PLU@io.arc.nasa.gov)\n",
            "    :Date: July, 1988\n",
            "\n",
            "The famous Iris database, first used by Sir R.A. Fisher. The dataset is taken\n",
            "from Fisher's paper. Note that it's the same as in R, but not as in the UCI\n",
            "Machine Learning Repository, which has two wrong data points.\n",
            "\n",
            "This is perhaps the best known database to be found in the\n",
            "pattern recognition literature.  Fisher's paper is a classic in the field and\n",
            "is referenced frequently to this day.  (See Duda & Hart, for example.)  The\n",
            "data set contains 3 classes of 50 instances each, where each class refers to a\n",
            "type of iris plant.  One class is linearly separable from the other 2; the\n",
            "latter are NOT linearly separable from each other.\n",
            "\n",
            ".. topic:: References\n",
            "\n",
            "   - Fisher, R.A. \"The use of multiple measurements in taxonomic problems\"\n",
            "     Annual Eugenics, 7, Part II, 179-188 (1936); also in \"Contributions to\n",
            "     Mathematical Statistics\" (John Wiley, NY, 1950).\n",
            "   - Duda, R.O., & Hart, P.E. (1973) Pattern Classification and Scene Analysis.\n",
            "     (Q327.D83) John Wiley & Sons.  ISBN 0-471-22361-1.  See page 218.\n",
            "   - Dasarathy, B.V. (1980) \"Nosing Around the Neighborhood: A New System\n",
            "     Structure and Classification Rule for Recognition in Partially Exposed\n",
            "     Environments\".  IEEE Transactions on Pattern Analysis and Machine\n",
            "     Intelligence, Vol. PAMI-2, No. 1, 67-71.\n",
            "   - Gates, G.W. (1972) \"The Reduced Nearest Neighbor Rule\".  IEEE Transactions\n",
            "     on Information Theory, May 1972, 431-433.\n",
            "   - See also: 1988 MLC Proceedings, 54-64.  Cheeseman et al\"s AUTOCLASS II\n",
            "     conceptual clustering system finds 3 classes in the data.\n",
            "   - Many, many more ...\n"
          ],
          "name": "stdout"
        }
      ]
    },
    {
      "cell_type": "markdown",
      "metadata": {
        "id": "35HLC1jCZq9x"
      },
      "source": [
        "Wyświetl nazwy zmiennych w zbiorze."
      ]
    },
    {
      "cell_type": "code",
      "metadata": {
        "id": "9-ndsHwQZuK3",
        "colab": {
          "base_uri": "https://localhost:8080/"
        },
        "outputId": "fa251fd4-283c-49fd-f9f7-23374dda6dbb"
      },
      "source": [
        "data_raw.keys()"
      ],
      "execution_count": null,
      "outputs": [
        {
          "output_type": "execute_result",
          "data": {
            "text/plain": [
              "dict_keys(['data', 'target', 'target_names', 'DESCR', 'feature_names', 'filename'])"
            ]
          },
          "metadata": {
            "tags": []
          },
          "execution_count": 28
        }
      ]
    },
    {
      "cell_type": "markdown",
      "metadata": {
        "id": "5JPv3pTxZzH_"
      },
      "source": [
        "Wyświetl nazwy klas w zbiorze."
      ]
    },
    {
      "cell_type": "code",
      "metadata": {
        "id": "fkE9V9lBZ1uH",
        "colab": {
          "base_uri": "https://localhost:8080/"
        },
        "outputId": "d7ec6081-d2a7-4f57-b0e7-13584546e73c"
      },
      "source": [
        "data_raw['feature_names']"
      ],
      "execution_count": null,
      "outputs": [
        {
          "output_type": "execute_result",
          "data": {
            "text/plain": [
              "['sepal length (cm)',\n",
              " 'sepal width (cm)',\n",
              " 'petal length (cm)',\n",
              " 'petal width (cm)']"
            ]
          },
          "metadata": {
            "tags": []
          },
          "execution_count": 29
        }
      ]
    },
    {
      "cell_type": "code",
      "metadata": {
        "colab": {
          "base_uri": "https://localhost:8080/"
        },
        "id": "MZAc9xdc5T1E",
        "outputId": "d9b0dcc2-d71b-41a0-e288-ac5797ccf64d"
      },
      "source": [
        "data_raw['target_names']"
      ],
      "execution_count": null,
      "outputs": [
        {
          "output_type": "execute_result",
          "data": {
            "text/plain": [
              "array(['setosa', 'versicolor', 'virginica'], dtype='<U10')"
            ]
          },
          "metadata": {
            "tags": []
          },
          "execution_count": 30
        }
      ]
    },
    {
      "cell_type": "markdown",
      "metadata": {
        "id": "4xTKSUzg10MK"
      },
      "source": [
        "### <a name='4'></a> Ćwiczenie 224\n",
        "Do zmiennej _data_ przypisz dane (tablica numpy) zbioru IRIS. "
      ]
    },
    {
      "cell_type": "code",
      "metadata": {
        "id": "8Eaf0Ze6Z7U5"
      },
      "source": [
        "data = data_raw['data']"
      ],
      "execution_count": null,
      "outputs": []
    },
    {
      "cell_type": "markdown",
      "metadata": {
        "id": "ZFUjH3O4aE5p"
      },
      "source": [
        "Do zmiennej _target_ przypisz wartości zmiennej docelowej ze zbioru IRIS."
      ]
    },
    {
      "cell_type": "code",
      "metadata": {
        "id": "YqyXeVCTaGjM"
      },
      "source": [
        "target = data_raw['target']"
      ],
      "execution_count": null,
      "outputs": []
    },
    {
      "cell_type": "markdown",
      "metadata": {
        "id": "-kTAqyiYaVGV"
      },
      "source": [
        "Zbadaj kształt zmiennej _data_ oraz _target_."
      ]
    },
    {
      "cell_type": "code",
      "metadata": {
        "id": "QlSfawFNaYk1",
        "colab": {
          "base_uri": "https://localhost:8080/"
        },
        "outputId": "f6e199a2-b7f3-4d55-bf6c-dfee6b498cfc"
      },
      "source": [
        "data.shape"
      ],
      "execution_count": null,
      "outputs": [
        {
          "output_type": "execute_result",
          "data": {
            "text/plain": [
              "(150, 4)"
            ]
          },
          "metadata": {
            "tags": []
          },
          "execution_count": 35
        }
      ]
    },
    {
      "cell_type": "code",
      "metadata": {
        "colab": {
          "base_uri": "https://localhost:8080/"
        },
        "id": "hbolm8zZ50Qx",
        "outputId": "e1640ca1-8437-4ec6-830f-2906e19ee87d"
      },
      "source": [
        "target.shape"
      ],
      "execution_count": null,
      "outputs": [
        {
          "output_type": "execute_result",
          "data": {
            "text/plain": [
              "(150,)"
            ]
          },
          "metadata": {
            "tags": []
          },
          "execution_count": 36
        }
      ]
    },
    {
      "cell_type": "markdown",
      "metadata": {
        "id": "o3HKIKlP15Ro"
      },
      "source": [
        "### <a name='5'></a> Ćwiczenie 225\n",
        "Podziel dane na zbiór treningowy (_data_train_, _target_train_) i testowy (_data_test_, _target_test_). Rozmiar zbioru testowego to 30% próbek."
      ]
    },
    {
      "cell_type": "code",
      "metadata": {
        "id": "ninOmgfazd6v"
      },
      "source": [
        "from sklearn.model_selection import train_test_split\n",
        "data_train,data_test,target_train,target_test = train_test_split(data,target,test_size=0.3)"
      ],
      "execution_count": null,
      "outputs": []
    },
    {
      "cell_type": "markdown",
      "metadata": {
        "id": "tkQQXkt009F_"
      },
      "source": [
        "Wyświetl rozmiar zbiorów:\n",
        "* _data_train_\n",
        "* _target_train_\n",
        "* _data_test_\n",
        "* _target_test_"
      ]
    },
    {
      "cell_type": "code",
      "metadata": {
        "id": "xtq2Z_-P1KF5",
        "colab": {
          "base_uri": "https://localhost:8080/"
        },
        "outputId": "1b9750a8-e541-421e-c431-e4d037796586"
      },
      "source": [
        "print(data_train.shape)"
      ],
      "execution_count": null,
      "outputs": [
        {
          "output_type": "stream",
          "text": [
            "(105, 4)\n"
          ],
          "name": "stdout"
        }
      ]
    },
    {
      "cell_type": "code",
      "metadata": {
        "colab": {
          "base_uri": "https://localhost:8080/"
        },
        "id": "VqfEWdgl6Vzv",
        "outputId": "cea00678-de2c-4703-b878-538a0bc175fc"
      },
      "source": [
        "print(data_test.shape)"
      ],
      "execution_count": null,
      "outputs": [
        {
          "output_type": "stream",
          "text": [
            "(45, 4)\n"
          ],
          "name": "stdout"
        }
      ]
    },
    {
      "cell_type": "code",
      "metadata": {
        "colab": {
          "base_uri": "https://localhost:8080/"
        },
        "id": "YgNj3rEO6g94",
        "outputId": "02b8d659-f1b9-4129-e9d0-ee10bf50f6fd"
      },
      "source": [
        "print(target_train.shape)"
      ],
      "execution_count": null,
      "outputs": [
        {
          "output_type": "stream",
          "text": [
            "(105,)\n"
          ],
          "name": "stdout"
        }
      ]
    },
    {
      "cell_type": "markdown",
      "metadata": {
        "id": "PunXd_Ey16so"
      },
      "source": [
        "### <a name='6'></a> Ćwiczenie 226 \n",
        "Zbuduj model regresji logistcznej (ustaw domyślne wartości parametrów) wykorzystując bibliotekę scikit-learn oraz dane IRIS."
      ]
    },
    {
      "cell_type": "code",
      "metadata": {
        "id": "zxm23bKf1SG7"
      },
      "source": [
        "from sklearn.linear_model import LogisticRegression"
      ],
      "execution_count": null,
      "outputs": []
    },
    {
      "cell_type": "code",
      "metadata": {
        "id": "YF2JEcR9Cntr"
      },
      "source": [
        "log_reg = LogisticRegression()"
      ],
      "execution_count": null,
      "outputs": []
    },
    {
      "cell_type": "markdown",
      "metadata": {
        "id": "FWRzSV8L1ZUU"
      },
      "source": [
        "Dopasuj dane treningowe do modelu."
      ]
    },
    {
      "cell_type": "code",
      "metadata": {
        "id": "L1VBQhUZ1ckh",
        "colab": {
          "base_uri": "https://localhost:8080/"
        },
        "outputId": "0e90af51-3180-4c0b-8930-933e48783521"
      },
      "source": [
        "log_reg.fit(data_train,target_train)"
      ],
      "execution_count": null,
      "outputs": [
        {
          "output_type": "execute_result",
          "data": {
            "text/plain": [
              "LogisticRegression(C=1.0, class_weight=None, dual=False, fit_intercept=True,\n",
              "                   intercept_scaling=1, l1_ratio=None, max_iter=100,\n",
              "                   multi_class='auto', n_jobs=None, penalty='l2',\n",
              "                   random_state=None, solver='lbfgs', tol=0.0001, verbose=0,\n",
              "                   warm_start=False)"
            ]
          },
          "metadata": {
            "tags": []
          },
          "execution_count": 47
        }
      ]
    },
    {
      "cell_type": "markdown",
      "metadata": {
        "id": "hOhqDRz618Tx"
      },
      "source": [
        "### <a name='7'></a> Ćwiczenie 227\n",
        "Dokonaj oceny modelu na zbiorze treningowym."
      ]
    },
    {
      "cell_type": "code",
      "metadata": {
        "id": "5gZWLrht1-vl",
        "colab": {
          "base_uri": "https://localhost:8080/"
        },
        "outputId": "edaa3758-caeb-4b08-8afe-a9f34bedb4a2"
      },
      "source": [
        "log_reg.score(data_train,target_train)"
      ],
      "execution_count": null,
      "outputs": [
        {
          "output_type": "execute_result",
          "data": {
            "text/plain": [
              "0.9904761904761905"
            ]
          },
          "metadata": {
            "tags": []
          },
          "execution_count": 48
        }
      ]
    },
    {
      "cell_type": "markdown",
      "metadata": {
        "id": "YSg63Pcv2QJP"
      },
      "source": [
        "Dokonaj oceny modelu na zbiorze testowym."
      ]
    },
    {
      "cell_type": "code",
      "metadata": {
        "id": "spCcLOtX2TXQ",
        "colab": {
          "base_uri": "https://localhost:8080/"
        },
        "outputId": "4d6b1e2f-e1e8-4686-b17e-4cf6f89cf63c"
      },
      "source": [
        "log_reg.score(data_test,target_test)"
      ],
      "execution_count": null,
      "outputs": [
        {
          "output_type": "execute_result",
          "data": {
            "text/plain": [
              "0.9777777777777777"
            ]
          },
          "metadata": {
            "tags": []
          },
          "execution_count": 50
        }
      ]
    },
    {
      "cell_type": "markdown",
      "metadata": {
        "id": "TXUd_4631-gw"
      },
      "source": [
        "### <a name='8'></a> Ćwiczenie 228\n",
        "Dokonaj predykcji na danych testowych na podstawie modelu i przypisz je do zmiennej _target\\_pred_."
      ]
    },
    {
      "cell_type": "code",
      "metadata": {
        "id": "AyjKyB5r2ZhQ"
      },
      "source": [
        "target_pred = log_reg.predict(data_test)"
      ],
      "execution_count": null,
      "outputs": []
    },
    {
      "cell_type": "markdown",
      "metadata": {
        "id": "VDZq3lde2heB"
      },
      "source": [
        "Wyświetl zmienną _target\\_pred_."
      ]
    },
    {
      "cell_type": "code",
      "metadata": {
        "id": "KaooHHRt2tJB",
        "colab": {
          "base_uri": "https://localhost:8080/"
        },
        "outputId": "8646ea15-2f8d-47d5-df5f-b9849b571973"
      },
      "source": [
        "target_pred"
      ],
      "execution_count": null,
      "outputs": [
        {
          "output_type": "execute_result",
          "data": {
            "text/plain": [
              "array([0, 2, 1, 1, 0, 0, 2, 1, 0, 1, 2, 0, 1, 1, 2, 0, 1, 1, 2, 0, 2, 1,\n",
              "       1, 1, 2, 1, 1, 1, 0, 2, 0, 2, 0, 1, 1, 1, 0, 0, 1, 1, 0, 2, 2, 0,\n",
              "       1])"
            ]
          },
          "metadata": {
            "tags": []
          },
          "execution_count": 52
        }
      ]
    },
    {
      "cell_type": "markdown",
      "metadata": {
        "id": "EYvlbXM82v34"
      },
      "source": [
        "Wyświetl zmienną _target\\_test_."
      ]
    },
    {
      "cell_type": "code",
      "metadata": {
        "id": "5RxQBgvK2yrR",
        "colab": {
          "base_uri": "https://localhost:8080/"
        },
        "outputId": "78abf2a6-7e3a-4b4d-9da1-e55c6cda7636"
      },
      "source": [
        "target_test"
      ],
      "execution_count": null,
      "outputs": [
        {
          "output_type": "execute_result",
          "data": {
            "text/plain": [
              "array([0, 2, 1, 1, 0, 0, 2, 1, 0, 1, 2, 0, 2, 1, 2, 0, 1, 1, 2, 0, 2, 1,\n",
              "       1, 1, 2, 1, 1, 1, 0, 2, 0, 2, 0, 1, 1, 1, 0, 0, 1, 1, 0, 2, 2, 0,\n",
              "       1])"
            ]
          },
          "metadata": {
            "tags": []
          },
          "execution_count": 53
        }
      ]
    },
    {
      "cell_type": "markdown",
      "metadata": {
        "id": "tgI6xEn-2AQo"
      },
      "source": [
        "### <a name='9'></a> Ćwiczenie 229\n",
        "Wyznacz macierz pomyłek (macierz konfuzji) "
      ]
    },
    {
      "cell_type": "code",
      "metadata": {
        "id": "r0mbpM943D2J"
      },
      "source": [
        "from sklearn.metrics import confusion_matrix\n",
        "conf = confusion_matrix(target_test,target_pred)"
      ],
      "execution_count": null,
      "outputs": []
    },
    {
      "cell_type": "code",
      "metadata": {
        "colab": {
          "base_uri": "https://localhost:8080/"
        },
        "id": "0Vir7wx4EQV_",
        "outputId": "84b307f1-e416-4121-c6fc-9025ef7e62ea"
      },
      "source": [
        "conf"
      ],
      "execution_count": null,
      "outputs": [
        {
          "output_type": "execute_result",
          "data": {
            "text/plain": [
              "array([[14,  0,  0],\n",
              "       [ 0, 19,  0],\n",
              "       [ 0,  1, 11]])"
            ]
          },
          "metadata": {
            "tags": []
          },
          "execution_count": 56
        }
      ]
    },
    {
      "cell_type": "markdown",
      "metadata": {
        "id": "wxhpf-uq2B1I"
      },
      "source": [
        "### <a name='10'></a> Ćwiczenie 230\n",
        "Wyświetl raport klasyfikacji modelu."
      ]
    },
    {
      "cell_type": "code",
      "metadata": {
        "id": "YFc0KW6URsuc"
      },
      "source": [
        "from sklearn.metrics import classification_report\n",
        "report = classification_report(target_test,target_pred)"
      ],
      "execution_count": null,
      "outputs": []
    },
    {
      "cell_type": "code",
      "metadata": {
        "colab": {
          "base_uri": "https://localhost:8080/"
        },
        "id": "jUwtSXfUEyT0",
        "outputId": "86d61fee-e12b-460e-9432-289b7807eca4"
      },
      "source": [
        "print(report)"
      ],
      "execution_count": null,
      "outputs": [
        {
          "output_type": "stream",
          "text": [
            "              precision    recall  f1-score   support\n",
            "\n",
            "           0       1.00      1.00      1.00        14\n",
            "           1       0.95      1.00      0.97        19\n",
            "           2       1.00      0.92      0.96        12\n",
            "\n",
            "    accuracy                           0.98        45\n",
            "   macro avg       0.98      0.97      0.98        45\n",
            "weighted avg       0.98      0.98      0.98        45\n",
            "\n"
          ],
          "name": "stdout"
        }
      ]
    },
    {
      "cell_type": "code",
      "metadata": {
        "id": "wxAJqvWlE2w6"
      },
      "source": [
        ""
      ],
      "execution_count": null,
      "outputs": []
    }
  ]
}